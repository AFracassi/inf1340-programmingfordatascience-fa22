{
  "nbformat": 4,
  "nbformat_minor": 0,
  "metadata": {
    "colab": {
      "provenance": [],
      "collapsed_sections": [],
      "authorship_tag": "ABX9TyOCPdqR1W28A5g9EnHdpL6J",
      "include_colab_link": true
    },
    "kernelspec": {
      "name": "python3",
      "display_name": "Python 3"
    },
    "language_info": {
      "name": "python"
    }
  },
  "cells": [
    {
      "cell_type": "markdown",
      "metadata": {
        "id": "view-in-github",
        "colab_type": "text"
      },
      "source": [
        "<a href=\"https://colab.research.google.com/github/maidahshah/inf1340-programmingfordatascience-fa22/blob/main/INF1340_Week_2.ipynb\" target=\"_parent\"><img src=\"https://colab.research.google.com/assets/colab-badge.svg\" alt=\"Open In Colab\"/></a>"
      ]
    },
    {
      "cell_type": "code",
      "execution_count": null,
      "metadata": {
        "colab": {
          "base_uri": "https://localhost:8080/"
        },
        "id": "Jbaok5dJQfuO",
        "outputId": "d28953ab-83df-4876-e4ef-060abe08773f"
      },
      "outputs": [
        {
          "output_type": "stream",
          "name": "stdout",
          "text": [
            "2\n"
          ]
        }
      ],
      "source": [
        "# this is a comment\n",
        "a = 2\n",
        "print(a)"
      ]
    },
    {
      "cell_type": "code",
      "source": [
        "# this is another cell\n",
        "# string variable\n",
        "b = \"this is a string\"\n",
        "print(b)"
      ],
      "metadata": {
        "colab": {
          "base_uri": "https://localhost:8080/"
        },
        "id": "B5TbOIf-RECI",
        "outputId": "86f0bff4-5d74-4f3e-a645-3b4c86f596a9"
      },
      "execution_count": null,
      "outputs": [
        {
          "output_type": "stream",
          "name": "stdout",
          "text": [
            "this is a string\n"
          ]
        }
      ]
    },
    {
      "cell_type": "code",
      "source": [
        "# simple operations\n",
        "c = 4\n",
        "d = 5\n",
        "e = c + d\n",
        "print(e)"
      ],
      "metadata": {
        "colab": {
          "base_uri": "https://localhost:8080/"
        },
        "id": "TMwAmdfmRYX1",
        "outputId": "75efe633-dbc6-480a-e860-bb02a18c5ec6"
      },
      "execution_count": null,
      "outputs": [
        {
          "output_type": "stream",
          "name": "stdout",
          "text": [
            "9\n"
          ]
        }
      ]
    },
    {
      "cell_type": "code",
      "source": [
        "f = d * c\n",
        "print(f)"
      ],
      "metadata": {
        "colab": {
          "base_uri": "https://localhost:8080/"
        },
        "id": "0mOgVLXhR5FY",
        "outputId": "02dc95b3-ecae-4237-c603-438d1913be5d"
      },
      "execution_count": null,
      "outputs": [
        {
          "output_type": "stream",
          "name": "stdout",
          "text": [
            "20\n"
          ]
        }
      ]
    },
    {
      "cell_type": "code",
      "source": [
        "g = ((a+c) ^2) * d # ^ as exponent or **\n",
        "print(g)"
      ],
      "metadata": {
        "colab": {
          "base_uri": "https://localhost:8080/"
        },
        "id": "sRhd4sr0Scge",
        "outputId": "44d04c04-5b36-4104-8f32-1a183296e7ce"
      },
      "execution_count": null,
      "outputs": [
        {
          "output_type": "stream",
          "name": "stdout",
          "text": [
            "20\n"
          ]
        }
      ]
    },
    {
      "cell_type": "code",
      "source": [
        "# concatenation\n",
        "h = \"this is another string\"\n",
        "print(b+\" \"+h) # test\n"
      ],
      "metadata": {
        "colab": {
          "base_uri": "https://localhost:8080/"
        },
        "id": "LIB8uvSUSuT0",
        "outputId": "33aeed31-bb67-48e3-e51e-bba400733681"
      },
      "execution_count": null,
      "outputs": [
        {
          "output_type": "stream",
          "name": "stdout",
          "text": [
            "this is a string this is another string\n"
          ]
        }
      ]
    },
    {
      "cell_type": "code",
      "source": [
        "#modulus\n",
        "i = f % 3\n",
        "print(i)"
      ],
      "metadata": {
        "colab": {
          "base_uri": "https://localhost:8080/"
        },
        "id": "wlGVD2wTTUCV",
        "outputId": "63dbc060-cfbc-4360-f4e7-89085d9737f6"
      },
      "execution_count": null,
      "outputs": [
        {
          "output_type": "stream",
          "name": "stdout",
          "text": [
            "2\n"
          ]
        }
      ]
    },
    {
      "cell_type": "code",
      "source": [
        "a = 2\n",
        "b = 4\n",
        "# 0 = false, 1 = true\n",
        "# if a = 2 and b = 3 --> 0\n",
        "# if a = 2 or b = 3 --> 1\n",
        "# not a = 3 --> 1"
      ],
      "metadata": {
        "id": "i3Io4DcZWvGJ"
      },
      "execution_count": null,
      "outputs": []
    },
    {
      "cell_type": "code",
      "source": [
        "print(10 > 9)"
      ],
      "metadata": {
        "colab": {
          "base_uri": "https://localhost:8080/"
        },
        "id": "DvSVuSVqX7zU",
        "outputId": "d13d8bd7-8bb2-4bbb-f804-9241c7d6692c"
      },
      "execution_count": null,
      "outputs": [
        {
          "output_type": "stream",
          "name": "stdout",
          "text": [
            "True\n"
          ]
        }
      ]
    },
    {
      "cell_type": "code",
      "source": [
        "print(10==9) # == means not equivalent (boolean text), = means equality (assignment)"
      ],
      "metadata": {
        "colab": {
          "base_uri": "https://localhost:8080/"
        },
        "id": "Ct9R2JZsYR5o",
        "outputId": "787326e3-db07-4764-9797-80010ea4f513"
      },
      "execution_count": null,
      "outputs": [
        {
          "output_type": "stream",
          "name": "stdout",
          "text": [
            "False\n"
          ]
        }
      ]
    },
    {
      "cell_type": "code",
      "source": [
        "# in python, && is and, ll is or, ! is not"
      ],
      "metadata": {
        "id": "KfWDCAo6ZPAz"
      },
      "execution_count": null,
      "outputs": []
    },
    {
      "cell_type": "code",
      "source": [
        "# importing\n",
        "import numpy\n",
        "import numpy as np\n",
        "from numpy import *\n",
        "from numpy import dplyrr\n",
        "import pandas as pd\n",
        "from pd import * # these commands usually go to the beginning of the table"
      ],
      "metadata": {
        "id": "STjk533qaWRL"
      },
      "execution_count": null,
      "outputs": []
    },
    {
      "cell_type": "code",
      "source": [
        "x = 2\n",
        "y = 3\n",
        "z = print(x==y)\n",
        "print(z)"
      ],
      "metadata": {
        "colab": {
          "base_uri": "https://localhost:8080/"
        },
        "id": "ENZKxJYKwv3X",
        "outputId": "12443b42-1ccd-44b3-f238-fa6de61b0c4a"
      },
      "execution_count": null,
      "outputs": [
        {
          "output_type": "stream",
          "name": "stdout",
          "text": [
            "False\n",
            "None\n"
          ]
        }
      ]
    },
    {
      "cell_type": "code",
      "source": [
        "print(4+3%(5-2))"
      ],
      "metadata": {
        "colab": {
          "base_uri": "https://localhost:8080/"
        },
        "id": "2AkDH9ebxCGG",
        "outputId": "b39c160e-63fa-4743-faab-8fd21f9a3205"
      },
      "execution_count": null,
      "outputs": [
        {
          "output_type": "stream",
          "name": "stdout",
          "text": [
            "4\n"
          ]
        }
      ]
    },
    {
      "cell_type": "code",
      "source": [
        "x = 2\n",
        "y = 3\n",
        "z = print(x==y)\n",
        "print(z)"
      ],
      "metadata": {
        "colab": {
          "base_uri": "https://localhost:8080/"
        },
        "id": "b0Gt2b5dxznG",
        "outputId": "3a2362bc-2be5-4aa7-9b7d-294ebc519386"
      },
      "execution_count": null,
      "outputs": [
        {
          "output_type": "stream",
          "name": "stdout",
          "text": [
            "False\n",
            "None\n"
          ]
        }
      ]
    },
    {
      "cell_type": "code",
      "source": [
        "print(4+3%(5-2))"
      ],
      "metadata": {
        "colab": {
          "base_uri": "https://localhost:8080/"
        },
        "id": "jLOPnsgOx3aZ",
        "outputId": "c64aa25a-9868-478f-af3d-58a8e392c838"
      },
      "execution_count": null,
      "outputs": [
        {
          "output_type": "stream",
          "name": "stdout",
          "text": [
            "4\n"
          ]
        }
      ]
    },
    {
      "cell_type": "code",
      "source": [
        "from math import pi"
      ],
      "metadata": {
        "id": "PoAUAheSx79u"
      },
      "execution_count": null,
      "outputs": []
    },
    {
      "cell_type": "code",
      "source": [
        "from math import pi, sqrt"
      ],
      "metadata": {
        "id": "o9XBhz6Ix-cq"
      },
      "execution_count": null,
      "outputs": []
    },
    {
      "cell_type": "code",
      "source": [
        "from math import *"
      ],
      "metadata": {
        "id": "1vDyI6WmyBzv"
      },
      "execution_count": null,
      "outputs": []
    },
    {
      "cell_type": "code",
      "source": [
        "from cmath import sqrt as csqrt"
      ],
      "metadata": {
        "id": "OE0fjQwLyE07"
      },
      "execution_count": null,
      "outputs": []
    },
    {
      "cell_type": "code",
      "source": [
        "import math as m"
      ],
      "metadata": {
        "id": "VSQSE3FNyJog"
      },
      "execution_count": null,
      "outputs": []
    }
  ]
}