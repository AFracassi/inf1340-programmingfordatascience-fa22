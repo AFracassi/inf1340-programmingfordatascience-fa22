{
  "nbformat": 4,
  "nbformat_minor": 0,
  "metadata": {
    "colab": {
      "provenance": [],
      "collapsed_sections": [
        "5_LTtndTF8R9",
        "hMF7Xl6GZaLM",
        "pZQHbwtAkHuk",
        "heNu3KOkmh3u"
      ],
      "toc_visible": true
    },
    "kernelspec": {
      "name": "python3",
      "display_name": "Python 3"
    },
    "language_info": {
      "name": "python"
    }
  },
  "cells": [
    {
      "cell_type": "markdown",
      "source": [
        "#import excel file\n"
      ],
      "metadata": {
        "id": "WJn59A8YmXt_"
      }
    },
    {
      "cell_type": "code",
      "execution_count": 6,
      "metadata": {
        "id": "juco_rjY516v"
      },
      "outputs": [],
      "source": [
        "import numpy as np\n",
        "import pandas as pd\n",
        "pd.set_option(\"display.width\",1000)\n",
        "pd.set_option(\"display.max_columns\",None)\n",
        "pd.set_option(\"display.max_rows\", None)"
      ]
    },
    {
      "cell_type": "markdown",
      "source": [
        "#Contents"
      ],
      "metadata": {
        "id": "5_LTtndTF8R9"
      }
    },
    {
      "cell_type": "code",
      "source": [
        "#Clean the content to understand the main idea of the excel file \n",
        "data_content = pd.read_excel(\"/content/UN_MigrantStockTotal_2015.xlsx\",sheet_name = \"CONTENTS\",index_col=[0,1])\n",
        "data_content = pd.DataFrame(data_content)\n",
        "data_content.style.hide_index()\n",
        "data_content.drop(data_content.index[0:14],inplace=True)"
      ],
      "metadata": {
        "id": "VZc7aprXFp6n"
      },
      "execution_count": 17,
      "outputs": []
    },
    {
      "cell_type": "code",
      "source": [
        "# display the content\n",
        "data_content"
      ],
      "metadata": {
        "id": "hgP7eFKSdQRf"
      },
      "execution_count": null,
      "outputs": []
    },
    {
      "cell_type": "markdown",
      "source": [
        "#Table1"
      ],
      "metadata": {
        "id": "Cgs9LPbpZIVa"
      }
    },
    {
      "cell_type": "code",
      "source": [
        "#Import Table 1 \n",
        "data_table1 = pd.read_excel(\"/content/UN_MigrantStockTotal_2015.xlsx\",sheet_name = \"Table 1\")\n",
        "\n"
      ],
      "metadata": {
        "id": "JPpvv5mRC5bq"
      },
      "execution_count": 62,
      "outputs": []
    },
    {
      "cell_type": "code",
      "source": [
        "# Clear up Table 1 and set the conlums\n",
        "header_row = 13\n",
        "data_table1.columns = data_table1.iloc[header_row]\n",
        "print(data_table1.columns)\n",
        "data1=data_table1.drop([0,1,2,3,4,5,6,7,8,9,10,11,12,13,14])\n",
        "data1.shape\n",
        "data1.head()"
      ],
      "metadata": {
        "id": "OXOUxC33gSXn"
      },
      "execution_count": null,
      "outputs": []
    },
    {
      "cell_type": "code",
      "source": [
        "# Get the numbers of rows and columns \n",
        "data1.shape"
      ],
      "metadata": {
        "id": "zzv3SUodL2rE",
        "colab": {
          "base_uri": "https://localhost:8080/"
        },
        "outputId": "d5711759-ac63-4219-8683-200d025657c5"
      },
      "execution_count": 64,
      "outputs": [
        {
          "output_type": "execute_result",
          "data": {
            "text/plain": [
              "(265, 23)"
            ]
          },
          "metadata": {},
          "execution_count": 64
        }
      ]
    },
    {
      "cell_type": "code",
      "source": [
        "#Clear up the new columns (add years)\n",
        "data1.columns = (\"Sort\\order\",\"Major area, region, country or area of destination\",\"Notes\",\"Country code\",\"Type of data (a)\",\"1990-International migrant stock at midyear /both sexes\",\"1995-International migrant stock at midyear /both sexes\",\"2000-International migrant stock at midyear /both sexes\",\"2005-International migrant stock at midyear /both sexes\",\"2010-International migrant stock at midyear /both sexes\",\"2015-International migrant stock at midyear /both sexes\",\"1990-International migrant stock at midyear /male\",\"1995-International migrant stock at midyear /male\",\"2000-International migrant stock at midyear /male\",\"2005-International migrant stock at midyear /male\",\"2010-International migrant stock at midyear /male\",\"2015-International migrant stock at midyear /male\",\"1990-International migrant stock at midyear /female\",\"1995-International migrant stock at midyear /female\",\"2000-International migrant stock at midyear /female\",\"2005-International migrant stock at midyear /female\",\"2010-International migrant stock at midyear /female\",\"2015-International migrant stock at midyear /female\")\n",
        "data1.style.hide_index()\n",
        "print(data1.columns)\n",
        "data1.shape\n",
        "data1.head()"
      ],
      "metadata": {
        "id": "31CTg3_YLmQQ"
      },
      "execution_count": null,
      "outputs": []
    },
    {
      "cell_type": "code",
      "source": [
        "# use melt to tidy the dataframe\n",
        "data1_tidy = pd.melt(frame=data1, id_vars =[\"Sort\\order\", \"Major area, region, country or area of destination\",'Notes', 'Country code', 'Type of data (a)'], var_name = \"Years/Sexes\" , value_name = \"Population of International migrant stock at mid-year\")\n",
        "data1_tidy.head(10)"
      ],
      "metadata": {
        "id": "eAjyobH3IBRw"
      },
      "execution_count": null,
      "outputs": []
    },
    {
      "cell_type": "code",
      "source": [
        "# show the numbers of rows and conlumns after melting\n",
        "data1_tidy.shape"
      ],
      "metadata": {
        "id": "NCYU05xhrez4"
      },
      "execution_count": null,
      "outputs": []
    },
    {
      "cell_type": "code",
      "source": [
        "# Since the years and sexes are in the same conlumns which is incompatible with tidydata principle\n",
        "data1_tidy[\"Years/Sexes\"].str.split(\"-\").head\n",
        "data1_tidy[\"Years/Sexes\"].str.split(\"-\",expand=True).head()\n",
        "data1_tidy[[\"Years\",\"Gender\"]]=data1_tidy[\"Years/Sexes\"].str.split(\"-\",expand=True)\n",
        "data1_tidy[\"Gender\"].str.split(\"/\").head()\n",
        "data1_tidy[\"Gender\"].str.split(\"/\",expand=True).head()\n",
        "data1_tidy[[\"International migrant stock at mid-year\",\"Gender\"]]=data1_tidy[\"Gender\"].str.split(\"/\",expand=True)\n",
        "data1_tidy.head()\n",
        "columns_name=list(data1_tidy.columns)\n",
        "columns_name\n",
        "new_columns=['Sort\\\\order','Major area, region, country or area of destination','Notes','Country code','Type of data (a)','International migrant stock at mid-year','Years','Gender','Population of International migrant stock at mid-year','Years/Sexes']\n",
        "data1_tidy=data1_tidy[new_columns]\n",
        "data1_tidy.head(50)"
      ],
      "metadata": {
        "id": "XCDhdMCrs1LO"
      },
      "execution_count": null,
      "outputs": []
    },
    {
      "cell_type": "code",
      "source": [
        "# Drop the redundant columns\n",
        "data1_tidy1=data1_tidy.drop(['Years/Sexes','International migrant stock at mid-year'], axis=1)\n",
        "data1_tidy1.head()\n"
      ],
      "metadata": {
        "id": "tjPL83ww8UmC"
      },
      "execution_count": null,
      "outputs": []
    },
    {
      "cell_type": "code",
      "source": [
        "# use groupby to filter the table by \"Major area, region, country or area of destination - Canada\"\n",
        "data1_tidy1group = data1_tidy1.groupby(\"Major area, region, country or area of destination\")\n",
        "data1_tidy1group.get_group(\"Canada\")"
      ],
      "metadata": {
        "id": "KCHa5L-jlKSG"
      },
      "execution_count": null,
      "outputs": []
    },
    {
      "cell_type": "code",
      "source": [
        "# use groupby to filter the table by \"Gender-female\"\n",
        "data1_tidy1group1 = data1_tidy1.groupby(\"Gender\")\n",
        "data1_tidy1group1.get_group(\"female\").head()"
      ],
      "metadata": {
        "id": "bEkJrwJyj_7B"
      },
      "execution_count": null,
      "outputs": []
    },
    {
      "cell_type": "markdown",
      "source": [
        "#Table2"
      ],
      "metadata": {
        "id": "hMF7Xl6GZaLM"
      }
    },
    {
      "cell_type": "code",
      "source": [
        "data_table2 = pd.read_excel(\"/content/UN_MigrantStockTotal_2015.xlsx\",sheet_name = \"Table 2\")"
      ],
      "metadata": {
        "id": "p_UxfyucIBPZ"
      },
      "execution_count": null,
      "outputs": []
    },
    {
      "cell_type": "code",
      "source": [
        "header_row = 13\n",
        "data_table2.columns = data_table2.iloc[header_row]\n",
        "print(data_table1.columns)\n",
        "data2=data_table1.drop([0,1,2,3,4,5,6,7,8,9,10,11,12,13,14])\n",
        "data2.shape\n",
        "data2.head()"
      ],
      "metadata": {
        "id": "VsnhuWXVIBM6",
        "colab": {
          "base_uri": "https://localhost:8080/",
          "height": 514
        },
        "outputId": "d18d115c-ac4f-4691-d55b-a7db8ecc50d4"
      },
      "execution_count": null,
      "outputs": [
        {
          "output_type": "stream",
          "name": "stdout",
          "text": [
            "Index(['Sort\\norder', 'Major area, region, country or area of destination', 'Notes', 'Country code', 'Type of data (a)', 'International migrant stock at mid-year (both sexes)', nan, nan, nan, nan, nan, 'International migrant stock at mid-year (male)', nan, nan, nan, nan, nan, 'International migrant stock at mid-year (female)', nan, nan, nan, nan, nan], dtype='object', name=13)\n"
          ]
        },
        {
          "output_type": "execute_result",
          "data": {
            "text/plain": [
              "13 Sort\\norder Major area, region, country or area of destination Notes Country code Type of data (a) International migrant stock at mid-year (both sexes)        NaN        NaN        NaN          NaN          NaN International migrant stock at mid-year (male)       NaN       NaN       NaN          NaN          NaN International migrant stock at mid-year (female)       NaN       NaN       NaN          NaN          NaN\n",
              "15           1                                              WORLD   NaN          900              NaN                                          152563212    160801752  172703309  191269100  221714243.0  243700236.0                                       77747510  81737477  87884839  97866674  114613714.0  126115435.0                                         74815702  79064275  84818470  93402426  107100529.0  117584801.0\n",
              "16           2                                  Developed regions   (b)          901              NaN                                           82378628     92306854  103375363  117181109  132560325.0  140481955.0                                       40263397  45092799  50536796  57217777   64081077.0   67618619.0                                         42115231  47214055  52838567  59963332   68479248.0   72863336.0\n",
              "17           3                                 Developing regions   (c)          902              NaN                                           70184584     68494898   69327946   74087991   89153918.0  103218281.0                                       37484113  36644678  37348043  40648897   50532637.0   58496816.0                                         32700471  31850220  31979903  33439094   38621281.0   44721465.0\n",
              "18           4                          Least developed countries   (d)          941              NaN                                           11075966     11711703   10077824    9809634   10018128.0   11951316.0                                        5843107   6142712   5361902   5383009    5462714.0    6463217.0                                          5236216   5573685   4721920   4432371    4560536.0    5493028.0\n",
              "19           5  Less developed regions excluding least develop...   NaN          934              NaN                                           59105261     56778501   59244124   64272611   79130668.0   91262036.0                                       31641006  30501966  31986141  35265888   45069923.0   52033599.0                                         27464255  26276535  27257983  29006723   34060745.0   39228437.0"
            ],
            "text/html": [
              "\n",
              "  <div id=\"df-7a8c624b-da9c-43e0-a06f-5c8869e43803\">\n",
              "    <div class=\"colab-df-container\">\n",
              "      <div>\n",
              "<style scoped>\n",
              "    .dataframe tbody tr th:only-of-type {\n",
              "        vertical-align: middle;\n",
              "    }\n",
              "\n",
              "    .dataframe tbody tr th {\n",
              "        vertical-align: top;\n",
              "    }\n",
              "\n",
              "    .dataframe thead th {\n",
              "        text-align: right;\n",
              "    }\n",
              "</style>\n",
              "<table border=\"1\" class=\"dataframe\">\n",
              "  <thead>\n",
              "    <tr style=\"text-align: right;\">\n",
              "      <th>13</th>\n",
              "      <th>Sort\\norder</th>\n",
              "      <th>Major area, region, country or area of destination</th>\n",
              "      <th>Notes</th>\n",
              "      <th>Country code</th>\n",
              "      <th>Type of data (a)</th>\n",
              "      <th>International migrant stock at mid-year (both sexes)</th>\n",
              "      <th>NaN</th>\n",
              "      <th>NaN</th>\n",
              "      <th>NaN</th>\n",
              "      <th>NaN</th>\n",
              "      <th>NaN</th>\n",
              "      <th>International migrant stock at mid-year (male)</th>\n",
              "      <th>NaN</th>\n",
              "      <th>NaN</th>\n",
              "      <th>NaN</th>\n",
              "      <th>NaN</th>\n",
              "      <th>NaN</th>\n",
              "      <th>International migrant stock at mid-year (female)</th>\n",
              "      <th>NaN</th>\n",
              "      <th>NaN</th>\n",
              "      <th>NaN</th>\n",
              "      <th>NaN</th>\n",
              "      <th>NaN</th>\n",
              "    </tr>\n",
              "  </thead>\n",
              "  <tbody>\n",
              "    <tr>\n",
              "      <th>15</th>\n",
              "      <td>1</td>\n",
              "      <td>WORLD</td>\n",
              "      <td>NaN</td>\n",
              "      <td>900</td>\n",
              "      <td>NaN</td>\n",
              "      <td>152563212</td>\n",
              "      <td>160801752</td>\n",
              "      <td>172703309</td>\n",
              "      <td>191269100</td>\n",
              "      <td>221714243.0</td>\n",
              "      <td>243700236.0</td>\n",
              "      <td>77747510</td>\n",
              "      <td>81737477</td>\n",
              "      <td>87884839</td>\n",
              "      <td>97866674</td>\n",
              "      <td>114613714.0</td>\n",
              "      <td>126115435.0</td>\n",
              "      <td>74815702</td>\n",
              "      <td>79064275</td>\n",
              "      <td>84818470</td>\n",
              "      <td>93402426</td>\n",
              "      <td>107100529.0</td>\n",
              "      <td>117584801.0</td>\n",
              "    </tr>\n",
              "    <tr>\n",
              "      <th>16</th>\n",
              "      <td>2</td>\n",
              "      <td>Developed regions</td>\n",
              "      <td>(b)</td>\n",
              "      <td>901</td>\n",
              "      <td>NaN</td>\n",
              "      <td>82378628</td>\n",
              "      <td>92306854</td>\n",
              "      <td>103375363</td>\n",
              "      <td>117181109</td>\n",
              "      <td>132560325.0</td>\n",
              "      <td>140481955.0</td>\n",
              "      <td>40263397</td>\n",
              "      <td>45092799</td>\n",
              "      <td>50536796</td>\n",
              "      <td>57217777</td>\n",
              "      <td>64081077.0</td>\n",
              "      <td>67618619.0</td>\n",
              "      <td>42115231</td>\n",
              "      <td>47214055</td>\n",
              "      <td>52838567</td>\n",
              "      <td>59963332</td>\n",
              "      <td>68479248.0</td>\n",
              "      <td>72863336.0</td>\n",
              "    </tr>\n",
              "    <tr>\n",
              "      <th>17</th>\n",
              "      <td>3</td>\n",
              "      <td>Developing regions</td>\n",
              "      <td>(c)</td>\n",
              "      <td>902</td>\n",
              "      <td>NaN</td>\n",
              "      <td>70184584</td>\n",
              "      <td>68494898</td>\n",
              "      <td>69327946</td>\n",
              "      <td>74087991</td>\n",
              "      <td>89153918.0</td>\n",
              "      <td>103218281.0</td>\n",
              "      <td>37484113</td>\n",
              "      <td>36644678</td>\n",
              "      <td>37348043</td>\n",
              "      <td>40648897</td>\n",
              "      <td>50532637.0</td>\n",
              "      <td>58496816.0</td>\n",
              "      <td>32700471</td>\n",
              "      <td>31850220</td>\n",
              "      <td>31979903</td>\n",
              "      <td>33439094</td>\n",
              "      <td>38621281.0</td>\n",
              "      <td>44721465.0</td>\n",
              "    </tr>\n",
              "    <tr>\n",
              "      <th>18</th>\n",
              "      <td>4</td>\n",
              "      <td>Least developed countries</td>\n",
              "      <td>(d)</td>\n",
              "      <td>941</td>\n",
              "      <td>NaN</td>\n",
              "      <td>11075966</td>\n",
              "      <td>11711703</td>\n",
              "      <td>10077824</td>\n",
              "      <td>9809634</td>\n",
              "      <td>10018128.0</td>\n",
              "      <td>11951316.0</td>\n",
              "      <td>5843107</td>\n",
              "      <td>6142712</td>\n",
              "      <td>5361902</td>\n",
              "      <td>5383009</td>\n",
              "      <td>5462714.0</td>\n",
              "      <td>6463217.0</td>\n",
              "      <td>5236216</td>\n",
              "      <td>5573685</td>\n",
              "      <td>4721920</td>\n",
              "      <td>4432371</td>\n",
              "      <td>4560536.0</td>\n",
              "      <td>5493028.0</td>\n",
              "    </tr>\n",
              "    <tr>\n",
              "      <th>19</th>\n",
              "      <td>5</td>\n",
              "      <td>Less developed regions excluding least develop...</td>\n",
              "      <td>NaN</td>\n",
              "      <td>934</td>\n",
              "      <td>NaN</td>\n",
              "      <td>59105261</td>\n",
              "      <td>56778501</td>\n",
              "      <td>59244124</td>\n",
              "      <td>64272611</td>\n",
              "      <td>79130668.0</td>\n",
              "      <td>91262036.0</td>\n",
              "      <td>31641006</td>\n",
              "      <td>30501966</td>\n",
              "      <td>31986141</td>\n",
              "      <td>35265888</td>\n",
              "      <td>45069923.0</td>\n",
              "      <td>52033599.0</td>\n",
              "      <td>27464255</td>\n",
              "      <td>26276535</td>\n",
              "      <td>27257983</td>\n",
              "      <td>29006723</td>\n",
              "      <td>34060745.0</td>\n",
              "      <td>39228437.0</td>\n",
              "    </tr>\n",
              "  </tbody>\n",
              "</table>\n",
              "</div>\n",
              "      <button class=\"colab-df-convert\" onclick=\"convertToInteractive('df-7a8c624b-da9c-43e0-a06f-5c8869e43803')\"\n",
              "              title=\"Convert this dataframe to an interactive table.\"\n",
              "              style=\"display:none;\">\n",
              "        \n",
              "  <svg xmlns=\"http://www.w3.org/2000/svg\" height=\"24px\"viewBox=\"0 0 24 24\"\n",
              "       width=\"24px\">\n",
              "    <path d=\"M0 0h24v24H0V0z\" fill=\"none\"/>\n",
              "    <path d=\"M18.56 5.44l.94 2.06.94-2.06 2.06-.94-2.06-.94-.94-2.06-.94 2.06-2.06.94zm-11 1L8.5 8.5l.94-2.06 2.06-.94-2.06-.94L8.5 2.5l-.94 2.06-2.06.94zm10 10l.94 2.06.94-2.06 2.06-.94-2.06-.94-.94-2.06-.94 2.06-2.06.94z\"/><path d=\"M17.41 7.96l-1.37-1.37c-.4-.4-.92-.59-1.43-.59-.52 0-1.04.2-1.43.59L10.3 9.45l-7.72 7.72c-.78.78-.78 2.05 0 2.83L4 21.41c.39.39.9.59 1.41.59.51 0 1.02-.2 1.41-.59l7.78-7.78 2.81-2.81c.8-.78.8-2.07 0-2.86zM5.41 20L4 18.59l7.72-7.72 1.47 1.35L5.41 20z\"/>\n",
              "  </svg>\n",
              "      </button>\n",
              "      \n",
              "  <style>\n",
              "    .colab-df-container {\n",
              "      display:flex;\n",
              "      flex-wrap:wrap;\n",
              "      gap: 12px;\n",
              "    }\n",
              "\n",
              "    .colab-df-convert {\n",
              "      background-color: #E8F0FE;\n",
              "      border: none;\n",
              "      border-radius: 50%;\n",
              "      cursor: pointer;\n",
              "      display: none;\n",
              "      fill: #1967D2;\n",
              "      height: 32px;\n",
              "      padding: 0 0 0 0;\n",
              "      width: 32px;\n",
              "    }\n",
              "\n",
              "    .colab-df-convert:hover {\n",
              "      background-color: #E2EBFA;\n",
              "      box-shadow: 0px 1px 2px rgba(60, 64, 67, 0.3), 0px 1px 3px 1px rgba(60, 64, 67, 0.15);\n",
              "      fill: #174EA6;\n",
              "    }\n",
              "\n",
              "    [theme=dark] .colab-df-convert {\n",
              "      background-color: #3B4455;\n",
              "      fill: #D2E3FC;\n",
              "    }\n",
              "\n",
              "    [theme=dark] .colab-df-convert:hover {\n",
              "      background-color: #434B5C;\n",
              "      box-shadow: 0px 1px 3px 1px rgba(0, 0, 0, 0.15);\n",
              "      filter: drop-shadow(0px 1px 2px rgba(0, 0, 0, 0.3));\n",
              "      fill: #FFFFFF;\n",
              "    }\n",
              "  </style>\n",
              "\n",
              "      <script>\n",
              "        const buttonEl =\n",
              "          document.querySelector('#df-7a8c624b-da9c-43e0-a06f-5c8869e43803 button.colab-df-convert');\n",
              "        buttonEl.style.display =\n",
              "          google.colab.kernel.accessAllowed ? 'block' : 'none';\n",
              "\n",
              "        async function convertToInteractive(key) {\n",
              "          const element = document.querySelector('#df-7a8c624b-da9c-43e0-a06f-5c8869e43803');\n",
              "          const dataTable =\n",
              "            await google.colab.kernel.invokeFunction('convertToInteractive',\n",
              "                                                     [key], {});\n",
              "          if (!dataTable) return;\n",
              "\n",
              "          const docLinkHtml = 'Like what you see? Visit the ' +\n",
              "            '<a target=\"_blank\" href=https://colab.research.google.com/notebooks/data_table.ipynb>data table notebook</a>'\n",
              "            + ' to learn more about interactive tables.';\n",
              "          element.innerHTML = '';\n",
              "          dataTable['output_type'] = 'display_data';\n",
              "          await google.colab.output.renderOutput(dataTable, element);\n",
              "          const docLink = document.createElement('div');\n",
              "          docLink.innerHTML = docLinkHtml;\n",
              "          element.appendChild(docLink);\n",
              "        }\n",
              "      </script>\n",
              "    </div>\n",
              "  </div>\n",
              "  "
            ]
          },
          "metadata": {},
          "execution_count": 227
        }
      ]
    },
    {
      "cell_type": "code",
      "source": [
        "data2.columns = (\"Sort\\order\",\"Major area, region, country or area of destination\",\"Notes\",\"Country code\",'Type of data (a)',\"1990-Total population at midyear(thousands)/both sexes\",\"1995-Total population at midyear(thousands)/both sexes\",\"2000-Total population at midyear(thousands)/both sexes\",\"2005-Total population at midyear(thousands)/both sexes\",\"2010-Total population of at midyear(thousands)/both sexes\",\"2015-Total population at midyear(thousands)/both sexes \",\"1990-Total population at midyear (thousands)/male\",\"1995-Total population at midyear (thousands)/male\",\"2000-Total population at midyear (thousands)/male\",\"2005-Total population at midyear (thousands)/male\",\"2010-Total population at midyear (thousands)/male\",\"2015-Total population at midyear (thousands)/male\",\"1990-Total population at midyear (thousands)/female\",\"1995-Total population at midyear (thousands)/female\",\"2000-Total population at midyear (thousands)/female\",\"2005-Total population at midyear (thousands)/female\",\"2010-Total population at midyear (thousands)/female\",\"2015-Total population at midyear (thousands)/female\")\n",
        "data2.style.hide_index()\n",
        "data2.shape\n",
        "data2.head()"
      ],
      "metadata": {
        "id": "5XeFHUOJIBHt"
      },
      "execution_count": null,
      "outputs": []
    },
    {
      "cell_type": "code",
      "source": [
        "data2_tidy = pd.melt(frame=data2, id_vars =[\"Sort\\order\", \"Major area, region, country or area of destination\",'Notes', 'Country code', 'Type of data (a)'], var_name = \"Years/Sexes\" , value_name = \"Total Population at mid-year (Thousands)\")\n",
        "data2_tidy.head(10)"
      ],
      "metadata": {
        "id": "cqtU6dKN2-9c"
      },
      "execution_count": null,
      "outputs": []
    },
    {
      "cell_type": "code",
      "source": [
        "data2_tidy.shape"
      ],
      "metadata": {
        "id": "TXldhU6RohiB"
      },
      "execution_count": null,
      "outputs": []
    },
    {
      "cell_type": "code",
      "source": [
        "data2_tidy[\"Years/Sexes\"].str.split(\"-\").head"
      ],
      "metadata": {
        "id": "q8egsHzioteE"
      },
      "execution_count": null,
      "outputs": []
    },
    {
      "cell_type": "code",
      "source": [
        "data2_tidy[\"Years/Sexes\"].str.split(\"-\",expand=True).head()"
      ],
      "metadata": {
        "id": "-OYWKl3po08k"
      },
      "execution_count": null,
      "outputs": []
    },
    {
      "cell_type": "code",
      "source": [
        "data2_tidy[[\"Years\",\"Gender\"]]=data2_tidy[\"Years/Sexes\"].str.split(\"-\",expand=True)\n",
        "data2_tidy.head()"
      ],
      "metadata": {
        "id": "30ARXIYkp6wg"
      },
      "execution_count": null,
      "outputs": []
    },
    {
      "cell_type": "code",
      "source": [
        "data2_tidy[\"Gender\"].str.split(\"/\").head()"
      ],
      "metadata": {
        "id": "r1xlBl-UteDk"
      },
      "execution_count": null,
      "outputs": []
    },
    {
      "cell_type": "code",
      "source": [
        "data2_tidy[\"Gender\"].str.split(\"/\",expand=True).head()"
      ],
      "metadata": {
        "id": "WwxVLbKnvXNd"
      },
      "execution_count": null,
      "outputs": []
    },
    {
      "cell_type": "code",
      "source": [
        "data2_tidy[[\"Total Population at mid-year\",\"Gender\"]]=data1_tidy[\"Gender\"].str.split(\"/\",expand=True)\n",
        "data2_tidy.head()"
      ],
      "metadata": {
        "id": "ZAMDzk99vehx"
      },
      "execution_count": null,
      "outputs": []
    },
    {
      "cell_type": "code",
      "source": [
        "columns_name2=list(data2_tidy.columns)\n",
        "columns_name2"
      ],
      "metadata": {
        "id": "n7HZV_hCvsA0"
      },
      "execution_count": null,
      "outputs": []
    },
    {
      "cell_type": "code",
      "source": [
        "new_columns2=['Sort\\order','Major area, region, country or area of destination','Notes','Country code','Type of data (a)','Years',\"Gender\",'Total Population at mid-year (Thousands)','Total Population at mid-year','Years/Sexes']"
      ],
      "metadata": {
        "id": "pwQxd5OUv05z"
      },
      "execution_count": null,
      "outputs": []
    },
    {
      "cell_type": "code",
      "source": [
        "data2_tidy=data2_tidy[new_columns2]\n",
        "data2_tidy.head(50)"
      ],
      "metadata": {
        "id": "SRIUOtb4wgWr"
      },
      "execution_count": null,
      "outputs": []
    },
    {
      "cell_type": "code",
      "source": [
        "data2_tidy1=data2_tidy.drop(['Years/Sexes','Total Population at mid-year'], axis=1)\n",
        "data2_tidy1.head()"
      ],
      "metadata": {
        "colab": {
          "base_uri": "https://localhost:8080/",
          "height": 354
        },
        "id": "yx287Tx0xIP3",
        "outputId": "8f2901c9-fdc4-4dec-8796-1ab1456692a7"
      },
      "execution_count": null,
      "outputs": [
        {
          "output_type": "execute_result",
          "data": {
            "text/plain": [
              "  Sort\\order Major area, region, country or area of destination Notes Country code Type of data (a) Years      Gender Total Population at mid-year (Thousands)\n",
              "0          1                                              WORLD   NaN          900              NaN  1990  both sexes                                152563212\n",
              "1          2                                  Developed regions   (b)          901              NaN  1990  both sexes                                 82378628\n",
              "2          3                                 Developing regions   (c)          902              NaN  1990  both sexes                                 70184584\n",
              "3          4                          Least developed countries   (d)          941              NaN  1990  both sexes                                 11075966\n",
              "4          5  Less developed regions excluding least develop...   NaN          934              NaN  1990  both sexes                                 59105261"
            ],
            "text/html": [
              "\n",
              "  <div id=\"df-105979e2-1cba-4156-af76-501d5432ab55\">\n",
              "    <div class=\"colab-df-container\">\n",
              "      <div>\n",
              "<style scoped>\n",
              "    .dataframe tbody tr th:only-of-type {\n",
              "        vertical-align: middle;\n",
              "    }\n",
              "\n",
              "    .dataframe tbody tr th {\n",
              "        vertical-align: top;\n",
              "    }\n",
              "\n",
              "    .dataframe thead th {\n",
              "        text-align: right;\n",
              "    }\n",
              "</style>\n",
              "<table border=\"1\" class=\"dataframe\">\n",
              "  <thead>\n",
              "    <tr style=\"text-align: right;\">\n",
              "      <th></th>\n",
              "      <th>Sort\\order</th>\n",
              "      <th>Major area, region, country or area of destination</th>\n",
              "      <th>Notes</th>\n",
              "      <th>Country code</th>\n",
              "      <th>Type of data (a)</th>\n",
              "      <th>Years</th>\n",
              "      <th>Gender</th>\n",
              "      <th>Total Population at mid-year (Thousands)</th>\n",
              "    </tr>\n",
              "  </thead>\n",
              "  <tbody>\n",
              "    <tr>\n",
              "      <th>0</th>\n",
              "      <td>1</td>\n",
              "      <td>WORLD</td>\n",
              "      <td>NaN</td>\n",
              "      <td>900</td>\n",
              "      <td>NaN</td>\n",
              "      <td>1990</td>\n",
              "      <td>both sexes</td>\n",
              "      <td>152563212</td>\n",
              "    </tr>\n",
              "    <tr>\n",
              "      <th>1</th>\n",
              "      <td>2</td>\n",
              "      <td>Developed regions</td>\n",
              "      <td>(b)</td>\n",
              "      <td>901</td>\n",
              "      <td>NaN</td>\n",
              "      <td>1990</td>\n",
              "      <td>both sexes</td>\n",
              "      <td>82378628</td>\n",
              "    </tr>\n",
              "    <tr>\n",
              "      <th>2</th>\n",
              "      <td>3</td>\n",
              "      <td>Developing regions</td>\n",
              "      <td>(c)</td>\n",
              "      <td>902</td>\n",
              "      <td>NaN</td>\n",
              "      <td>1990</td>\n",
              "      <td>both sexes</td>\n",
              "      <td>70184584</td>\n",
              "    </tr>\n",
              "    <tr>\n",
              "      <th>3</th>\n",
              "      <td>4</td>\n",
              "      <td>Least developed countries</td>\n",
              "      <td>(d)</td>\n",
              "      <td>941</td>\n",
              "      <td>NaN</td>\n",
              "      <td>1990</td>\n",
              "      <td>both sexes</td>\n",
              "      <td>11075966</td>\n",
              "    </tr>\n",
              "    <tr>\n",
              "      <th>4</th>\n",
              "      <td>5</td>\n",
              "      <td>Less developed regions excluding least develop...</td>\n",
              "      <td>NaN</td>\n",
              "      <td>934</td>\n",
              "      <td>NaN</td>\n",
              "      <td>1990</td>\n",
              "      <td>both sexes</td>\n",
              "      <td>59105261</td>\n",
              "    </tr>\n",
              "  </tbody>\n",
              "</table>\n",
              "</div>\n",
              "      <button class=\"colab-df-convert\" onclick=\"convertToInteractive('df-105979e2-1cba-4156-af76-501d5432ab55')\"\n",
              "              title=\"Convert this dataframe to an interactive table.\"\n",
              "              style=\"display:none;\">\n",
              "        \n",
              "  <svg xmlns=\"http://www.w3.org/2000/svg\" height=\"24px\"viewBox=\"0 0 24 24\"\n",
              "       width=\"24px\">\n",
              "    <path d=\"M0 0h24v24H0V0z\" fill=\"none\"/>\n",
              "    <path d=\"M18.56 5.44l.94 2.06.94-2.06 2.06-.94-2.06-.94-.94-2.06-.94 2.06-2.06.94zm-11 1L8.5 8.5l.94-2.06 2.06-.94-2.06-.94L8.5 2.5l-.94 2.06-2.06.94zm10 10l.94 2.06.94-2.06 2.06-.94-2.06-.94-.94-2.06-.94 2.06-2.06.94z\"/><path d=\"M17.41 7.96l-1.37-1.37c-.4-.4-.92-.59-1.43-.59-.52 0-1.04.2-1.43.59L10.3 9.45l-7.72 7.72c-.78.78-.78 2.05 0 2.83L4 21.41c.39.39.9.59 1.41.59.51 0 1.02-.2 1.41-.59l7.78-7.78 2.81-2.81c.8-.78.8-2.07 0-2.86zM5.41 20L4 18.59l7.72-7.72 1.47 1.35L5.41 20z\"/>\n",
              "  </svg>\n",
              "      </button>\n",
              "      \n",
              "  <style>\n",
              "    .colab-df-container {\n",
              "      display:flex;\n",
              "      flex-wrap:wrap;\n",
              "      gap: 12px;\n",
              "    }\n",
              "\n",
              "    .colab-df-convert {\n",
              "      background-color: #E8F0FE;\n",
              "      border: none;\n",
              "      border-radius: 50%;\n",
              "      cursor: pointer;\n",
              "      display: none;\n",
              "      fill: #1967D2;\n",
              "      height: 32px;\n",
              "      padding: 0 0 0 0;\n",
              "      width: 32px;\n",
              "    }\n",
              "\n",
              "    .colab-df-convert:hover {\n",
              "      background-color: #E2EBFA;\n",
              "      box-shadow: 0px 1px 2px rgba(60, 64, 67, 0.3), 0px 1px 3px 1px rgba(60, 64, 67, 0.15);\n",
              "      fill: #174EA6;\n",
              "    }\n",
              "\n",
              "    [theme=dark] .colab-df-convert {\n",
              "      background-color: #3B4455;\n",
              "      fill: #D2E3FC;\n",
              "    }\n",
              "\n",
              "    [theme=dark] .colab-df-convert:hover {\n",
              "      background-color: #434B5C;\n",
              "      box-shadow: 0px 1px 3px 1px rgba(0, 0, 0, 0.15);\n",
              "      filter: drop-shadow(0px 1px 2px rgba(0, 0, 0, 0.3));\n",
              "      fill: #FFFFFF;\n",
              "    }\n",
              "  </style>\n",
              "\n",
              "      <script>\n",
              "        const buttonEl =\n",
              "          document.querySelector('#df-105979e2-1cba-4156-af76-501d5432ab55 button.colab-df-convert');\n",
              "        buttonEl.style.display =\n",
              "          google.colab.kernel.accessAllowed ? 'block' : 'none';\n",
              "\n",
              "        async function convertToInteractive(key) {\n",
              "          const element = document.querySelector('#df-105979e2-1cba-4156-af76-501d5432ab55');\n",
              "          const dataTable =\n",
              "            await google.colab.kernel.invokeFunction('convertToInteractive',\n",
              "                                                     [key], {});\n",
              "          if (!dataTable) return;\n",
              "\n",
              "          const docLinkHtml = 'Like what you see? Visit the ' +\n",
              "            '<a target=\"_blank\" href=https://colab.research.google.com/notebooks/data_table.ipynb>data table notebook</a>'\n",
              "            + ' to learn more about interactive tables.';\n",
              "          element.innerHTML = '';\n",
              "          dataTable['output_type'] = 'display_data';\n",
              "          await google.colab.output.renderOutput(dataTable, element);\n",
              "          const docLink = document.createElement('div');\n",
              "          docLink.innerHTML = docLinkHtml;\n",
              "          element.appendChild(docLink);\n",
              "        }\n",
              "      </script>\n",
              "    </div>\n",
              "  </div>\n",
              "  "
            ]
          },
          "metadata": {},
          "execution_count": 255
        }
      ]
    },
    {
      "cell_type": "markdown",
      "source": [
        "#Table3"
      ],
      "metadata": {
        "id": "lR_BTURvZnUk"
      }
    },
    {
      "cell_type": "code",
      "source": [
        "data_table3 = pd.read_excel(\"/content/UN_MigrantStockTotal_2015.xlsx\",sheet_name = \"Table 3\")"
      ],
      "metadata": {
        "id": "fW7u_vDIZq0T"
      },
      "execution_count": null,
      "outputs": []
    },
    {
      "cell_type": "code",
      "source": [
        "header_row = 13\n",
        "data_table3.columns = data_table3.iloc[header_row]\n",
        "print(data_table3.columns)\n",
        "data3=data_table3.drop([0,1,2,3,4,5,6,7,8,9,10,11,12,13,14])\n",
        "data3.shape\n",
        "data3.head()"
      ],
      "metadata": {
        "id": "38azHJ7VaBy7"
      },
      "execution_count": null,
      "outputs": []
    },
    {
      "cell_type": "code",
      "source": [
        "data3.columns = (\"Sort\\order\",\"Major area, region, country or area of destination\",\"Notes\",\"Country code\",\"Type of data (a)\",\"1990-International migrant stock as a percentage of the total population /both sexes\",\"1995-International migrant stock as a percentage of the total population /both sexes\",\"2000-International migrant stock as a percentage of the total population /both sexes\",\"2005-International migrant stock as a percentage of the total population /both sexes\",\"2010-International migrant stock as a percentage of the total population /both sexes\",\"2015-International migrant stock as a percentage of the total population /both sexes\",\"1990-International migrant stock as a percentage of the total population /male\",\"1995-International migrant stock as a percentage of the total population /male\",\"2000-International migrant stock as a percentage of the total population /male\",\"2005-International migrant stock as a percentage of the total population /male\",\"2010-International migrant stock as a percentage of the total population /male\",\"2015-International migrant stock as a percentage of the total population /male\",\"1990-International migrant stock as a percentage of the total population /female\",\"1995-International migrant stock as a percentage of the total population /female\",\"2000-International migrant stock as a percentage of the total population /female\",\"2005-International migrant stock as a percentage of the total population /female\",\"2010-International migrant stock as a percentage of the total population /female\",\"2015-International migrant stock as a percentage of the total population /female\")\n",
        "data3.style.hide_index()\n",
        "data3.shape\n",
        "data3.head()"
      ],
      "metadata": {
        "id": "cW_o_w-53lY0"
      },
      "execution_count": null,
      "outputs": []
    },
    {
      "cell_type": "code",
      "source": [
        "data3_tidy=data3.melt(id_vars = [\"Sort\\order\",\"Major area, region, country or area of destination\",\"Notes\",\"Country code\",\"Type of data (a)\"],var_name = \"Years/Sexes\", value_name= \"International migrant stock as a percentage of the total population\")\n",
        "data3_tidy.head()\n"
      ],
      "metadata": {
        "id": "t2R0WCCAzs7T"
      },
      "execution_count": null,
      "outputs": []
    },
    {
      "cell_type": "code",
      "source": [
        "data3_tidy[\"Years/Sexes\"].str.split(\"-\").head"
      ],
      "metadata": {
        "id": "bkamvZ7u5cbI"
      },
      "execution_count": null,
      "outputs": []
    },
    {
      "cell_type": "code",
      "source": [
        "data3_tidy[\"Years/Sexes\"].str.split(\"-\",expand=True).head()"
      ],
      "metadata": {
        "id": "3h1JKRPE5cbI"
      },
      "execution_count": null,
      "outputs": []
    },
    {
      "cell_type": "code",
      "source": [
        "data3_tidy[[\"Years\",\"Gender\"]]=data3_tidy[\"Years/Sexes\"].str.split(\"-\",expand=True)\n",
        "data3_tidy.head()"
      ],
      "metadata": {
        "id": "8FAmSK8b5cbI"
      },
      "execution_count": null,
      "outputs": []
    },
    {
      "cell_type": "code",
      "source": [
        "data3_tidy[\"Gender\"].str.split(\"/\").head()"
      ],
      "metadata": {
        "id": "kIOOWyhO5cbJ"
      },
      "execution_count": null,
      "outputs": []
    },
    {
      "cell_type": "code",
      "source": [
        "data3_tidy[\"Gender\"].str.split(\"/\",expand=True).head()"
      ],
      "metadata": {
        "id": "EwgsO5t75cbJ"
      },
      "execution_count": null,
      "outputs": []
    },
    {
      "cell_type": "code",
      "source": [
        "data3_tidy[[\"title\",\"Gender\"]]=data3_tidy[\"Gender\"].str.split(\"/\",expand=True)\n",
        "data3_tidy.head()"
      ],
      "metadata": {
        "id": "PqGhdRle5cbJ"
      },
      "execution_count": null,
      "outputs": []
    },
    {
      "cell_type": "code",
      "source": [
        "columns_name3=list(data3_tidy.columns)\n",
        "columns_name3"
      ],
      "metadata": {
        "id": "XDHIqUqe5cbJ"
      },
      "execution_count": null,
      "outputs": []
    },
    {
      "cell_type": "code",
      "source": [
        "new_columns3=['Sort\\\\order','Major area, region, country or area of destination','Notes','Country code','Type of data (a)','Years','Gender','International migrant stock as a percentage of the total population','Years/Sexes',\"title\"]"
      ],
      "metadata": {
        "id": "c7WsQDoC5cbJ"
      },
      "execution_count": null,
      "outputs": []
    },
    {
      "cell_type": "code",
      "source": [
        "data3_tidy=data3_tidy[new_columns3]\n",
        "data3_tidy.head(50)"
      ],
      "metadata": {
        "id": "MTLv-EIm5cbJ"
      },
      "execution_count": null,
      "outputs": []
    },
    {
      "cell_type": "code",
      "source": [
        "data3_tidy1=data3_tidy.drop(['Years/Sexes','title'], axis=1)\n",
        "data3_tidy1.head()\n"
      ],
      "metadata": {
        "id": "9VUyng2N5cbJ"
      },
      "execution_count": null,
      "outputs": []
    },
    {
      "cell_type": "markdown",
      "source": [
        "#Table4"
      ],
      "metadata": {
        "id": "pZQHbwtAkHuk"
      }
    },
    {
      "cell_type": "code",
      "source": [
        "data_table4 = pd.read_excel(\"/content/UN_MigrantStockTotal_2015.xlsx\",sheet_name = \"Table 4\")\n",
        "data_table4.head(14)"
      ],
      "metadata": {
        "colab": {
          "base_uri": "https://localhost:8080/",
          "height": 671
        },
        "id": "TZCLsp1qkSq0",
        "outputId": "30716163-5927-4f13-aad6-351fe6f73f04"
      },
      "execution_count": null,
      "outputs": [
        {
          "output_type": "execute_result",
          "data": {
            "text/plain": [
              "     Unnamed: 0                                         Unnamed: 1 Unnamed: 2    Unnamed: 3                                         Unnamed: 4                                         Unnamed: 5 Unnamed: 6 Unnamed: 7 Unnamed: 8  Unnamed: 9  Unnamed: 10\n",
              "0           NaN                                                NaN        NaN           NaN                                                NaN                                                NaN        NaN        NaN        NaN         NaN          NaN\n",
              "1           NaN                                                NaN        NaN           NaN                                                NaN                                                NaN        NaN        NaN        NaN         NaN          NaN\n",
              "2           NaN                                                NaN        NaN           NaN                                                NaN                                                NaN        NaN        NaN        NaN         NaN          NaN\n",
              "3           NaN                                                NaN        NaN           NaN                                     United Nations                                                NaN        NaN        NaN        NaN         NaN          NaN\n",
              "4           NaN                                                NaN        NaN           NaN                                Population Division                                                NaN        NaN        NaN        NaN         NaN          NaN\n",
              "5           NaN                                                NaN        NaN           NaN          Department of Economic and Social Affairs                                                NaN        NaN        NaN        NaN         NaN          NaN\n",
              "6           NaN                                                NaN        NaN           NaN                                                NaN                                                NaN        NaN        NaN        NaN         NaN          NaN\n",
              "7           NaN                                                NaN        NaN           NaN  Trends in International Migrant Stock: The 201...                                                NaN        NaN        NaN        NaN         NaN          NaN\n",
              "8           NaN                                                NaN        NaN           NaN  Table 4 - Female migrants as a percentage of t...                                                NaN        NaN        NaN        NaN         NaN          NaN\n",
              "9           NaN                                                NaN        NaN           NaN                          POP/DB/MIG/Stock/Rev.2015                                                NaN        NaN        NaN        NaN         NaN          NaN\n",
              "10          NaN                                                NaN        NaN           NaN  December 2015 - Copyright © 2015 by United Nat...                                                NaN        NaN        NaN        NaN         NaN          NaN\n",
              "11          NaN                                                NaN        NaN           NaN  Suggested citation: United Nations, Department...                                                NaN        NaN        NaN        NaN         NaN          NaN\n",
              "12          NaN                                                NaN        NaN           NaN                                                NaN                                                NaN        NaN        NaN        NaN         NaN          NaN\n",
              "13  Sort\\norder  Major area, region, country or area of destina...      Notes  Country code                                   Type of data (a)  Female migrants as a percentage of the interna...        NaN        NaN        NaN         NaN          NaN"
            ],
            "text/html": [
              "\n",
              "  <div id=\"df-7730b0ff-e114-4999-bf74-fc30a8a29b59\">\n",
              "    <div class=\"colab-df-container\">\n",
              "      <div>\n",
              "<style scoped>\n",
              "    .dataframe tbody tr th:only-of-type {\n",
              "        vertical-align: middle;\n",
              "    }\n",
              "\n",
              "    .dataframe tbody tr th {\n",
              "        vertical-align: top;\n",
              "    }\n",
              "\n",
              "    .dataframe thead th {\n",
              "        text-align: right;\n",
              "    }\n",
              "</style>\n",
              "<table border=\"1\" class=\"dataframe\">\n",
              "  <thead>\n",
              "    <tr style=\"text-align: right;\">\n",
              "      <th></th>\n",
              "      <th>Unnamed: 0</th>\n",
              "      <th>Unnamed: 1</th>\n",
              "      <th>Unnamed: 2</th>\n",
              "      <th>Unnamed: 3</th>\n",
              "      <th>Unnamed: 4</th>\n",
              "      <th>Unnamed: 5</th>\n",
              "      <th>Unnamed: 6</th>\n",
              "      <th>Unnamed: 7</th>\n",
              "      <th>Unnamed: 8</th>\n",
              "      <th>Unnamed: 9</th>\n",
              "      <th>Unnamed: 10</th>\n",
              "    </tr>\n",
              "  </thead>\n",
              "  <tbody>\n",
              "    <tr>\n",
              "      <th>0</th>\n",
              "      <td>NaN</td>\n",
              "      <td>NaN</td>\n",
              "      <td>NaN</td>\n",
              "      <td>NaN</td>\n",
              "      <td>NaN</td>\n",
              "      <td>NaN</td>\n",
              "      <td>NaN</td>\n",
              "      <td>NaN</td>\n",
              "      <td>NaN</td>\n",
              "      <td>NaN</td>\n",
              "      <td>NaN</td>\n",
              "    </tr>\n",
              "    <tr>\n",
              "      <th>1</th>\n",
              "      <td>NaN</td>\n",
              "      <td>NaN</td>\n",
              "      <td>NaN</td>\n",
              "      <td>NaN</td>\n",
              "      <td>NaN</td>\n",
              "      <td>NaN</td>\n",
              "      <td>NaN</td>\n",
              "      <td>NaN</td>\n",
              "      <td>NaN</td>\n",
              "      <td>NaN</td>\n",
              "      <td>NaN</td>\n",
              "    </tr>\n",
              "    <tr>\n",
              "      <th>2</th>\n",
              "      <td>NaN</td>\n",
              "      <td>NaN</td>\n",
              "      <td>NaN</td>\n",
              "      <td>NaN</td>\n",
              "      <td>NaN</td>\n",
              "      <td>NaN</td>\n",
              "      <td>NaN</td>\n",
              "      <td>NaN</td>\n",
              "      <td>NaN</td>\n",
              "      <td>NaN</td>\n",
              "      <td>NaN</td>\n",
              "    </tr>\n",
              "    <tr>\n",
              "      <th>3</th>\n",
              "      <td>NaN</td>\n",
              "      <td>NaN</td>\n",
              "      <td>NaN</td>\n",
              "      <td>NaN</td>\n",
              "      <td>United Nations</td>\n",
              "      <td>NaN</td>\n",
              "      <td>NaN</td>\n",
              "      <td>NaN</td>\n",
              "      <td>NaN</td>\n",
              "      <td>NaN</td>\n",
              "      <td>NaN</td>\n",
              "    </tr>\n",
              "    <tr>\n",
              "      <th>4</th>\n",
              "      <td>NaN</td>\n",
              "      <td>NaN</td>\n",
              "      <td>NaN</td>\n",
              "      <td>NaN</td>\n",
              "      <td>Population Division</td>\n",
              "      <td>NaN</td>\n",
              "      <td>NaN</td>\n",
              "      <td>NaN</td>\n",
              "      <td>NaN</td>\n",
              "      <td>NaN</td>\n",
              "      <td>NaN</td>\n",
              "    </tr>\n",
              "    <tr>\n",
              "      <th>5</th>\n",
              "      <td>NaN</td>\n",
              "      <td>NaN</td>\n",
              "      <td>NaN</td>\n",
              "      <td>NaN</td>\n",
              "      <td>Department of Economic and Social Affairs</td>\n",
              "      <td>NaN</td>\n",
              "      <td>NaN</td>\n",
              "      <td>NaN</td>\n",
              "      <td>NaN</td>\n",
              "      <td>NaN</td>\n",
              "      <td>NaN</td>\n",
              "    </tr>\n",
              "    <tr>\n",
              "      <th>6</th>\n",
              "      <td>NaN</td>\n",
              "      <td>NaN</td>\n",
              "      <td>NaN</td>\n",
              "      <td>NaN</td>\n",
              "      <td>NaN</td>\n",
              "      <td>NaN</td>\n",
              "      <td>NaN</td>\n",
              "      <td>NaN</td>\n",
              "      <td>NaN</td>\n",
              "      <td>NaN</td>\n",
              "      <td>NaN</td>\n",
              "    </tr>\n",
              "    <tr>\n",
              "      <th>7</th>\n",
              "      <td>NaN</td>\n",
              "      <td>NaN</td>\n",
              "      <td>NaN</td>\n",
              "      <td>NaN</td>\n",
              "      <td>Trends in International Migrant Stock: The 201...</td>\n",
              "      <td>NaN</td>\n",
              "      <td>NaN</td>\n",
              "      <td>NaN</td>\n",
              "      <td>NaN</td>\n",
              "      <td>NaN</td>\n",
              "      <td>NaN</td>\n",
              "    </tr>\n",
              "    <tr>\n",
              "      <th>8</th>\n",
              "      <td>NaN</td>\n",
              "      <td>NaN</td>\n",
              "      <td>NaN</td>\n",
              "      <td>NaN</td>\n",
              "      <td>Table 4 - Female migrants as a percentage of t...</td>\n",
              "      <td>NaN</td>\n",
              "      <td>NaN</td>\n",
              "      <td>NaN</td>\n",
              "      <td>NaN</td>\n",
              "      <td>NaN</td>\n",
              "      <td>NaN</td>\n",
              "    </tr>\n",
              "    <tr>\n",
              "      <th>9</th>\n",
              "      <td>NaN</td>\n",
              "      <td>NaN</td>\n",
              "      <td>NaN</td>\n",
              "      <td>NaN</td>\n",
              "      <td>POP/DB/MIG/Stock/Rev.2015</td>\n",
              "      <td>NaN</td>\n",
              "      <td>NaN</td>\n",
              "      <td>NaN</td>\n",
              "      <td>NaN</td>\n",
              "      <td>NaN</td>\n",
              "      <td>NaN</td>\n",
              "    </tr>\n",
              "    <tr>\n",
              "      <th>10</th>\n",
              "      <td>NaN</td>\n",
              "      <td>NaN</td>\n",
              "      <td>NaN</td>\n",
              "      <td>NaN</td>\n",
              "      <td>December 2015 - Copyright © 2015 by United Nat...</td>\n",
              "      <td>NaN</td>\n",
              "      <td>NaN</td>\n",
              "      <td>NaN</td>\n",
              "      <td>NaN</td>\n",
              "      <td>NaN</td>\n",
              "      <td>NaN</td>\n",
              "    </tr>\n",
              "    <tr>\n",
              "      <th>11</th>\n",
              "      <td>NaN</td>\n",
              "      <td>NaN</td>\n",
              "      <td>NaN</td>\n",
              "      <td>NaN</td>\n",
              "      <td>Suggested citation: United Nations, Department...</td>\n",
              "      <td>NaN</td>\n",
              "      <td>NaN</td>\n",
              "      <td>NaN</td>\n",
              "      <td>NaN</td>\n",
              "      <td>NaN</td>\n",
              "      <td>NaN</td>\n",
              "    </tr>\n",
              "    <tr>\n",
              "      <th>12</th>\n",
              "      <td>NaN</td>\n",
              "      <td>NaN</td>\n",
              "      <td>NaN</td>\n",
              "      <td>NaN</td>\n",
              "      <td>NaN</td>\n",
              "      <td>NaN</td>\n",
              "      <td>NaN</td>\n",
              "      <td>NaN</td>\n",
              "      <td>NaN</td>\n",
              "      <td>NaN</td>\n",
              "      <td>NaN</td>\n",
              "    </tr>\n",
              "    <tr>\n",
              "      <th>13</th>\n",
              "      <td>Sort\\norder</td>\n",
              "      <td>Major area, region, country or area of destina...</td>\n",
              "      <td>Notes</td>\n",
              "      <td>Country code</td>\n",
              "      <td>Type of data (a)</td>\n",
              "      <td>Female migrants as a percentage of the interna...</td>\n",
              "      <td>NaN</td>\n",
              "      <td>NaN</td>\n",
              "      <td>NaN</td>\n",
              "      <td>NaN</td>\n",
              "      <td>NaN</td>\n",
              "    </tr>\n",
              "  </tbody>\n",
              "</table>\n",
              "</div>\n",
              "      <button class=\"colab-df-convert\" onclick=\"convertToInteractive('df-7730b0ff-e114-4999-bf74-fc30a8a29b59')\"\n",
              "              title=\"Convert this dataframe to an interactive table.\"\n",
              "              style=\"display:none;\">\n",
              "        \n",
              "  <svg xmlns=\"http://www.w3.org/2000/svg\" height=\"24px\"viewBox=\"0 0 24 24\"\n",
              "       width=\"24px\">\n",
              "    <path d=\"M0 0h24v24H0V0z\" fill=\"none\"/>\n",
              "    <path d=\"M18.56 5.44l.94 2.06.94-2.06 2.06-.94-2.06-.94-.94-2.06-.94 2.06-2.06.94zm-11 1L8.5 8.5l.94-2.06 2.06-.94-2.06-.94L8.5 2.5l-.94 2.06-2.06.94zm10 10l.94 2.06.94-2.06 2.06-.94-2.06-.94-.94-2.06-.94 2.06-2.06.94z\"/><path d=\"M17.41 7.96l-1.37-1.37c-.4-.4-.92-.59-1.43-.59-.52 0-1.04.2-1.43.59L10.3 9.45l-7.72 7.72c-.78.78-.78 2.05 0 2.83L4 21.41c.39.39.9.59 1.41.59.51 0 1.02-.2 1.41-.59l7.78-7.78 2.81-2.81c.8-.78.8-2.07 0-2.86zM5.41 20L4 18.59l7.72-7.72 1.47 1.35L5.41 20z\"/>\n",
              "  </svg>\n",
              "      </button>\n",
              "      \n",
              "  <style>\n",
              "    .colab-df-container {\n",
              "      display:flex;\n",
              "      flex-wrap:wrap;\n",
              "      gap: 12px;\n",
              "    }\n",
              "\n",
              "    .colab-df-convert {\n",
              "      background-color: #E8F0FE;\n",
              "      border: none;\n",
              "      border-radius: 50%;\n",
              "      cursor: pointer;\n",
              "      display: none;\n",
              "      fill: #1967D2;\n",
              "      height: 32px;\n",
              "      padding: 0 0 0 0;\n",
              "      width: 32px;\n",
              "    }\n",
              "\n",
              "    .colab-df-convert:hover {\n",
              "      background-color: #E2EBFA;\n",
              "      box-shadow: 0px 1px 2px rgba(60, 64, 67, 0.3), 0px 1px 3px 1px rgba(60, 64, 67, 0.15);\n",
              "      fill: #174EA6;\n",
              "    }\n",
              "\n",
              "    [theme=dark] .colab-df-convert {\n",
              "      background-color: #3B4455;\n",
              "      fill: #D2E3FC;\n",
              "    }\n",
              "\n",
              "    [theme=dark] .colab-df-convert:hover {\n",
              "      background-color: #434B5C;\n",
              "      box-shadow: 0px 1px 3px 1px rgba(0, 0, 0, 0.15);\n",
              "      filter: drop-shadow(0px 1px 2px rgba(0, 0, 0, 0.3));\n",
              "      fill: #FFFFFF;\n",
              "    }\n",
              "  </style>\n",
              "\n",
              "      <script>\n",
              "        const buttonEl =\n",
              "          document.querySelector('#df-7730b0ff-e114-4999-bf74-fc30a8a29b59 button.colab-df-convert');\n",
              "        buttonEl.style.display =\n",
              "          google.colab.kernel.accessAllowed ? 'block' : 'none';\n",
              "\n",
              "        async function convertToInteractive(key) {\n",
              "          const element = document.querySelector('#df-7730b0ff-e114-4999-bf74-fc30a8a29b59');\n",
              "          const dataTable =\n",
              "            await google.colab.kernel.invokeFunction('convertToInteractive',\n",
              "                                                     [key], {});\n",
              "          if (!dataTable) return;\n",
              "\n",
              "          const docLinkHtml = 'Like what you see? Visit the ' +\n",
              "            '<a target=\"_blank\" href=https://colab.research.google.com/notebooks/data_table.ipynb>data table notebook</a>'\n",
              "            + ' to learn more about interactive tables.';\n",
              "          element.innerHTML = '';\n",
              "          dataTable['output_type'] = 'display_data';\n",
              "          await google.colab.output.renderOutput(dataTable, element);\n",
              "          const docLink = document.createElement('div');\n",
              "          docLink.innerHTML = docLinkHtml;\n",
              "          element.appendChild(docLink);\n",
              "        }\n",
              "      </script>\n",
              "    </div>\n",
              "  </div>\n",
              "  "
            ]
          },
          "metadata": {},
          "execution_count": 196
        }
      ]
    },
    {
      "cell_type": "code",
      "source": [
        "header_row = 13\n",
        "data_table4.columns = data_table4.iloc[header_row]\n",
        "print(data_table4.columns)\n",
        "data4=data_table4.drop([0,1,2,3,4,5,6,7,8,9,10,11,12,13,14])\n",
        "data4.shape\n",
        "data4.head()"
      ],
      "metadata": {
        "colab": {
          "base_uri": "https://localhost:8080/",
          "height": 340
        },
        "id": "9TUWiqKTkSoM",
        "outputId": "c050ff55-a029-4782-b152-f68f98429f65"
      },
      "execution_count": null,
      "outputs": [
        {
          "output_type": "stream",
          "name": "stdout",
          "text": [
            "Index(['Sort\\norder', 'Major area, region, country or area of destination', 'Notes', 'Country code', 'Type of data (a)', 'Female migrants as a percentage of the international migrant stock', nan, nan, nan, nan, nan], dtype='object', name=13)\n"
          ]
        },
        {
          "output_type": "execute_result",
          "data": {
            "text/plain": [
              "13 Sort\\norder Major area, region, country or area of destination Notes Country code Type of data (a) Female migrants as a percentage of the international migrant stock        NaN        NaN        NaN        NaN        NaN\n",
              "15           1                                              WORLD   NaN          900              NaN                                           49.03915                   49.16879  49.112244  48.832993  48.305660  48.249769\n",
              "16           2                                  Developed regions   (b)          901              NaN                                          51.123977                  51.149024  51.113307  51.171501  51.658932  51.866687\n",
              "17           3                                 Developing regions   (c)          902              NaN                                          46.592099                  46.500135  46.128444  45.134297  43.319780  43.327078\n",
              "18           4                          Least developed countries   (d)          941              NaN                                          47.261155                  47.571664  46.826689  45.157406  45.499573  45.942752\n",
              "19           5  Less developed regions excluding least develop...   NaN          934              NaN                                          46.466684                  46.279022  46.009598  45.130768  43.043672  42.984398"
            ],
            "text/html": [
              "\n",
              "  <div id=\"df-76a9d935-4f3b-44da-8daf-f23a831e493f\">\n",
              "    <div class=\"colab-df-container\">\n",
              "      <div>\n",
              "<style scoped>\n",
              "    .dataframe tbody tr th:only-of-type {\n",
              "        vertical-align: middle;\n",
              "    }\n",
              "\n",
              "    .dataframe tbody tr th {\n",
              "        vertical-align: top;\n",
              "    }\n",
              "\n",
              "    .dataframe thead th {\n",
              "        text-align: right;\n",
              "    }\n",
              "</style>\n",
              "<table border=\"1\" class=\"dataframe\">\n",
              "  <thead>\n",
              "    <tr style=\"text-align: right;\">\n",
              "      <th>13</th>\n",
              "      <th>Sort\\norder</th>\n",
              "      <th>Major area, region, country or area of destination</th>\n",
              "      <th>Notes</th>\n",
              "      <th>Country code</th>\n",
              "      <th>Type of data (a)</th>\n",
              "      <th>Female migrants as a percentage of the international migrant stock</th>\n",
              "      <th>NaN</th>\n",
              "      <th>NaN</th>\n",
              "      <th>NaN</th>\n",
              "      <th>NaN</th>\n",
              "      <th>NaN</th>\n",
              "    </tr>\n",
              "  </thead>\n",
              "  <tbody>\n",
              "    <tr>\n",
              "      <th>15</th>\n",
              "      <td>1</td>\n",
              "      <td>WORLD</td>\n",
              "      <td>NaN</td>\n",
              "      <td>900</td>\n",
              "      <td>NaN</td>\n",
              "      <td>49.03915</td>\n",
              "      <td>49.16879</td>\n",
              "      <td>49.112244</td>\n",
              "      <td>48.832993</td>\n",
              "      <td>48.305660</td>\n",
              "      <td>48.249769</td>\n",
              "    </tr>\n",
              "    <tr>\n",
              "      <th>16</th>\n",
              "      <td>2</td>\n",
              "      <td>Developed regions</td>\n",
              "      <td>(b)</td>\n",
              "      <td>901</td>\n",
              "      <td>NaN</td>\n",
              "      <td>51.123977</td>\n",
              "      <td>51.149024</td>\n",
              "      <td>51.113307</td>\n",
              "      <td>51.171501</td>\n",
              "      <td>51.658932</td>\n",
              "      <td>51.866687</td>\n",
              "    </tr>\n",
              "    <tr>\n",
              "      <th>17</th>\n",
              "      <td>3</td>\n",
              "      <td>Developing regions</td>\n",
              "      <td>(c)</td>\n",
              "      <td>902</td>\n",
              "      <td>NaN</td>\n",
              "      <td>46.592099</td>\n",
              "      <td>46.500135</td>\n",
              "      <td>46.128444</td>\n",
              "      <td>45.134297</td>\n",
              "      <td>43.319780</td>\n",
              "      <td>43.327078</td>\n",
              "    </tr>\n",
              "    <tr>\n",
              "      <th>18</th>\n",
              "      <td>4</td>\n",
              "      <td>Least developed countries</td>\n",
              "      <td>(d)</td>\n",
              "      <td>941</td>\n",
              "      <td>NaN</td>\n",
              "      <td>47.261155</td>\n",
              "      <td>47.571664</td>\n",
              "      <td>46.826689</td>\n",
              "      <td>45.157406</td>\n",
              "      <td>45.499573</td>\n",
              "      <td>45.942752</td>\n",
              "    </tr>\n",
              "    <tr>\n",
              "      <th>19</th>\n",
              "      <td>5</td>\n",
              "      <td>Less developed regions excluding least develop...</td>\n",
              "      <td>NaN</td>\n",
              "      <td>934</td>\n",
              "      <td>NaN</td>\n",
              "      <td>46.466684</td>\n",
              "      <td>46.279022</td>\n",
              "      <td>46.009598</td>\n",
              "      <td>45.130768</td>\n",
              "      <td>43.043672</td>\n",
              "      <td>42.984398</td>\n",
              "    </tr>\n",
              "  </tbody>\n",
              "</table>\n",
              "</div>\n",
              "      <button class=\"colab-df-convert\" onclick=\"convertToInteractive('df-76a9d935-4f3b-44da-8daf-f23a831e493f')\"\n",
              "              title=\"Convert this dataframe to an interactive table.\"\n",
              "              style=\"display:none;\">\n",
              "        \n",
              "  <svg xmlns=\"http://www.w3.org/2000/svg\" height=\"24px\"viewBox=\"0 0 24 24\"\n",
              "       width=\"24px\">\n",
              "    <path d=\"M0 0h24v24H0V0z\" fill=\"none\"/>\n",
              "    <path d=\"M18.56 5.44l.94 2.06.94-2.06 2.06-.94-2.06-.94-.94-2.06-.94 2.06-2.06.94zm-11 1L8.5 8.5l.94-2.06 2.06-.94-2.06-.94L8.5 2.5l-.94 2.06-2.06.94zm10 10l.94 2.06.94-2.06 2.06-.94-2.06-.94-.94-2.06-.94 2.06-2.06.94z\"/><path d=\"M17.41 7.96l-1.37-1.37c-.4-.4-.92-.59-1.43-.59-.52 0-1.04.2-1.43.59L10.3 9.45l-7.72 7.72c-.78.78-.78 2.05 0 2.83L4 21.41c.39.39.9.59 1.41.59.51 0 1.02-.2 1.41-.59l7.78-7.78 2.81-2.81c.8-.78.8-2.07 0-2.86zM5.41 20L4 18.59l7.72-7.72 1.47 1.35L5.41 20z\"/>\n",
              "  </svg>\n",
              "      </button>\n",
              "      \n",
              "  <style>\n",
              "    .colab-df-container {\n",
              "      display:flex;\n",
              "      flex-wrap:wrap;\n",
              "      gap: 12px;\n",
              "    }\n",
              "\n",
              "    .colab-df-convert {\n",
              "      background-color: #E8F0FE;\n",
              "      border: none;\n",
              "      border-radius: 50%;\n",
              "      cursor: pointer;\n",
              "      display: none;\n",
              "      fill: #1967D2;\n",
              "      height: 32px;\n",
              "      padding: 0 0 0 0;\n",
              "      width: 32px;\n",
              "    }\n",
              "\n",
              "    .colab-df-convert:hover {\n",
              "      background-color: #E2EBFA;\n",
              "      box-shadow: 0px 1px 2px rgba(60, 64, 67, 0.3), 0px 1px 3px 1px rgba(60, 64, 67, 0.15);\n",
              "      fill: #174EA6;\n",
              "    }\n",
              "\n",
              "    [theme=dark] .colab-df-convert {\n",
              "      background-color: #3B4455;\n",
              "      fill: #D2E3FC;\n",
              "    }\n",
              "\n",
              "    [theme=dark] .colab-df-convert:hover {\n",
              "      background-color: #434B5C;\n",
              "      box-shadow: 0px 1px 3px 1px rgba(0, 0, 0, 0.15);\n",
              "      filter: drop-shadow(0px 1px 2px rgba(0, 0, 0, 0.3));\n",
              "      fill: #FFFFFF;\n",
              "    }\n",
              "  </style>\n",
              "\n",
              "      <script>\n",
              "        const buttonEl =\n",
              "          document.querySelector('#df-76a9d935-4f3b-44da-8daf-f23a831e493f button.colab-df-convert');\n",
              "        buttonEl.style.display =\n",
              "          google.colab.kernel.accessAllowed ? 'block' : 'none';\n",
              "\n",
              "        async function convertToInteractive(key) {\n",
              "          const element = document.querySelector('#df-76a9d935-4f3b-44da-8daf-f23a831e493f');\n",
              "          const dataTable =\n",
              "            await google.colab.kernel.invokeFunction('convertToInteractive',\n",
              "                                                     [key], {});\n",
              "          if (!dataTable) return;\n",
              "\n",
              "          const docLinkHtml = 'Like what you see? Visit the ' +\n",
              "            '<a target=\"_blank\" href=https://colab.research.google.com/notebooks/data_table.ipynb>data table notebook</a>'\n",
              "            + ' to learn more about interactive tables.';\n",
              "          element.innerHTML = '';\n",
              "          dataTable['output_type'] = 'display_data';\n",
              "          await google.colab.output.renderOutput(dataTable, element);\n",
              "          const docLink = document.createElement('div');\n",
              "          docLink.innerHTML = docLinkHtml;\n",
              "          element.appendChild(docLink);\n",
              "        }\n",
              "      </script>\n",
              "    </div>\n",
              "  </div>\n",
              "  "
            ]
          },
          "metadata": {},
          "execution_count": 197
        }
      ]
    },
    {
      "cell_type": "code",
      "source": [
        "data4.columns = (\"Sort\\order\",\"Major area, region, country or area of destination\",\"Notes\",\"Country code\",\"Type of data (a)\",\"1990-Female migrants as a percentage of the international migrant stock\",\"1995-Female migrants as a percentage of the international migrant stock\",\"2000-Female migrants as a percentage of the international migrant stock\",\"2005-Female migrants as a percentage of the international migrant stock\",\"2010-Female migrants as a percentage of the international migrant stock\",\"2015-Female migrants as a percentage of the international migrant stock\")\n",
        "data4.style.hide_index()\n",
        "data4.shape\n",
        "data4.head()"
      ],
      "metadata": {
        "colab": {
          "base_uri": "https://localhost:8080/",
          "height": 441
        },
        "id": "wIiopv-skSkb",
        "outputId": "fa97ba3f-0d24-41a1-e0a8-41cf73bfdf4c"
      },
      "execution_count": null,
      "outputs": [
        {
          "output_type": "execute_result",
          "data": {
            "text/plain": [
              "   Sort\\order Major area, region, country or area of destination Notes Country code Type of data (a) 1990-Female migrants as a percentage of the international migrant stock 1995-Female migrants as a percentage of the international migrant stock 2000-Female migrants as a percentage of the international migrant stock 2005-Female migrants as a percentage of the international migrant stock  2010-Female migrants as a percentage of the international migrant stock  2015-Female migrants as a percentage of the international migrant stock\n",
              "15          1                                              WORLD   NaN          900              NaN                                           49.03915                                                                49.16879                                                               49.112244                                                               48.832993                                                               48.305660                                                                48.249769                      \n",
              "16          2                                  Developed regions   (b)          901              NaN                                          51.123977                                                               51.149024                                                               51.113307                                                               51.171501                                                               51.658932                                                                51.866687                      \n",
              "17          3                                 Developing regions   (c)          902              NaN                                          46.592099                                                               46.500135                                                               46.128444                                                               45.134297                                                               43.319780                                                                43.327078                      \n",
              "18          4                          Least developed countries   (d)          941              NaN                                          47.261155                                                               47.571664                                                               46.826689                                                               45.157406                                                               45.499573                                                                45.942752                      \n",
              "19          5  Less developed regions excluding least develop...   NaN          934              NaN                                          46.466684                                                               46.279022                                                               46.009598                                                               45.130768                                                               43.043672                                                                42.984398                      "
            ],
            "text/html": [
              "\n",
              "  <div id=\"df-c66f6a84-7882-4451-8ea5-a76866718a58\">\n",
              "    <div class=\"colab-df-container\">\n",
              "      <div>\n",
              "<style scoped>\n",
              "    .dataframe tbody tr th:only-of-type {\n",
              "        vertical-align: middle;\n",
              "    }\n",
              "\n",
              "    .dataframe tbody tr th {\n",
              "        vertical-align: top;\n",
              "    }\n",
              "\n",
              "    .dataframe thead th {\n",
              "        text-align: right;\n",
              "    }\n",
              "</style>\n",
              "<table border=\"1\" class=\"dataframe\">\n",
              "  <thead>\n",
              "    <tr style=\"text-align: right;\">\n",
              "      <th></th>\n",
              "      <th>Sort\\order</th>\n",
              "      <th>Major area, region, country or area of destination</th>\n",
              "      <th>Notes</th>\n",
              "      <th>Country code</th>\n",
              "      <th>Type of data (a)</th>\n",
              "      <th>1990-Female migrants as a percentage of the international migrant stock</th>\n",
              "      <th>1995-Female migrants as a percentage of the international migrant stock</th>\n",
              "      <th>2000-Female migrants as a percentage of the international migrant stock</th>\n",
              "      <th>2005-Female migrants as a percentage of the international migrant stock</th>\n",
              "      <th>2010-Female migrants as a percentage of the international migrant stock</th>\n",
              "      <th>2015-Female migrants as a percentage of the international migrant stock</th>\n",
              "    </tr>\n",
              "  </thead>\n",
              "  <tbody>\n",
              "    <tr>\n",
              "      <th>15</th>\n",
              "      <td>1</td>\n",
              "      <td>WORLD</td>\n",
              "      <td>NaN</td>\n",
              "      <td>900</td>\n",
              "      <td>NaN</td>\n",
              "      <td>49.03915</td>\n",
              "      <td>49.16879</td>\n",
              "      <td>49.112244</td>\n",
              "      <td>48.832993</td>\n",
              "      <td>48.305660</td>\n",
              "      <td>48.249769</td>\n",
              "    </tr>\n",
              "    <tr>\n",
              "      <th>16</th>\n",
              "      <td>2</td>\n",
              "      <td>Developed regions</td>\n",
              "      <td>(b)</td>\n",
              "      <td>901</td>\n",
              "      <td>NaN</td>\n",
              "      <td>51.123977</td>\n",
              "      <td>51.149024</td>\n",
              "      <td>51.113307</td>\n",
              "      <td>51.171501</td>\n",
              "      <td>51.658932</td>\n",
              "      <td>51.866687</td>\n",
              "    </tr>\n",
              "    <tr>\n",
              "      <th>17</th>\n",
              "      <td>3</td>\n",
              "      <td>Developing regions</td>\n",
              "      <td>(c)</td>\n",
              "      <td>902</td>\n",
              "      <td>NaN</td>\n",
              "      <td>46.592099</td>\n",
              "      <td>46.500135</td>\n",
              "      <td>46.128444</td>\n",
              "      <td>45.134297</td>\n",
              "      <td>43.319780</td>\n",
              "      <td>43.327078</td>\n",
              "    </tr>\n",
              "    <tr>\n",
              "      <th>18</th>\n",
              "      <td>4</td>\n",
              "      <td>Least developed countries</td>\n",
              "      <td>(d)</td>\n",
              "      <td>941</td>\n",
              "      <td>NaN</td>\n",
              "      <td>47.261155</td>\n",
              "      <td>47.571664</td>\n",
              "      <td>46.826689</td>\n",
              "      <td>45.157406</td>\n",
              "      <td>45.499573</td>\n",
              "      <td>45.942752</td>\n",
              "    </tr>\n",
              "    <tr>\n",
              "      <th>19</th>\n",
              "      <td>5</td>\n",
              "      <td>Less developed regions excluding least develop...</td>\n",
              "      <td>NaN</td>\n",
              "      <td>934</td>\n",
              "      <td>NaN</td>\n",
              "      <td>46.466684</td>\n",
              "      <td>46.279022</td>\n",
              "      <td>46.009598</td>\n",
              "      <td>45.130768</td>\n",
              "      <td>43.043672</td>\n",
              "      <td>42.984398</td>\n",
              "    </tr>\n",
              "  </tbody>\n",
              "</table>\n",
              "</div>\n",
              "      <button class=\"colab-df-convert\" onclick=\"convertToInteractive('df-c66f6a84-7882-4451-8ea5-a76866718a58')\"\n",
              "              title=\"Convert this dataframe to an interactive table.\"\n",
              "              style=\"display:none;\">\n",
              "        \n",
              "  <svg xmlns=\"http://www.w3.org/2000/svg\" height=\"24px\"viewBox=\"0 0 24 24\"\n",
              "       width=\"24px\">\n",
              "    <path d=\"M0 0h24v24H0V0z\" fill=\"none\"/>\n",
              "    <path d=\"M18.56 5.44l.94 2.06.94-2.06 2.06-.94-2.06-.94-.94-2.06-.94 2.06-2.06.94zm-11 1L8.5 8.5l.94-2.06 2.06-.94-2.06-.94L8.5 2.5l-.94 2.06-2.06.94zm10 10l.94 2.06.94-2.06 2.06-.94-2.06-.94-.94-2.06-.94 2.06-2.06.94z\"/><path d=\"M17.41 7.96l-1.37-1.37c-.4-.4-.92-.59-1.43-.59-.52 0-1.04.2-1.43.59L10.3 9.45l-7.72 7.72c-.78.78-.78 2.05 0 2.83L4 21.41c.39.39.9.59 1.41.59.51 0 1.02-.2 1.41-.59l7.78-7.78 2.81-2.81c.8-.78.8-2.07 0-2.86zM5.41 20L4 18.59l7.72-7.72 1.47 1.35L5.41 20z\"/>\n",
              "  </svg>\n",
              "      </button>\n",
              "      \n",
              "  <style>\n",
              "    .colab-df-container {\n",
              "      display:flex;\n",
              "      flex-wrap:wrap;\n",
              "      gap: 12px;\n",
              "    }\n",
              "\n",
              "    .colab-df-convert {\n",
              "      background-color: #E8F0FE;\n",
              "      border: none;\n",
              "      border-radius: 50%;\n",
              "      cursor: pointer;\n",
              "      display: none;\n",
              "      fill: #1967D2;\n",
              "      height: 32px;\n",
              "      padding: 0 0 0 0;\n",
              "      width: 32px;\n",
              "    }\n",
              "\n",
              "    .colab-df-convert:hover {\n",
              "      background-color: #E2EBFA;\n",
              "      box-shadow: 0px 1px 2px rgba(60, 64, 67, 0.3), 0px 1px 3px 1px rgba(60, 64, 67, 0.15);\n",
              "      fill: #174EA6;\n",
              "    }\n",
              "\n",
              "    [theme=dark] .colab-df-convert {\n",
              "      background-color: #3B4455;\n",
              "      fill: #D2E3FC;\n",
              "    }\n",
              "\n",
              "    [theme=dark] .colab-df-convert:hover {\n",
              "      background-color: #434B5C;\n",
              "      box-shadow: 0px 1px 3px 1px rgba(0, 0, 0, 0.15);\n",
              "      filter: drop-shadow(0px 1px 2px rgba(0, 0, 0, 0.3));\n",
              "      fill: #FFFFFF;\n",
              "    }\n",
              "  </style>\n",
              "\n",
              "      <script>\n",
              "        const buttonEl =\n",
              "          document.querySelector('#df-c66f6a84-7882-4451-8ea5-a76866718a58 button.colab-df-convert');\n",
              "        buttonEl.style.display =\n",
              "          google.colab.kernel.accessAllowed ? 'block' : 'none';\n",
              "\n",
              "        async function convertToInteractive(key) {\n",
              "          const element = document.querySelector('#df-c66f6a84-7882-4451-8ea5-a76866718a58');\n",
              "          const dataTable =\n",
              "            await google.colab.kernel.invokeFunction('convertToInteractive',\n",
              "                                                     [key], {});\n",
              "          if (!dataTable) return;\n",
              "\n",
              "          const docLinkHtml = 'Like what you see? Visit the ' +\n",
              "            '<a target=\"_blank\" href=https://colab.research.google.com/notebooks/data_table.ipynb>data table notebook</a>'\n",
              "            + ' to learn more about interactive tables.';\n",
              "          element.innerHTML = '';\n",
              "          dataTable['output_type'] = 'display_data';\n",
              "          await google.colab.output.renderOutput(dataTable, element);\n",
              "          const docLink = document.createElement('div');\n",
              "          docLink.innerHTML = docLinkHtml;\n",
              "          element.appendChild(docLink);\n",
              "        }\n",
              "      </script>\n",
              "    </div>\n",
              "  </div>\n",
              "  "
            ]
          },
          "metadata": {},
          "execution_count": 199
        }
      ]
    },
    {
      "cell_type": "markdown",
      "source": [
        "#Table5"
      ],
      "metadata": {
        "id": "heNu3KOkmh3u"
      }
    },
    {
      "cell_type": "code",
      "source": [
        "data_table5 = pd.read_excel(\"/content/UN_MigrantStockTotal_2015.xlsx\",sheet_name = \"Table 5\")\n",
        "data_table5.head(14)"
      ],
      "metadata": {
        "id": "VUxUYoe-kSf2"
      },
      "execution_count": null,
      "outputs": []
    },
    {
      "cell_type": "code",
      "source": [
        "header_row = 13\n",
        "data_table5.columns = data_table5.iloc[header_row]\n",
        "print(data_table5.columns)\n",
        "data5=data_table5.drop([0,1,2,3,4,5,6,7,8,9,10,11,12,13,14])\n",
        "data5.shape\n",
        "data5.head()"
      ],
      "metadata": {
        "id": "HlSMRHhOgoDv"
      },
      "execution_count": null,
      "outputs": []
    },
    {
      "cell_type": "code",
      "source": [
        "data5.columns = (\"Sort\\order\",\"Major area, region, country or area of destination\",\"Notes\",\"Country code\",\"Type of data (a)\",\"1990-1995 Annual rate of change of the migrant stock (both sexes)\",\"1995-2000 Annual rate of change of the migrant stock (both sexes)\",\"2000-2005 Annual rate of change of the migrant stock (both sexes)\",\"2005-2010 Annual rate of change of the migrant stock (both sexes)\",\"2010-2015 Annual rate of change of the migrant stock (both sexes)\",\"1990-1995 Annual rate of change of the migrant stock (male)\",\"1995-2000 Annual rate of change of the migrant stock (male)\",\"2000-2005 Annual rate of change of the migrant stock (male)\",\"2005-2010 Annual rate of change of the migrant stock (male)\",\"2010-2015 Annual rate of change of the migrant stock (male)\",\"1990-1995 Annual rate of change of the migrant stock (female)\",\"1995-2000 Annual rate of change of the migrant stock (female)\",\"2000-2005 Annual rate of change of the migrant stock (female)\",\"2005-2010 Annual rate of change of the migrant stock (female)\",\"2010-2015 Annual rate of change of the migrant stock (female)\")\n",
        "data5.style.hide_index()\n",
        "data5.shape\n",
        "data5.head()"
      ],
      "metadata": {
        "id": "W1nFdb0jm7Xc"
      },
      "execution_count": null,
      "outputs": []
    },
    {
      "cell_type": "markdown",
      "source": [
        "#Table6"
      ],
      "metadata": {
        "id": "azr0f7OEpX5m"
      }
    },
    {
      "cell_type": "code",
      "source": [
        "#Import Tbale 6 into python environment\n",
        "data_table6 = pd.read_excel(\"/content/UN_MigrantStockTotal_2015.xlsx\",sheet_name = \"Table 6\")\n",
        "data_table6.head(14)"
      ],
      "metadata": {
        "id": "BJ_-eI3DpXgU"
      },
      "execution_count": null,
      "outputs": []
    },
    {
      "cell_type": "code",
      "source": [
        "#Drop redundant rows and set columns for the table\n",
        "header_row = 13\n",
        "data_table6.columns = data_table6.iloc[header_row]\n",
        "print(data_table6.columns)\n",
        "data6=data_table6.drop([0,1,2,3,4,5,6,7,8,9,10,11,12,13,14])\n",
        "data6.shape\n",
        "data6.head()"
      ],
      "metadata": {
        "id": "VWnXvWgNph_L"
      },
      "execution_count": null,
      "outputs": []
    },
    {
      "cell_type": "code",
      "source": [
        "# Rename and clear up the new columns \n",
        "data6.columns = (\"Sort\\order\",\"Major area, region, country or area of destination\",\"Notes\",\"Country code\",\"Type of data (a)\",\"1990-Estimated refugee stock at midyear /both sexes\",\"1995-Estimated refugee stock at midyear /both sexes\",\"2000-Estimated refugee stock at midyear /both sexes\",\"2005-Estimated refugee stock at midyear /both sexes\",\"2010-Estimated refugee stock at midyear /both sexes\",\"2015-Estimated refugee stock at midyear /both sexes\",\"1990-Refugees as a percentage of the international migrant stock\",\"1995-Refugees as a percentage of the international migrant stock\",\"2000-Refugees as a percentage of the international migrant stock\",\"2005-Refugees as a percentage of the international migrant stock\",\"2010-Refugees as a percentage of the international migrant stock\",\"2015-Refugees as a percentage of the international migrant stock\",\"1990-1995/Annual rate of change of the refugee stock\",\"1995-2000/Annual rate of change of the refugee stock\",\"2000-2005/Annual rate of change of the refugee stock\",\"2005-2010/Annual rate of change of the refugee stock\",\"2010-2015/Annual rate of change of the refugee stock\")\n",
        "data6.style.hide_index()\n",
        "data6.head()"
      ],
      "metadata": {
        "id": "7_ACqjERp8_h"
      },
      "execution_count": null,
      "outputs": []
    },
    {
      "cell_type": "code",
      "source": [
        "#show numbers of row and columns\n",
        "data6.shape"
      ],
      "metadata": {
        "colab": {
          "base_uri": "https://localhost:8080/"
        },
        "id": "5dGkJAXwpJjA",
        "outputId": "2c500878-2ae2-4685-cacf-1b08005fe8be"
      },
      "execution_count": 29,
      "outputs": [
        {
          "output_type": "execute_result",
          "data": {
            "text/plain": [
              "(265, 22)"
            ]
          },
          "metadata": {},
          "execution_count": 29
        }
      ]
    },
    {
      "cell_type": "markdown",
      "source": [
        "Table6-1-\"Estimated refugee stock at mid-year (both sexes) from 1990-2015\""
      ],
      "metadata": {
        "id": "xATyeh6dp-l6"
      }
    },
    {
      "cell_type": "code",
      "source": [
        "#Since table 6 covers three different unrelated data content, split the table to make it more concise\n",
        "print(\"Estimated refugee stock at mid-year (both sexes) from 1990-2015\")\n",
        "data6_estrefugee=data6.loc[:,(\"Sort\\order\",\"Major area, region, country or area of destination\",\"Notes\",\"Country code\",\"Type of data (a)\",\"1990-Estimated refugee stock at midyear /both sexes\",\"1995-Estimated refugee stock at midyear /both sexes\",\"2000-Estimated refugee stock at midyear /both sexes\",\"2005-Estimated refugee stock at midyear /both sexes\",\"2010-Estimated refugee stock at midyear /both sexes\",\"2015-Estimated refugee stock at midyear /both sexes\")]\n",
        "data6_estrefugee.head()"
      ],
      "metadata": {
        "id": "NVQa1HXYpzEC"
      },
      "execution_count": null,
      "outputs": []
    },
    {
      "cell_type": "code",
      "source": [
        "#the first part of table 6 - \"Estimated refugee stock at mid-year\"\n",
        "print(\"Estimated refugee stock at mid-year\")\n",
        "data6_estrefugeetidy = pd.melt(frame=data6_estrefugee, id_vars =[\"Sort\\order\", \"Major area, region, country or area of destination\",'Notes', 'Country code', 'Type of data (a)'], var_name = \"Years/Sexes\" , value_name = \"Estimated refugee stock at midyear\")\n",
        "data6_estrefugeetidy.head(10)"
      ],
      "metadata": {
        "id": "PFN0t0vEtI2z"
      },
      "execution_count": null,
      "outputs": []
    },
    {
      "cell_type": "code",
      "source": [
        "#clear up the columns name to ensure that each columns only contain a variable\n",
        "data6_estrefugeetidy[\"Years/Sexes\"].str.split(\"-\").head\n",
        "data6_estrefugeetidy[\"Years/Sexes\"].str.split(\"-\",expand=True).head()\n",
        "data6_estrefugeetidy[[\"Years\",\"Gender\"]]=data6_estrefugeetidy[\"Years/Sexes\"].str.split(\"-\",expand=True)\n",
        "data6_estrefugeetidy.head()\n",
        "data6_estrefugeetidy[\"Gender\"].str.split(\"/\").head()\n",
        "data6_estrefugeetidy[[\"Estimated refugee stock at mid-year\",\"Gender\"]]= data6_estrefugeetidy[\"Gender\"].str.split(\"/\", expand=True)\n",
        "data6_estrefugeetidy.head()\n",
        "columns_name6_1=list(data6_estrefugeetidy.columns)\n",
        "columns_name6_1\n",
        "new_columns6_1=['Sort\\\\order','Major area, region, country or area of destination','Notes','Country code','Type of data (a)','Years','Gender','Estimated refugee stock at midyear','Estimated refugee stock at mid-year','Years/Sexes']\n",
        "data6_estrefugeetidy=data6_estrefugeetidy[new_columns6_1]\n",
        "data6_estrefugeetidy.head()"
      ],
      "metadata": {
        "id": "dfv0AaUmt24R"
      },
      "execution_count": null,
      "outputs": []
    },
    {
      "cell_type": "code",
      "source": [
        "#Drop redundant colunms\n",
        "data6_estrefugeetidy1=data6_estrefugeetidy.drop(['Estimated refugee stock at mid-year',\"Years/Sexes\"], axis=1)\n",
        "data6_estrefugeetidy1.head()"
      ],
      "metadata": {
        "id": "yI6LSzWLzqyr"
      },
      "execution_count": null,
      "outputs": []
    },
    {
      "cell_type": "markdown",
      "source": [
        "Table6-2-\"Refugees as a percentage of the international migrant stock\""
      ],
      "metadata": {
        "id": "xCt2KoJGtKRz"
      }
    },
    {
      "cell_type": "code",
      "source": [
        "# the second part of table 6 - \"\"Refugees as a percentage of the international migrant stock\"\n",
        "print(\"Refugees as a percentage of the international migrant stock\")\n",
        "data6_refugeepercent=data6.loc[:,(\"Sort\\order\",\"Major area, region, country or area of destination\",\"Notes\",\"Country code\",\"Type of data (a)\",\"1990-Refugees as a percentage of the international migrant stock\",\t\"1995-Refugees as a percentage of the international migrant stock\",\"2000-Refugees as a percentage of the international migrant stock\",\"2005-Refugees as a percentage of the international migrant stock\",\"2010-Refugees as a percentage of the international migrant stock\",\"2015-Refugees as a percentage of the international migrant stock\")]\n",
        "data6_refugeepercent.head()"
      ],
      "metadata": {
        "id": "h41_rqHprC6U"
      },
      "execution_count": null,
      "outputs": []
    },
    {
      "cell_type": "code",
      "source": [
        "# tidy the dataframe - \"Refugees as a percentage of the international migrant stock\"\n",
        "print(\"Refugees as a percentage of the international migrant stock\")\n",
        "data6_refugeepercent = pd.melt(frame=data6_refugeepercent, id_vars =[\"Sort\\order\", \"Major area, region, country or area of destination\",'Notes', 'Country code', 'Type of data (a)'], var_name = \"Years/Title\" , value_name = \"Refugees as a percentage of the international migrant stock\")\n",
        "data6_refugeepercent.head(10)"
      ],
      "metadata": {
        "id": "86wy8i-wuRsd"
      },
      "execution_count": null,
      "outputs": []
    },
    {
      "cell_type": "code",
      "source": [
        "#clear up the columns name to ensure that each columns only contain a variable\n",
        "data6_refugeepercent[\"Years/Title\"].str.split(\"-\").head\n",
        "data6_refugeepercent[\"Years/Title\"].str.split(\"-\",expand=True).head()\n",
        "data6_refugeepercent[[\"Years\",\"Titlle\"]]=data6_refugeepercent[\"Years/Title\"].str.split(\"-\",expand=True)\n",
        "data6_refugeepercent.head()"
      ],
      "metadata": {
        "id": "FYSr7TsKs4gk"
      },
      "execution_count": null,
      "outputs": []
    },
    {
      "cell_type": "code",
      "source": [
        "# Clear up and rearrange the columns for the second part of Table 6\n",
        "columns_name6_2=list(data6_refugeepercent.columns)\n",
        "columns_name6_2\n",
        "new_columns6_2=['Sort\\\\order','Major area, region, country or area of destination','Notes','Country code','Type of data (a)',\"Years\",'Refugees as a percentage of the international migrant stock','Years/Title',\"Titlle\"]\n",
        "data6_refugeepercenttidy=data6_refugeepercent[new_columns6_2]\n",
        "data6_refugeepercenttidy.head()"
      ],
      "metadata": {
        "id": "Oud0qXRvKM1-"
      },
      "execution_count": null,
      "outputs": []
    },
    {
      "cell_type": "code",
      "source": [
        "# Drop redundant colunms\n",
        "data6_refugeepercenttidy1=data6_refugeepercenttidy.drop(['Years/Title',\"Titlle\"], axis=1)\n",
        "data6_refugeepercenttidy1.head()"
      ],
      "metadata": {
        "id": "-5xwGUukKlgu"
      },
      "execution_count": null,
      "outputs": []
    },
    {
      "cell_type": "markdown",
      "source": [
        "Table6-3-\"Annual rate of change of the refugee stock from 1990-2015\""
      ],
      "metadata": {
        "id": "kTgcEc5sLetl"
      }
    },
    {
      "cell_type": "code",
      "source": [
        "# the second part of table 6 - \"Annual rate of change of the refugee stock from 1990-2015\"\n",
        "print(\"Annual rate of change of the refugee stock from 1990-2015\")\n",
        "data6_annualratechange=data6.loc[:,(\"Sort\\order\",\"Major area, region, country or area of destination\",\"Notes\",\"Country code\",\"Type of data (a)\",\"1990-1995/Annual rate of change of the refugee stock\",\"1995-2000/Annual rate of change of the refugee stock\",\"2000-2005/Annual rate of change of the refugee stock\",\"2005-2010/Annual rate of change of the refugee stock\",\"2010-2015/Annual rate of change of the refugee stock\")]\n",
        "data6_annualratechange.head()"
      ],
      "metadata": {
        "id": "8XjrKHj-Leci"
      },
      "execution_count": null,
      "outputs": []
    },
    {
      "cell_type": "code",
      "source": [
        "# tidy the dataframe - \"Annual rate of change of the refugee stock from 1990-2015\"\n",
        "print(\"Annual rate of change of the refugee stock from 1990-2015\")\n",
        "data6_annualratechange = pd.melt(frame=data6_annualratechange, id_vars =[\"Sort\\order\", \"Major area, region, country or area of destination\",'Notes', 'Country code', 'Type of data (a)'], var_name = \"Years/Title\" , value_name = \"Annual rate of change of the refugee stock from 1990-2015\")\n",
        "data6_annualratechange.head(10)"
      ],
      "metadata": {
        "id": "1lJvBCFwMV4O"
      },
      "execution_count": null,
      "outputs": []
    },
    {
      "cell_type": "code",
      "source": [
        "#clear up the columns name to ensure that each columns only contain a variable\n",
        "print(\"Annual rate of change of the refugee stock from 1990-2015\")\n",
        "data6_annualratechange[\"Years/Title\"].str.split(\"/\").head\n",
        "data6_annualratechange[\"Years/Title\"].str.split(\"/\",expand=True).head()\n",
        "data6_annualratechange[[\"Years\",\"Titlle\"]]=data6_annualratechange[\"Years/Title\"].str.split(\"/\",expand=True)\n",
        "data6_annualratechange.head()"
      ],
      "metadata": {
        "id": "aYO99lsINGbp"
      },
      "execution_count": null,
      "outputs": []
    },
    {
      "cell_type": "code",
      "source": [
        "# Clear up and rearrange the columns for the third part of Table 6\n",
        "columns_name6_3=list(data6_annualratechange.columns)\n",
        "columns_name6_3\n",
        "new_columns6_3=['Sort\\\\order','Major area, region, country or area of destination','Notes','Country code','Type of data (a)',\"Years\",\"Annual rate of change of the refugee stock from 1990-2015\",'Years/Title',\"Titlle\",\"Title\"]\n",
        "data6_annualratechange=data6_annualratechange[new_columns6_3]\n",
        "data6_annualratechange.head()"
      ],
      "metadata": {
        "id": "fepu93U_O_ah"
      },
      "execution_count": null,
      "outputs": []
    },
    {
      "cell_type": "code",
      "source": [
        "# Drop redundant colunms\n",
        "data6_annualratechangetidy1=data6_annualratechange.drop(['Years/Title',\"Title\",\"Titlle\"], axis=1)\n",
        "data6_annualratechangetidy1.head()"
      ],
      "metadata": {
        "id": "ZCv9GGaAQjg0"
      },
      "execution_count": null,
      "outputs": []
    }
  ]
}