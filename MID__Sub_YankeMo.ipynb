{
  "nbformat": 4,
  "nbformat_minor": 0,
  "metadata": {
    "colab": {
      "provenance": [],
      "authorship_tag": "ABX9TyMMazja4oKSUektI+N/YFPs",
      "include_colab_link": true
    },
    "kernelspec": {
      "name": "python3",
      "display_name": "Python 3"
    },
    "language_info": {
      "name": "python"
    }
  },
  "cells": [
    {
      "cell_type": "markdown",
      "metadata": {
        "id": "view-in-github",
        "colab_type": "text"
      },
      "source": [
        "<a href=\"https://colab.research.google.com/github/moyanke/inf1340-programmingfordatascience-fa22/blob/main/MID__Sub_YankeMo.ipynb\" target=\"_parent\"><img src=\"https://colab.research.google.com/assets/colab-badge.svg\" alt=\"Open In Colab\"/></a>"
      ]
    },
    {
      "cell_type": "code",
      "execution_count": 1,
      "metadata": {
        "id": "KWf5445Ez39o"
      },
      "outputs": [],
      "source": [
        "import pandas as pd\n",
        "import numpy as np\n",
        "import matplotlib.pyplot as plt\n",
        "import seaborn as sns\n",
        "import plotly\n",
        "df = pd.read_excel('/content/UN_MigrantStockTotal_2015.xlsx')\n"
      ]
    },
    {
      "cell_type": "code",
      "source": [
        "table_01 = pd.read_excel('/content/UN_MigrantStockTotal_2015.xlsx', sheet_name='Table 1')\n",
        "table_02= pd.read_excel('/content/UN_MigrantStockTotal_2015.xlsx', sheet_name='Table 2')\n",
        "table_03= pd.read_excel('/content/UN_MigrantStockTotal_2015.xlsx', sheet_name='Table 3')\n",
        "table_04= pd.read_excel('/content/UN_MigrantStockTotal_2015.xlsx', sheet_name='Table 4')\n",
        "table_05= pd.read_excel('/content/UN_MigrantStockTotal_2015.xlsx', sheet_name='Table 5')\n",
        "table_06= pd.read_excel('/content/UN_MigrantStockTotal_2015.xlsx', sheet_name='Table 6')\n",
        "table_annex= pd.read_excel('/content/UN_MigrantStockTotal_2015.xlsx', sheet_name='ANNEX')\n",
        "table_notes= pd.read_excel('/content/UN_MigrantStockTotal_2015.xlsx', sheet_name='NOTES')\n"
      ],
      "metadata": {
        "id": "OfUDApV4Mp4h"
      },
      "execution_count": 3,
      "outputs": []
    },
    {
      "cell_type": "code",
      "source": [
        "table_01"
      ],
      "metadata": {
        "id": "kDDAUFkqSdv-"
      },
      "execution_count": null,
      "outputs": []
    },
    {
      "cell_type": "code",
      "source": [
        "table_1_1 = table_01.drop(table_01.index[0:15])\n",
        "table_1_1 #Drop 0-15 rows"
      ],
      "metadata": {
        "id": "CItHolXvS_yu"
      },
      "execution_count": null,
      "outputs": []
    },
    {
      "cell_type": "code",
      "source": [
        "table_1_1.columns"
      ],
      "metadata": {
        "id": "GCByV87xc3T3",
        "colab": {
          "base_uri": "https://localhost:8080/"
        },
        "outputId": "d68fa91f-2fff-46ca-ab01-531a0d9bc923"
      },
      "execution_count": 6,
      "outputs": [
        {
          "output_type": "execute_result",
          "data": {
            "text/plain": [
              "Index(['Unnamed: 0', 'Unnamed: 1', 'Unnamed: 2', 'Unnamed: 3', 'Unnamed: 4',\n",
              "       'Unnamed: 5', 'Unnamed: 6', 'Unnamed: 7', 'Unnamed: 8', 'Unnamed: 9',\n",
              "       'Unnamed: 10', 'Unnamed: 11', 'Unnamed: 12', 'Unnamed: 13',\n",
              "       'Unnamed: 14', 'Unnamed: 15', 'Unnamed: 16', 'Unnamed: 17',\n",
              "       'Unnamed: 18', 'Unnamed: 19', 'Unnamed: 20', 'Unnamed: 21',\n",
              "       'Unnamed: 22'],\n",
              "      dtype='object')"
            ]
          },
          "metadata": {},
          "execution_count": 6
        }
      ]
    },
    {
      "cell_type": "code",
      "source": [
        "table_1_1.columns=['Order','Name of Area','Notes','Country Code','Type of Data(a)','1990 Migrant Stock Both Sex',\n",
        "                  '1995 Migrant Stock Both Sex','2000 Migrant Stock Both Sex','2005 Migrant Stock Both Sex',\n",
        "                  '2010 Migrant Stock Both Sex','2015 Migrant Stock Both Sex','1990 Migrant Stock Male',\n",
        "                  '1995 Migrant Stock Male','2000 Migrant Stock Male','2005 Migrant Stock Male','2010 Migrant Stock Male',\n",
        "                  '2015 Migrant Stock Male','1990 Migrant Stock Female','1995 Migrant Stock Female)','2000 Migrant Stock Female',\n",
        "                  '2005 Migrant Stock Female','2010 Migrant Stock Female',\n",
        "                  '2015 Migrant Stock Female']"
      ],
      "metadata": {
        "id": "v1DSAlW0HiXQ"
      },
      "execution_count": 8,
      "outputs": []
    },
    {
      "cell_type": "code",
      "source": [
        "table_1_1 #rename the columns"
      ],
      "metadata": {
        "id": "Ji6saZ27J8Ez"
      },
      "execution_count": null,
      "outputs": []
    },
    {
      "cell_type": "code",
      "source": [
        "tidy_table_01 = table_1_1.melt(id_vars=[\"Order\",\"Name of Area\",\"Notes\",\"Country Code\",\"Type of Data(a)\"],var_name=\"Year\",value_name=\"Migrant Stock\")"
      ],
      "metadata": {
        "id": "T_cy6x7g-NkZ"
      },
      "execution_count": 13,
      "outputs": []
    },
    {
      "cell_type": "code",
      "source": [
        "tidy_table_01"
      ],
      "metadata": {
        "id": "3bCbsj2JdGrX",
        "colab": {
          "base_uri": "https://localhost:8080/",
          "height": 655
        },
        "outputId": "b0b601fd-baff-41dc-d51c-99a4b48174ce"
      },
      "execution_count": 14,
      "outputs": [
        {
          "output_type": "execute_result",
          "data": {
            "text/plain": [
              "     Order                                       Name of Area Notes  \\\n",
              "0        1                                              WORLD   NaN   \n",
              "1        2                                  Developed regions   (b)   \n",
              "2        3                                 Developing regions   (c)   \n",
              "3        4                          Least developed countries   (d)   \n",
              "4        5  Less developed regions excluding least develop...   NaN   \n",
              "...    ...                                                ...   ...   \n",
              "4765   261                                              Samoa   NaN   \n",
              "4766   262                                            Tokelau   NaN   \n",
              "4767   263                                              Tonga   NaN   \n",
              "4768   264                                             Tuvalu   NaN   \n",
              "4769   265                          Wallis and Futuna Islands   NaN   \n",
              "\n",
              "     Country Code Type of Data(a)                         Year Migrant Stock  \n",
              "0             900             NaN  1990 Migrant Stock Both Sex     152563212  \n",
              "1             901             NaN  1990 Migrant Stock Both Sex      82378628  \n",
              "2             902             NaN  1990 Migrant Stock Both Sex      70184584  \n",
              "3             941             NaN  1990 Migrant Stock Both Sex      11075966  \n",
              "4             934             NaN  1990 Migrant Stock Both Sex      59105261  \n",
              "...           ...             ...                          ...           ...  \n",
              "4765          882               B    2015 Migrant Stock Female        2460.0  \n",
              "4766          772               B    2015 Migrant Stock Female         254.0  \n",
              "4767          776               B    2015 Migrant Stock Female        2604.0  \n",
              "4768          798               C    2015 Migrant Stock Female          63.0  \n",
              "4769          876               B    2015 Migrant Stock Female        1411.0  \n",
              "\n",
              "[4770 rows x 7 columns]"
            ],
            "text/html": [
              "\n",
              "  <div id=\"df-063e4c01-020e-4f26-86a8-df26e07d7d85\">\n",
              "    <div class=\"colab-df-container\">\n",
              "      <div>\n",
              "<style scoped>\n",
              "    .dataframe tbody tr th:only-of-type {\n",
              "        vertical-align: middle;\n",
              "    }\n",
              "\n",
              "    .dataframe tbody tr th {\n",
              "        vertical-align: top;\n",
              "    }\n",
              "\n",
              "    .dataframe thead th {\n",
              "        text-align: right;\n",
              "    }\n",
              "</style>\n",
              "<table border=\"1\" class=\"dataframe\">\n",
              "  <thead>\n",
              "    <tr style=\"text-align: right;\">\n",
              "      <th></th>\n",
              "      <th>Order</th>\n",
              "      <th>Name of Area</th>\n",
              "      <th>Notes</th>\n",
              "      <th>Country Code</th>\n",
              "      <th>Type of Data(a)</th>\n",
              "      <th>Year</th>\n",
              "      <th>Migrant Stock</th>\n",
              "    </tr>\n",
              "  </thead>\n",
              "  <tbody>\n",
              "    <tr>\n",
              "      <th>0</th>\n",
              "      <td>1</td>\n",
              "      <td>WORLD</td>\n",
              "      <td>NaN</td>\n",
              "      <td>900</td>\n",
              "      <td>NaN</td>\n",
              "      <td>1990 Migrant Stock Both Sex</td>\n",
              "      <td>152563212</td>\n",
              "    </tr>\n",
              "    <tr>\n",
              "      <th>1</th>\n",
              "      <td>2</td>\n",
              "      <td>Developed regions</td>\n",
              "      <td>(b)</td>\n",
              "      <td>901</td>\n",
              "      <td>NaN</td>\n",
              "      <td>1990 Migrant Stock Both Sex</td>\n",
              "      <td>82378628</td>\n",
              "    </tr>\n",
              "    <tr>\n",
              "      <th>2</th>\n",
              "      <td>3</td>\n",
              "      <td>Developing regions</td>\n",
              "      <td>(c)</td>\n",
              "      <td>902</td>\n",
              "      <td>NaN</td>\n",
              "      <td>1990 Migrant Stock Both Sex</td>\n",
              "      <td>70184584</td>\n",
              "    </tr>\n",
              "    <tr>\n",
              "      <th>3</th>\n",
              "      <td>4</td>\n",
              "      <td>Least developed countries</td>\n",
              "      <td>(d)</td>\n",
              "      <td>941</td>\n",
              "      <td>NaN</td>\n",
              "      <td>1990 Migrant Stock Both Sex</td>\n",
              "      <td>11075966</td>\n",
              "    </tr>\n",
              "    <tr>\n",
              "      <th>4</th>\n",
              "      <td>5</td>\n",
              "      <td>Less developed regions excluding least develop...</td>\n",
              "      <td>NaN</td>\n",
              "      <td>934</td>\n",
              "      <td>NaN</td>\n",
              "      <td>1990 Migrant Stock Both Sex</td>\n",
              "      <td>59105261</td>\n",
              "    </tr>\n",
              "    <tr>\n",
              "      <th>...</th>\n",
              "      <td>...</td>\n",
              "      <td>...</td>\n",
              "      <td>...</td>\n",
              "      <td>...</td>\n",
              "      <td>...</td>\n",
              "      <td>...</td>\n",
              "      <td>...</td>\n",
              "    </tr>\n",
              "    <tr>\n",
              "      <th>4765</th>\n",
              "      <td>261</td>\n",
              "      <td>Samoa</td>\n",
              "      <td>NaN</td>\n",
              "      <td>882</td>\n",
              "      <td>B</td>\n",
              "      <td>2015 Migrant Stock Female</td>\n",
              "      <td>2460.0</td>\n",
              "    </tr>\n",
              "    <tr>\n",
              "      <th>4766</th>\n",
              "      <td>262</td>\n",
              "      <td>Tokelau</td>\n",
              "      <td>NaN</td>\n",
              "      <td>772</td>\n",
              "      <td>B</td>\n",
              "      <td>2015 Migrant Stock Female</td>\n",
              "      <td>254.0</td>\n",
              "    </tr>\n",
              "    <tr>\n",
              "      <th>4767</th>\n",
              "      <td>263</td>\n",
              "      <td>Tonga</td>\n",
              "      <td>NaN</td>\n",
              "      <td>776</td>\n",
              "      <td>B</td>\n",
              "      <td>2015 Migrant Stock Female</td>\n",
              "      <td>2604.0</td>\n",
              "    </tr>\n",
              "    <tr>\n",
              "      <th>4768</th>\n",
              "      <td>264</td>\n",
              "      <td>Tuvalu</td>\n",
              "      <td>NaN</td>\n",
              "      <td>798</td>\n",
              "      <td>C</td>\n",
              "      <td>2015 Migrant Stock Female</td>\n",
              "      <td>63.0</td>\n",
              "    </tr>\n",
              "    <tr>\n",
              "      <th>4769</th>\n",
              "      <td>265</td>\n",
              "      <td>Wallis and Futuna Islands</td>\n",
              "      <td>NaN</td>\n",
              "      <td>876</td>\n",
              "      <td>B</td>\n",
              "      <td>2015 Migrant Stock Female</td>\n",
              "      <td>1411.0</td>\n",
              "    </tr>\n",
              "  </tbody>\n",
              "</table>\n",
              "<p>4770 rows × 7 columns</p>\n",
              "</div>\n",
              "      <button class=\"colab-df-convert\" onclick=\"convertToInteractive('df-063e4c01-020e-4f26-86a8-df26e07d7d85')\"\n",
              "              title=\"Convert this dataframe to an interactive table.\"\n",
              "              style=\"display:none;\">\n",
              "        \n",
              "  <svg xmlns=\"http://www.w3.org/2000/svg\" height=\"24px\"viewBox=\"0 0 24 24\"\n",
              "       width=\"24px\">\n",
              "    <path d=\"M0 0h24v24H0V0z\" fill=\"none\"/>\n",
              "    <path d=\"M18.56 5.44l.94 2.06.94-2.06 2.06-.94-2.06-.94-.94-2.06-.94 2.06-2.06.94zm-11 1L8.5 8.5l.94-2.06 2.06-.94-2.06-.94L8.5 2.5l-.94 2.06-2.06.94zm10 10l.94 2.06.94-2.06 2.06-.94-2.06-.94-.94-2.06-.94 2.06-2.06.94z\"/><path d=\"M17.41 7.96l-1.37-1.37c-.4-.4-.92-.59-1.43-.59-.52 0-1.04.2-1.43.59L10.3 9.45l-7.72 7.72c-.78.78-.78 2.05 0 2.83L4 21.41c.39.39.9.59 1.41.59.51 0 1.02-.2 1.41-.59l7.78-7.78 2.81-2.81c.8-.78.8-2.07 0-2.86zM5.41 20L4 18.59l7.72-7.72 1.47 1.35L5.41 20z\"/>\n",
              "  </svg>\n",
              "      </button>\n",
              "      \n",
              "  <style>\n",
              "    .colab-df-container {\n",
              "      display:flex;\n",
              "      flex-wrap:wrap;\n",
              "      gap: 12px;\n",
              "    }\n",
              "\n",
              "    .colab-df-convert {\n",
              "      background-color: #E8F0FE;\n",
              "      border: none;\n",
              "      border-radius: 50%;\n",
              "      cursor: pointer;\n",
              "      display: none;\n",
              "      fill: #1967D2;\n",
              "      height: 32px;\n",
              "      padding: 0 0 0 0;\n",
              "      width: 32px;\n",
              "    }\n",
              "\n",
              "    .colab-df-convert:hover {\n",
              "      background-color: #E2EBFA;\n",
              "      box-shadow: 0px 1px 2px rgba(60, 64, 67, 0.3), 0px 1px 3px 1px rgba(60, 64, 67, 0.15);\n",
              "      fill: #174EA6;\n",
              "    }\n",
              "\n",
              "    [theme=dark] .colab-df-convert {\n",
              "      background-color: #3B4455;\n",
              "      fill: #D2E3FC;\n",
              "    }\n",
              "\n",
              "    [theme=dark] .colab-df-convert:hover {\n",
              "      background-color: #434B5C;\n",
              "      box-shadow: 0px 1px 3px 1px rgba(0, 0, 0, 0.15);\n",
              "      filter: drop-shadow(0px 1px 2px rgba(0, 0, 0, 0.3));\n",
              "      fill: #FFFFFF;\n",
              "    }\n",
              "  </style>\n",
              "\n",
              "      <script>\n",
              "        const buttonEl =\n",
              "          document.querySelector('#df-063e4c01-020e-4f26-86a8-df26e07d7d85 button.colab-df-convert');\n",
              "        buttonEl.style.display =\n",
              "          google.colab.kernel.accessAllowed ? 'block' : 'none';\n",
              "\n",
              "        async function convertToInteractive(key) {\n",
              "          const element = document.querySelector('#df-063e4c01-020e-4f26-86a8-df26e07d7d85');\n",
              "          const dataTable =\n",
              "            await google.colab.kernel.invokeFunction('convertToInteractive',\n",
              "                                                     [key], {});\n",
              "          if (!dataTable) return;\n",
              "\n",
              "          const docLinkHtml = 'Like what you see? Visit the ' +\n",
              "            '<a target=\"_blank\" href=https://colab.research.google.com/notebooks/data_table.ipynb>data table notebook</a>'\n",
              "            + ' to learn more about interactive tables.';\n",
              "          element.innerHTML = '';\n",
              "          dataTable['output_type'] = 'display_data';\n",
              "          await google.colab.output.renderOutput(dataTable, element);\n",
              "          const docLink = document.createElement('div');\n",
              "          docLink.innerHTML = docLinkHtml;\n",
              "          element.appendChild(docLink);\n",
              "        }\n",
              "      </script>\n",
              "    </div>\n",
              "  </div>\n",
              "  "
            ]
          },
          "metadata": {},
          "execution_count": 14
        }
      ]
    },
    {
      "cell_type": "code",
      "source": [
        "tidy_table_01=(tidy_table_01.assign(year = lambda x: x.Year.str[:4].astype(str), Gender = lambda x: x.Year.str[18:].astype(str)).drop(\"Year\",axis=1))\n",
        "tidy_table_01 #Separate the Year cloumns into year, gemder, migrant stock"
      ],
      "metadata": {
        "id": "nN-gw1rIdMdk",
        "colab": {
          "base_uri": "https://localhost:8080/",
          "height": 655
        },
        "outputId": "029219c8-a957-4fe1-e8a9-a2e12834704d"
      },
      "execution_count": 16,
      "outputs": [
        {
          "output_type": "execute_result",
          "data": {
            "text/plain": [
              "     Order                                       Name of Area Notes  \\\n",
              "0        1                                              WORLD   NaN   \n",
              "1        2                                  Developed regions   (b)   \n",
              "2        3                                 Developing regions   (c)   \n",
              "3        4                          Least developed countries   (d)   \n",
              "4        5  Less developed regions excluding least develop...   NaN   \n",
              "...    ...                                                ...   ...   \n",
              "4765   261                                              Samoa   NaN   \n",
              "4766   262                                            Tokelau   NaN   \n",
              "4767   263                                              Tonga   NaN   \n",
              "4768   264                                             Tuvalu   NaN   \n",
              "4769   265                          Wallis and Futuna Islands   NaN   \n",
              "\n",
              "     Country Code Type of Data(a) Migrant Stock  year     Gender  \n",
              "0             900             NaN     152563212  1990   Both Sex  \n",
              "1             901             NaN      82378628  1990   Both Sex  \n",
              "2             902             NaN      70184584  1990   Both Sex  \n",
              "3             941             NaN      11075966  1990   Both Sex  \n",
              "4             934             NaN      59105261  1990   Both Sex  \n",
              "...           ...             ...           ...   ...        ...  \n",
              "4765          882               B        2460.0  2015     Female  \n",
              "4766          772               B         254.0  2015     Female  \n",
              "4767          776               B        2604.0  2015     Female  \n",
              "4768          798               C          63.0  2015     Female  \n",
              "4769          876               B        1411.0  2015     Female  \n",
              "\n",
              "[4770 rows x 8 columns]"
            ],
            "text/html": [
              "\n",
              "  <div id=\"df-0f969e8e-5657-4435-8df9-bfb8c66062fa\">\n",
              "    <div class=\"colab-df-container\">\n",
              "      <div>\n",
              "<style scoped>\n",
              "    .dataframe tbody tr th:only-of-type {\n",
              "        vertical-align: middle;\n",
              "    }\n",
              "\n",
              "    .dataframe tbody tr th {\n",
              "        vertical-align: top;\n",
              "    }\n",
              "\n",
              "    .dataframe thead th {\n",
              "        text-align: right;\n",
              "    }\n",
              "</style>\n",
              "<table border=\"1\" class=\"dataframe\">\n",
              "  <thead>\n",
              "    <tr style=\"text-align: right;\">\n",
              "      <th></th>\n",
              "      <th>Order</th>\n",
              "      <th>Name of Area</th>\n",
              "      <th>Notes</th>\n",
              "      <th>Country Code</th>\n",
              "      <th>Type of Data(a)</th>\n",
              "      <th>Migrant Stock</th>\n",
              "      <th>year</th>\n",
              "      <th>Gender</th>\n",
              "    </tr>\n",
              "  </thead>\n",
              "  <tbody>\n",
              "    <tr>\n",
              "      <th>0</th>\n",
              "      <td>1</td>\n",
              "      <td>WORLD</td>\n",
              "      <td>NaN</td>\n",
              "      <td>900</td>\n",
              "      <td>NaN</td>\n",
              "      <td>152563212</td>\n",
              "      <td>1990</td>\n",
              "      <td>Both Sex</td>\n",
              "    </tr>\n",
              "    <tr>\n",
              "      <th>1</th>\n",
              "      <td>2</td>\n",
              "      <td>Developed regions</td>\n",
              "      <td>(b)</td>\n",
              "      <td>901</td>\n",
              "      <td>NaN</td>\n",
              "      <td>82378628</td>\n",
              "      <td>1990</td>\n",
              "      <td>Both Sex</td>\n",
              "    </tr>\n",
              "    <tr>\n",
              "      <th>2</th>\n",
              "      <td>3</td>\n",
              "      <td>Developing regions</td>\n",
              "      <td>(c)</td>\n",
              "      <td>902</td>\n",
              "      <td>NaN</td>\n",
              "      <td>70184584</td>\n",
              "      <td>1990</td>\n",
              "      <td>Both Sex</td>\n",
              "    </tr>\n",
              "    <tr>\n",
              "      <th>3</th>\n",
              "      <td>4</td>\n",
              "      <td>Least developed countries</td>\n",
              "      <td>(d)</td>\n",
              "      <td>941</td>\n",
              "      <td>NaN</td>\n",
              "      <td>11075966</td>\n",
              "      <td>1990</td>\n",
              "      <td>Both Sex</td>\n",
              "    </tr>\n",
              "    <tr>\n",
              "      <th>4</th>\n",
              "      <td>5</td>\n",
              "      <td>Less developed regions excluding least develop...</td>\n",
              "      <td>NaN</td>\n",
              "      <td>934</td>\n",
              "      <td>NaN</td>\n",
              "      <td>59105261</td>\n",
              "      <td>1990</td>\n",
              "      <td>Both Sex</td>\n",
              "    </tr>\n",
              "    <tr>\n",
              "      <th>...</th>\n",
              "      <td>...</td>\n",
              "      <td>...</td>\n",
              "      <td>...</td>\n",
              "      <td>...</td>\n",
              "      <td>...</td>\n",
              "      <td>...</td>\n",
              "      <td>...</td>\n",
              "      <td>...</td>\n",
              "    </tr>\n",
              "    <tr>\n",
              "      <th>4765</th>\n",
              "      <td>261</td>\n",
              "      <td>Samoa</td>\n",
              "      <td>NaN</td>\n",
              "      <td>882</td>\n",
              "      <td>B</td>\n",
              "      <td>2460.0</td>\n",
              "      <td>2015</td>\n",
              "      <td>Female</td>\n",
              "    </tr>\n",
              "    <tr>\n",
              "      <th>4766</th>\n",
              "      <td>262</td>\n",
              "      <td>Tokelau</td>\n",
              "      <td>NaN</td>\n",
              "      <td>772</td>\n",
              "      <td>B</td>\n",
              "      <td>254.0</td>\n",
              "      <td>2015</td>\n",
              "      <td>Female</td>\n",
              "    </tr>\n",
              "    <tr>\n",
              "      <th>4767</th>\n",
              "      <td>263</td>\n",
              "      <td>Tonga</td>\n",
              "      <td>NaN</td>\n",
              "      <td>776</td>\n",
              "      <td>B</td>\n",
              "      <td>2604.0</td>\n",
              "      <td>2015</td>\n",
              "      <td>Female</td>\n",
              "    </tr>\n",
              "    <tr>\n",
              "      <th>4768</th>\n",
              "      <td>264</td>\n",
              "      <td>Tuvalu</td>\n",
              "      <td>NaN</td>\n",
              "      <td>798</td>\n",
              "      <td>C</td>\n",
              "      <td>63.0</td>\n",
              "      <td>2015</td>\n",
              "      <td>Female</td>\n",
              "    </tr>\n",
              "    <tr>\n",
              "      <th>4769</th>\n",
              "      <td>265</td>\n",
              "      <td>Wallis and Futuna Islands</td>\n",
              "      <td>NaN</td>\n",
              "      <td>876</td>\n",
              "      <td>B</td>\n",
              "      <td>1411.0</td>\n",
              "      <td>2015</td>\n",
              "      <td>Female</td>\n",
              "    </tr>\n",
              "  </tbody>\n",
              "</table>\n",
              "<p>4770 rows × 8 columns</p>\n",
              "</div>\n",
              "      <button class=\"colab-df-convert\" onclick=\"convertToInteractive('df-0f969e8e-5657-4435-8df9-bfb8c66062fa')\"\n",
              "              title=\"Convert this dataframe to an interactive table.\"\n",
              "              style=\"display:none;\">\n",
              "        \n",
              "  <svg xmlns=\"http://www.w3.org/2000/svg\" height=\"24px\"viewBox=\"0 0 24 24\"\n",
              "       width=\"24px\">\n",
              "    <path d=\"M0 0h24v24H0V0z\" fill=\"none\"/>\n",
              "    <path d=\"M18.56 5.44l.94 2.06.94-2.06 2.06-.94-2.06-.94-.94-2.06-.94 2.06-2.06.94zm-11 1L8.5 8.5l.94-2.06 2.06-.94-2.06-.94L8.5 2.5l-.94 2.06-2.06.94zm10 10l.94 2.06.94-2.06 2.06-.94-2.06-.94-.94-2.06-.94 2.06-2.06.94z\"/><path d=\"M17.41 7.96l-1.37-1.37c-.4-.4-.92-.59-1.43-.59-.52 0-1.04.2-1.43.59L10.3 9.45l-7.72 7.72c-.78.78-.78 2.05 0 2.83L4 21.41c.39.39.9.59 1.41.59.51 0 1.02-.2 1.41-.59l7.78-7.78 2.81-2.81c.8-.78.8-2.07 0-2.86zM5.41 20L4 18.59l7.72-7.72 1.47 1.35L5.41 20z\"/>\n",
              "  </svg>\n",
              "      </button>\n",
              "      \n",
              "  <style>\n",
              "    .colab-df-container {\n",
              "      display:flex;\n",
              "      flex-wrap:wrap;\n",
              "      gap: 12px;\n",
              "    }\n",
              "\n",
              "    .colab-df-convert {\n",
              "      background-color: #E8F0FE;\n",
              "      border: none;\n",
              "      border-radius: 50%;\n",
              "      cursor: pointer;\n",
              "      display: none;\n",
              "      fill: #1967D2;\n",
              "      height: 32px;\n",
              "      padding: 0 0 0 0;\n",
              "      width: 32px;\n",
              "    }\n",
              "\n",
              "    .colab-df-convert:hover {\n",
              "      background-color: #E2EBFA;\n",
              "      box-shadow: 0px 1px 2px rgba(60, 64, 67, 0.3), 0px 1px 3px 1px rgba(60, 64, 67, 0.15);\n",
              "      fill: #174EA6;\n",
              "    }\n",
              "\n",
              "    [theme=dark] .colab-df-convert {\n",
              "      background-color: #3B4455;\n",
              "      fill: #D2E3FC;\n",
              "    }\n",
              "\n",
              "    [theme=dark] .colab-df-convert:hover {\n",
              "      background-color: #434B5C;\n",
              "      box-shadow: 0px 1px 3px 1px rgba(0, 0, 0, 0.15);\n",
              "      filter: drop-shadow(0px 1px 2px rgba(0, 0, 0, 0.3));\n",
              "      fill: #FFFFFF;\n",
              "    }\n",
              "  </style>\n",
              "\n",
              "      <script>\n",
              "        const buttonEl =\n",
              "          document.querySelector('#df-0f969e8e-5657-4435-8df9-bfb8c66062fa button.colab-df-convert');\n",
              "        buttonEl.style.display =\n",
              "          google.colab.kernel.accessAllowed ? 'block' : 'none';\n",
              "\n",
              "        async function convertToInteractive(key) {\n",
              "          const element = document.querySelector('#df-0f969e8e-5657-4435-8df9-bfb8c66062fa');\n",
              "          const dataTable =\n",
              "            await google.colab.kernel.invokeFunction('convertToInteractive',\n",
              "                                                     [key], {});\n",
              "          if (!dataTable) return;\n",
              "\n",
              "          const docLinkHtml = 'Like what you see? Visit the ' +\n",
              "            '<a target=\"_blank\" href=https://colab.research.google.com/notebooks/data_table.ipynb>data table notebook</a>'\n",
              "            + ' to learn more about interactive tables.';\n",
              "          element.innerHTML = '';\n",
              "          dataTable['output_type'] = 'display_data';\n",
              "          await google.colab.output.renderOutput(dataTable, element);\n",
              "          const docLink = document.createElement('div');\n",
              "          docLink.innerHTML = docLinkHtml;\n",
              "          element.appendChild(docLink);\n",
              "        }\n",
              "      </script>\n",
              "    </div>\n",
              "  </div>\n",
              "  "
            ]
          },
          "metadata": {},
          "execution_count": 16
        }
      ]
    },
    {
      "cell_type": "code",
      "source": [
        "table_02"
      ],
      "metadata": {
        "id": "hgH4IzPr8ihu"
      },
      "execution_count": null,
      "outputs": []
    },
    {
      "cell_type": "code",
      "source": [
        "table_2_1 = table_02.drop(table_02.index[0:15])\n",
        "table_2_1 #Drop 0-15 rows"
      ],
      "metadata": {
        "id": "jtz3Uq25Rzji"
      },
      "execution_count": null,
      "outputs": []
    },
    {
      "cell_type": "code",
      "source": [
        "table_2_1.columns"
      ],
      "metadata": {
        "id": "NEl2GdAER5pG"
      },
      "execution_count": null,
      "outputs": []
    },
    {
      "cell_type": "code",
      "source": [
        "table_2_1.columns=['Order','Name of Area','Notes','Country Code','1990 Total Population Both Sex',\n",
        "                  '1995 Total Population Both Sex','2000 Total Population Both Sex','2005 Total Population Both Sex',\n",
        "                  '2010 Total Population Both Sex','2015 Total Population Both Sex','1990 Total Population Male',\n",
        "                  '1995 Total Population Male','2000 Total Population Male','2005 Total Populatio Male','2010 Total Population Male',\n",
        "                  '2015 Total Population Male','1990 Total Population Female','1995 Total Population Female)','2000 Total Population Female',\n",
        "                  '2005 Total Population Female','2010 Total Population Female',\n",
        "                  '2015 Total Population Female']"
      ],
      "metadata": {
        "id": "PZoVnESUSDya"
      },
      "execution_count": null,
      "outputs": []
    },
    {
      "cell_type": "code",
      "source": [
        "table_2_1"
      ],
      "metadata": {
        "id": "GvufzJfHU9tJ"
      },
      "execution_count": null,
      "outputs": []
    },
    {
      "cell_type": "code",
      "source": [
        "tidy_table_02 = table_2_1.melt(id_vars=[\"Order\",\"Name of Area\",\"Notes\",\"Country Code\"],var_name=\"Year\",value_name=\"Total Population\")"
      ],
      "metadata": {
        "id": "tDHCrIsEVNgS"
      },
      "execution_count": null,
      "outputs": []
    },
    {
      "cell_type": "code",
      "source": [
        "tidy_table_02"
      ],
      "metadata": {
        "id": "lankDSehVcac"
      },
      "execution_count": null,
      "outputs": []
    },
    {
      "cell_type": "code",
      "source": [
        "tidy_table_02=(tidy_table_02.assign(year = lambda x: x.Year.str[:4].astype(str), Gender = lambda x: x.Year.str[22:].astype(str)).drop(\"Year\",axis=1))\n",
        "tidy_table_02 #Separate the Year cloumns into year, gemder, total population"
      ],
      "metadata": {
        "id": "aFDJTxuQU3MI",
        "colab": {
          "base_uri": "https://localhost:8080/",
          "height": 191
        },
        "outputId": "50f272a4-ad46-4521-fbc3-65c7023256a4"
      },
      "execution_count": 17,
      "outputs": [
        {
          "output_type": "error",
          "ename": "NameError",
          "evalue": "ignored",
          "traceback": [
            "\u001b[0;31m---------------------------------------------------------------------------\u001b[0m",
            "\u001b[0;31mNameError\u001b[0m                                 Traceback (most recent call last)",
            "\u001b[0;32m<ipython-input-17-353491256939>\u001b[0m in \u001b[0;36m<module>\u001b[0;34m\u001b[0m\n\u001b[0;32m----> 1\u001b[0;31m \u001b[0mtidy_table_02\u001b[0m\u001b[0;34m=\u001b[0m\u001b[0;34m(\u001b[0m\u001b[0mtidy_table_02\u001b[0m\u001b[0;34m.\u001b[0m\u001b[0massign\u001b[0m\u001b[0;34m(\u001b[0m\u001b[0myear\u001b[0m \u001b[0;34m=\u001b[0m \u001b[0;32mlambda\u001b[0m \u001b[0mx\u001b[0m\u001b[0;34m:\u001b[0m \u001b[0mx\u001b[0m\u001b[0;34m.\u001b[0m\u001b[0mYear\u001b[0m\u001b[0;34m.\u001b[0m\u001b[0mstr\u001b[0m\u001b[0;34m[\u001b[0m\u001b[0;34m:\u001b[0m\u001b[0;36m4\u001b[0m\u001b[0;34m]\u001b[0m\u001b[0;34m.\u001b[0m\u001b[0mastype\u001b[0m\u001b[0;34m(\u001b[0m\u001b[0mstr\u001b[0m\u001b[0;34m)\u001b[0m\u001b[0;34m,\u001b[0m \u001b[0mGender\u001b[0m \u001b[0;34m=\u001b[0m \u001b[0;32mlambda\u001b[0m \u001b[0mx\u001b[0m\u001b[0;34m:\u001b[0m \u001b[0mx\u001b[0m\u001b[0;34m.\u001b[0m\u001b[0mYear\u001b[0m\u001b[0;34m.\u001b[0m\u001b[0mstr\u001b[0m\u001b[0;34m[\u001b[0m\u001b[0;36m22\u001b[0m\u001b[0;34m:\u001b[0m\u001b[0;34m]\u001b[0m\u001b[0;34m.\u001b[0m\u001b[0mastype\u001b[0m\u001b[0;34m(\u001b[0m\u001b[0mstr\u001b[0m\u001b[0;34m)\u001b[0m\u001b[0;34m)\u001b[0m\u001b[0;34m.\u001b[0m\u001b[0mdrop\u001b[0m\u001b[0;34m(\u001b[0m\u001b[0;34m\"Year\"\u001b[0m\u001b[0;34m,\u001b[0m\u001b[0maxis\u001b[0m\u001b[0;34m=\u001b[0m\u001b[0;36m1\u001b[0m\u001b[0;34m)\u001b[0m\u001b[0;34m)\u001b[0m\u001b[0;34m\u001b[0m\u001b[0;34m\u001b[0m\u001b[0m\n\u001b[0m\u001b[1;32m      2\u001b[0m \u001b[0mtidy_table_02\u001b[0m \u001b[0;31m#Separate the Year cloumns into year, gemder, total population\u001b[0m\u001b[0;34m\u001b[0m\u001b[0;34m\u001b[0m\u001b[0m\n",
            "\u001b[0;31mNameError\u001b[0m: name 'tidy_table_02' is not defined"
          ]
        }
      ]
    },
    {
      "cell_type": "markdown",
      "source": [
        "maybe we can split 1990, 1995, 2000...into different column,based on the \n",
        "notebooks in the Guthub, can we used NaN in it."
      ],
      "metadata": {
        "id": "yZlJ8R6pknY6"
      }
    },
    {
      "cell_type": "code",
      "source": [
        "#write up of what violation you find, five page at least with picture. \n",
        "#use table_01.set_index(\"Name of area\", inpplace = True)把name of area 变成中心指标"
      ],
      "metadata": {
        "id": "dKPqBXDtkux-"
      },
      "execution_count": null,
      "outputs": []
    }
  ]
}