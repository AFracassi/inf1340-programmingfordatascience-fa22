{
  "nbformat": 4,
  "nbformat_minor": 0,
  "metadata": {
    "colab": {
      "provenance": [],
      "authorship_tag": "ABX9TyM9U3cHU/GEhBV3jts0RoI+",
      "include_colab_link": true
    },
    "kernelspec": {
      "name": "python3",
      "display_name": "Python 3"
    },
    "language_info": {
      "name": "python"
    }
  },
  "cells": [
    {
      "cell_type": "markdown",
      "metadata": {
        "id": "view-in-github",
        "colab_type": "text"
      },
      "source": [
        "<a href=\"https://colab.research.google.com/github/moyanke/inf1340-programmingfordatascience-fa22/blob/main/MID__Sub_YankeMo.ipynb\" target=\"_parent\"><img src=\"https://colab.research.google.com/assets/colab-badge.svg\" alt=\"Open In Colab\"/></a>"
      ]
    },
    {
      "cell_type": "code",
      "execution_count": 143,
      "metadata": {
        "id": "KWf5445Ez39o"
      },
      "outputs": [],
      "source": [
        "import pandas as pd\n",
        "import numpy as np\n",
        "import matplotlib.pyplot as plt\n",
        "import seaborn as sns\n",
        "import plotly\n",
        "df = pd.read_excel('/content/UN_MigrantStockTotal_2015.xlsx')\n"
      ]
    },
    {
      "cell_type": "code",
      "source": [
        "table_01 = pd.read_excel('/content/UN_MigrantStockTotal_2015.xlsx', sheet_name='Table 1')\n",
        "table_02= pd.read_excel('/content/UN_MigrantStockTotal_2015.xlsx', sheet_name='Table 2')\n",
        "table_03= pd.read_excel('/content/UN_MigrantStockTotal_2015.xlsx', sheet_name='Table 3')\n",
        "table_04= pd.read_excel('/content/UN_MigrantStockTotal_2015.xlsx', sheet_name='Table 4')\n",
        "table_05= pd.read_excel('/content/UN_MigrantStockTotal_2015.xlsx', sheet_name='Table 5')\n",
        "table_06= pd.read_excel('/content/UN_MigrantStockTotal_2015.xlsx', sheet_name='Table 6')\n",
        "table_annex= pd.read_excel('/content/UN_MigrantStockTotal_2015.xlsx', sheet_name='ANNEX')\n",
        "table_notes= pd.read_excel('/content/UN_MigrantStockTotal_2015.xlsx', sheet_name='NOTES')\n"
      ],
      "metadata": {
        "id": "OfUDApV4Mp4h"
      },
      "execution_count": 144,
      "outputs": []
    },
    {
      "cell_type": "markdown",
      "source": [],
      "metadata": {
        "id": "Gkv36a5vFbX7"
      }
    },
    {
      "cell_type": "code",
      "source": [
        "table_01"
      ],
      "metadata": {
        "id": "kDDAUFkqSdv-"
      },
      "execution_count": null,
      "outputs": []
    },
    {
      "cell_type": "code",
      "source": [
        "table_1_1 = table_01.drop(table_01.index[0:15])\n",
        "table_1_1 #Drop 0-15 rows"
      ],
      "metadata": {
        "id": "CItHolXvS_yu"
      },
      "execution_count": null,
      "outputs": []
    },
    {
      "cell_type": "code",
      "source": [
        "table_1_1.columns"
      ],
      "metadata": {
        "id": "GCByV87xc3T3"
      },
      "execution_count": null,
      "outputs": []
    },
    {
      "cell_type": "code",
      "source": [
        "table_1_1.columns=['Order','Name of Country','Notes','Country Code','Type of Data(a)','1990 Migrant Stock Both Sex',\n",
        "                  '1995 Migrant Stock Both Sex','2000 Migrant Stock Both Sex','2005 Migrant Stock Both Sex',\n",
        "                  '2010 Migrant Stock Both Sex','2015 Migrant Stock Both Sex','1990 Migrant Stock Male',\n",
        "                  '1995 Migrant Stock Male','2000 Migrant Stock Male','2005 Migrant Stock Male','2010 Migrant Stock Male',\n",
        "                  '2015 Migrant Stock Male','1990 Migrant Stock Female','1995 Migrant Stock Female','2000 Migrant Stock Female',\n",
        "                  '2005 Migrant Stock Female','2010 Migrant Stock Female',\n",
        "                  '2015 Migrant Stock Female']"
      ],
      "metadata": {
        "id": "v1DSAlW0HiXQ"
      },
      "execution_count": 146,
      "outputs": []
    },
    {
      "cell_type": "code",
      "source": [
        "table_1_1 #rename the columns"
      ],
      "metadata": {
        "id": "Ji6saZ27J8Ez"
      },
      "execution_count": null,
      "outputs": []
    },
    {
      "cell_type": "code",
      "source": [
        "tidy_table_01 = table_1_1.melt(id_vars=[\"Order\",\"Name of Country\",\"Notes\",\"Country Code\",\"Type of Data(a)\"],var_name=\"Year\",value_name=\"Migrant Stock\")"
      ],
      "metadata": {
        "id": "T_cy6x7g-NkZ"
      },
      "execution_count": 147,
      "outputs": []
    },
    {
      "cell_type": "code",
      "source": [
        "tidy_table_01"
      ],
      "metadata": {
        "id": "3bCbsj2JdGrX"
      },
      "execution_count": null,
      "outputs": []
    },
    {
      "cell_type": "code",
      "source": [
        "tidy_table_01=(tidy_table_01.assign(year = lambda x: x.Year.str[:4].astype(str), Gender = lambda x: x.Year.str[18:].astype(str)).drop(\"Year\",axis=1))\n",
        "tidy_table_01.sort_values(by ='Order').reset_index().drop(columns = 'index') #Separate the Year cloumns into year, gemder, migrant stock"
      ],
      "metadata": {
        "id": "nN-gw1rIdMdk"
      },
      "execution_count": null,
      "outputs": []
    },
    {
      "cell_type": "code",
      "source": [
        "#Split the data in different table, start fromn row 1590, tidy_table_1_Both_sexes = Migrant Stock for Both Sexes\n",
        "split_point = 1590\n",
        "print(split_point)\n",
        "tidy_table_01_Both_sexes = tidy_table_01.iloc[:split_point]\n",
        "tidy_table_01_Both_sexes"
      ],
      "metadata": {
        "id": "_0YcebIqfRHo"
      },
      "execution_count": null,
      "outputs": []
    },
    {
      "cell_type": "code",
      "source": [
        "tidy_table_01_Both_sexes.columns=['Order','Name of Country','Notes','Country Code','Type of Data(a)',\"Migrant Stock for Both Sexes\",\"year\",\"Gender\"]\n",
        "tidy_table_1_Both_sexes = tidy_table_01_Both_sexes.drop(\"Gender\",axis=1)\n",
        "tidy_table_1_Both_sexes"
      ],
      "metadata": {
        "id": "WyT3U9RgUJVx"
      },
      "execution_count": null,
      "outputs": []
    },
    {
      "cell_type": "code",
      "source": [
        "tidy_table_1_Both_sexes.reset_index().groupby(['Order','Name of Country','Country Code','year'])['Migrant Stock for Both Sexes'].aggregate('first').unstack()"
      ],
      "metadata": {
        "id": "uExZPfJdVDw_"
      },
      "execution_count": null,
      "outputs": []
    },
    {
      "cell_type": "code",
      "source": [
        "#Split the data in different table, start fromn row 1590, tidy_table_1_male = Migrant Stock for Male\n",
        "split_point = 1590\n",
        "split_male_female = 3180\n",
        "tidy_table_01_Male = tidy_table_01.iloc[split_point:split_male_female]\n",
        "tidy_table_01_Male"
      ],
      "metadata": {
        "id": "QNVLJT64aRpq"
      },
      "execution_count": null,
      "outputs": []
    },
    {
      "cell_type": "code",
      "source": [
        "tidy_table_01_Male.columns=['Order','Name of Country','Notes','Country Code','Type of Data(a)',\"Migrant Stock for Male\",\"year\",\"Gender\"]\n",
        "tidy_table_1_Male = tidy_table_01_Male.drop(\"Gender\",axis=1)\n",
        "tidy_table_1_Male"
      ],
      "metadata": {
        "id": "y4HyXn-Cb4Ij"
      },
      "execution_count": null,
      "outputs": []
    },
    {
      "cell_type": "code",
      "source": [
        "tidy_table_1_Male.reset_index().groupby(['Order','Name of Country','Country Code','year'])['Migrant Stock for Male'].aggregate('first').unstack()"
      ],
      "metadata": {
        "id": "4CfZxkmehDTh"
      },
      "execution_count": null,
      "outputs": []
    },
    {
      "cell_type": "code",
      "source": [
        "#Split the data in different table, start fromn row 3180, tidy_table_1_female = Migrant Stock for female\n",
        "split_male_female = 3180\n",
        "tidy_table_1_female = tidy_table_01.iloc[split_male_female:]\n",
        "tidy_table_1_female"
      ],
      "metadata": {
        "id": "rKp_NkdLhY0s"
      },
      "execution_count": null,
      "outputs": []
    },
    {
      "cell_type": "code",
      "source": [
        "tidy_table_1_female.columns=['Order','Name of Country','Notes','Country Code','Type of Data(a)',\"Migrant Stock for female\",\"year\",\"Gender\"]\n",
        "tidy_table_1_female = tidy_table_1_female.drop(\"Gender\",axis=1)\n",
        "tidy_table_1_female"
      ],
      "metadata": {
        "id": "eoSlnKESj5Xd"
      },
      "execution_count": null,
      "outputs": []
    },
    {
      "cell_type": "code",
      "source": [
        "tidy_table_1_female.reset_index().groupby(['Order','Name of Country','Country Code','year'])['Migrant Stock for female'].aggregate('first').unstack()"
      ],
      "metadata": {
        "id": "f84H-wFCkaVB"
      },
      "execution_count": null,
      "outputs": []
    },
    {
      "cell_type": "markdown",
      "source": [
        "##########Table_02##########"
      ],
      "metadata": {
        "id": "4s3a1dgBTCDw"
      }
    },
    {
      "cell_type": "code",
      "source": [
        "table_02"
      ],
      "metadata": {
        "id": "hgH4IzPr8ihu"
      },
      "execution_count": null,
      "outputs": []
    },
    {
      "cell_type": "code",
      "source": [
        "table_2_1 = table_02.drop(table_02.index[0:15])\n",
        "table_2_1 #Drop 0-15 rows"
      ],
      "metadata": {
        "id": "jtz3Uq25Rzji"
      },
      "execution_count": null,
      "outputs": []
    },
    {
      "cell_type": "code",
      "source": [
        "table_2_1.columns"
      ],
      "metadata": {
        "id": "NEl2GdAER5pG"
      },
      "execution_count": null,
      "outputs": []
    },
    {
      "cell_type": "code",
      "source": [
        "table_2_1.columns=['Order','Name of Country','Notes','Country Code','1990 Total Population Both Sex',\n",
        "                  '1995 Total Population Both Sex','2000 Total Population Both Sex','2005 Total Population Both Sex',\n",
        "                  '2010 Total Population Both Sex','2015 Total Population Both Sex','1990 Total Population Male',\n",
        "                  '1995 Total Population Male','2000 Total Population Male','2005 Total Populatio Male','2010 Total Population Male',\n",
        "                  '2015 Total Population Male','1990 Total Population Female','1995 Total Population Female','2000 Total Population Female',\n",
        "                  '2005 Total Population Female','2010 Total Population Female',\n",
        "                  '2015 Total Population Female']"
      ],
      "metadata": {
        "id": "PZoVnESUSDya"
      },
      "execution_count": 212,
      "outputs": []
    },
    {
      "cell_type": "code",
      "source": [
        "table_2_1"
      ],
      "metadata": {
        "id": "GvufzJfHU9tJ"
      },
      "execution_count": null,
      "outputs": []
    },
    {
      "cell_type": "code",
      "source": [
        "tidy_table_02 = table_2_1.melt(id_vars=[\"Order\",\"Name of Country\",\"Notes\",\"Country Code\"],var_name=\"Year\",value_name=\"Total Population\")"
      ],
      "metadata": {
        "id": "tDHCrIsEVNgS"
      },
      "execution_count": 213,
      "outputs": []
    },
    {
      "cell_type": "code",
      "source": [
        "tidy_table_02"
      ],
      "metadata": {
        "id": "lankDSehVcac"
      },
      "execution_count": null,
      "outputs": []
    },
    {
      "cell_type": "code",
      "source": [
        "tidy_table_02=(tidy_table_02.assign(year = lambda x: x.Year.str[:4].astype(str), Gender = lambda x: x.Year.str[22:].astype(str)).drop(\"Year\",axis=1))\n",
        "tidy_table_02.sort_values(by ='Order').reset_index().drop(columns = 'index') #Separate the Year cloumns into year, gemder, migrant stock #Separate the Year cloumns into year, gemder, total population"
      ],
      "metadata": {
        "id": "aFDJTxuQU3MI"
      },
      "execution_count": null,
      "outputs": []
    },
    {
      "cell_type": "code",
      "source": [
        "#Split the data in different table, start fromn row 1590, tidy_table_2_Both_sexes = Migrant Stock for Both Sexes\n",
        "split_point = 1590\n",
        "print(split_point)\n",
        "tidy_table_02_Both_sexes = tidy_table_02.iloc[:split_point]\n",
        "tidy_table_02_Both_sexes"
      ],
      "metadata": {
        "id": "DEx-Hq6Tle9B"
      },
      "execution_count": null,
      "outputs": []
    },
    {
      "cell_type": "code",
      "source": [
        "tidy_table_02_Both_sexes.columns=['Order','Name of Country','Notes','Country Code','Total Population for Both Sexes in Thousands','year','Gender']\n",
        "tidy_table_2_Both_sexes = tidy_table_02_Both_sexes.drop(\"Gender\",axis=1)\n",
        "tidy_table_2_Both_sexes\n"
      ],
      "metadata": {
        "id": "s5v-df7jmVqx"
      },
      "execution_count": null,
      "outputs": []
    },
    {
      "cell_type": "code",
      "source": [
        "tidy_table_2_Both_sexes.reset_index().groupby(['Order','Name of Country','Country Code','year'])['Total Population for Both Sexes in Thousands'].aggregate('first').unstack()"
      ],
      "metadata": {
        "id": "FZNhHjCenq5B"
      },
      "execution_count": null,
      "outputs": []
    },
    {
      "cell_type": "code",
      "source": [
        "#Split the data in different table, start fromn row 1590, tidy_table_2_male = Migrant Stock for Male\n",
        "split_point = 1590\n",
        "split_male_female = 3180\n",
        "tidy_table_02_Male = tidy_table_02.iloc[split_point:split_male_female]\n",
        "tidy_table_02_Male\n"
      ],
      "metadata": {
        "id": "ULr6xiApn5ga"
      },
      "execution_count": null,
      "outputs": []
    },
    {
      "cell_type": "code",
      "source": [
        "tidy_table_02_Male.columns=['Order','Name of Country','Notes','Country Code',\"Total Population for Male in Thousands\",\"year\",\"Gender\"]\n",
        "tidy_table_2_Male = tidy_table_02_Male.drop(\"Gender\",axis=1)\n",
        "tidy_table_2_Male\n"
      ],
      "metadata": {
        "id": "RNEcV_-xoVxJ"
      },
      "execution_count": null,
      "outputs": []
    },
    {
      "cell_type": "code",
      "source": [
        "tidy_table_2_Male.reset_index().groupby(['Order','Name of Country','Country Code','year'])['Total Population for Male in Thousands'].aggregate('first').unstack()"
      ],
      "metadata": {
        "id": "67oafuFdolzI"
      },
      "execution_count": null,
      "outputs": []
    },
    {
      "cell_type": "code",
      "source": [
        "#Split the data in different table, start fromn row 3180, tidy_table_2_female = Migrant Stock for female\n",
        "split_male_female = 3180\n",
        "tidy_table_2_female = tidy_table_02.iloc[split_male_female:]\n",
        "tidy_table_2_female"
      ],
      "metadata": {
        "id": "E3ExEVRbpG-2"
      },
      "execution_count": null,
      "outputs": []
    },
    {
      "cell_type": "code",
      "source": [
        "tidy_table_2_female.columns=['Order','Name of Country','Notes','Country Code',\"Total Population for female in Thousands\",\"year\",\"Gender\"]\n",
        "tidy_table_2_female = tidy_table_2_female.drop(\"Gender\",axis=1)\n",
        "tidy_table_2_female\n"
      ],
      "metadata": {
        "id": "7nWycrUiphmX"
      },
      "execution_count": null,
      "outputs": []
    },
    {
      "cell_type": "code",
      "source": [
        "tidy_table_2_female.reset_index().groupby(['Order','Name of Country','Country Code','year'])['Total Population for female in Thousands'].aggregate('first').unstack()"
      ],
      "metadata": {
        "id": "P-gEGwB8rIEM"
      },
      "execution_count": null,
      "outputs": []
    },
    {
      "cell_type": "code",
      "source": [
        "#write up of what violation you find, five page at least with picture. \n",
        "#use table_01.set_index(\"Name of area\", inpplace = True)把name of area 变成中心指标\n"
      ],
      "metadata": {
        "id": "dKPqBXDtkux-"
      },
      "execution_count": null,
      "outputs": []
    },
    {
      "cell_type": "markdown",
      "source": [
        "##########Table_03##########"
      ],
      "metadata": {
        "id": "st_R0Tc6TYxm"
      }
    },
    {
      "cell_type": "code",
      "source": [
        "table_03"
      ],
      "metadata": {
        "id": "L0aTdtP-TXHS"
      },
      "execution_count": null,
      "outputs": []
    },
    {
      "cell_type": "code",
      "source": [
        "table_3_1 = table_03.drop(table_03.index[0:15])\n",
        "table_3_1 #Drop 0-15 rows"
      ],
      "metadata": {
        "id": "bcihLaaJTjSs"
      },
      "execution_count": null,
      "outputs": []
    },
    {
      "cell_type": "code",
      "source": [
        "table_3_1.columns=['Order','Name of Country','Notes','Country Code','Type of Data(a)','1990 Migrant Stock Percentage for Both Sex',\n",
        "                  '1995 Migrant Stock Percentage for Both Sex','2000 Migrant Stock Percentage for Both Sex','2005 Migrant Stock Percentage for Both Sex',\n",
        "                  '2010 Migrant Stock Percentage for Both Sex','2015 Migrant Stock Percentage for Both Sex','1990 Migrant Stock Percentage for Male',\n",
        "                  '1995 Migrant Stock Percentage for Male','2000 Migrant Stock Percentage for Male','2005 Migrant Stock Percentage for Male','2010 Migrant Stock Percentage for Male',\n",
        "                  '2015 Migrant Stock Percentage for Male','1990 Migrant Stock Percentage for Female','1995 Migrant Stock Percentage for Female','2000 Migrant Stock Percentage for Female',\n",
        "                  '2005 Migrant Stock Percentage for Female','2010 Migrant Stock Percentage for Female',\n",
        "                  '2015 Migrant Stock Percentage for Female']"
      ],
      "metadata": {
        "id": "BHZA20sOZ1HV"
      },
      "execution_count": 238,
      "outputs": []
    },
    {
      "cell_type": "code",
      "source": [
        "table_3_1"
      ],
      "metadata": {
        "id": "BL__6fx0bWyT"
      },
      "execution_count": null,
      "outputs": []
    },
    {
      "cell_type": "code",
      "source": [
        "tidy_table_03 = table_3_1.melt(id_vars=[\"Order\",\"Name of Country\",\"Notes\",\"Country Code\",\"Type of Data(a)\"],var_name=\"Years\",value_name=\"International Migrant Stock as Percentage of Total Population\")"
      ],
      "metadata": {
        "id": "LXiFtcImbdqE"
      },
      "execution_count": 239,
      "outputs": []
    },
    {
      "cell_type": "code",
      "source": [
        "tidy_table_03"
      ],
      "metadata": {
        "id": "YlL1RLwub3M3"
      },
      "execution_count": null,
      "outputs": []
    },
    {
      "cell_type": "code",
      "source": [
        "tidy_table_03=(tidy_table_03.assign(year = lambda x: x.Years.str[:4].astype(str), Gender = lambda x: x.Years.str[33:].astype(str)).drop(\"Years\",axis=1))\n",
        "tidy_table_03.sort_values(by ='Order').reset_index().drop(columns = 'index') #Separate the Year cloumns into year, gemder, migrant stock"
      ],
      "metadata": {
        "id": "m3ddok7lb_oq"
      },
      "execution_count": null,
      "outputs": []
    },
    {
      "cell_type": "code",
      "source": [
        "#Split the data in different table, start fromn row 1590, tidy_table_3_Both_sexes = Migrant Stock for Both Sexes\n",
        "split_point = 1590\n",
        "print(split_point)\n",
        "tidy_table_03_Both_sexes = tidy_table_03.iloc[:split_point]\n",
        "tidy_table_03_Both_sexes\n"
      ],
      "metadata": {
        "id": "Zepf7flRrWMf"
      },
      "execution_count": null,
      "outputs": []
    },
    {
      "cell_type": "code",
      "source": [
        "tidy_table_03_Both_sexes.columns=['Order','Name of Country','Notes','Country Code','Type of Data(a)',\"International Migrant Stock as Percentage of Total Population Both Sexes\",\"year\",\"Gender\"]\n",
        "tidy_table_3_Both_sexes = tidy_table_03_Both_sexes.drop(\"Gender\",axis=1)\n",
        "tidy_table_3_Both_sexes\n"
      ],
      "metadata": {
        "id": "xsTBi61zrkVv"
      },
      "execution_count": null,
      "outputs": []
    },
    {
      "cell_type": "code",
      "source": [
        "tidy_table_3_Both_sexes.reset_index().groupby(['Order','Name of Country','Country Code','year'])['International Migrant Stock as Percentage of Total Population Both Sexes'].aggregate('first').unstack()\n"
      ],
      "metadata": {
        "id": "SSqMO8Eqs4ge"
      },
      "execution_count": null,
      "outputs": []
    },
    {
      "cell_type": "code",
      "source": [
        "#Split the data in different table, start fromn row 1590, tidy_table_3_male = Migrant Stock for Male\n",
        "split_point = 1590\n",
        "split_male_female = 3180\n",
        "tidy_table_03_Male = tidy_table_03.iloc[split_point:split_male_female]\n",
        "tidy_table_03_Male\n"
      ],
      "metadata": {
        "id": "-8ow6nrJsMgT"
      },
      "execution_count": null,
      "outputs": []
    },
    {
      "cell_type": "code",
      "source": [
        "tidy_table_03_Male.columns=['Order','Name of Country','Notes','Country Code','Type of Data(a)',\"International Migrant Stock as Percentage of Total Population for Male\",\"year\",\"Gender\"]\n",
        "tidy_table_3_Male = tidy_table_03_Male.drop(\"Gender\",axis=1)\n",
        "tidy_table_3_Male\n"
      ],
      "metadata": {
        "id": "RutVOjFBsky8"
      },
      "execution_count": null,
      "outputs": []
    },
    {
      "cell_type": "code",
      "source": [
        "tidy_table_3_Male.reset_index().groupby(['Order','Name of Country','Country Code','year'])['International Migrant Stock as Percentage of Total Population for Male'].aggregate('first').unstack()"
      ],
      "metadata": {
        "id": "g8yBjV0btcny"
      },
      "execution_count": null,
      "outputs": []
    },
    {
      "cell_type": "code",
      "source": [
        "#Split the data in different table, start fromn row 3180, tidy_table_1_female = Migrant Stock for female\n",
        "split_male_female = 3180\n",
        "tidy_table_3_female = tidy_table_03.iloc[split_male_female:]\n",
        "tidy_table_3_female\n"
      ],
      "metadata": {
        "id": "uA9U4fKWtp7q"
      },
      "execution_count": null,
      "outputs": []
    },
    {
      "cell_type": "code",
      "source": [
        "tidy_table_3_female.columns=['Order','Name of Country','Notes','Country Code','Type of Data(a)',\"International Migrant Stock as Percentage of Total Population for female\",\"year\",\"Gender\"]\n",
        "tidy_table_3_female = tidy_table_3_female.drop(\"Gender\",axis=1)\n",
        "tidy_table_3_female\n"
      ],
      "metadata": {
        "id": "OY8JMmTYtvwN"
      },
      "execution_count": null,
      "outputs": []
    },
    {
      "cell_type": "code",
      "source": [
        "tidy_table_3_female.reset_index().groupby(['Order','Name of Country','Country Code','year'])['International Migrant Stock as Percentage of Total Population for female'].aggregate('first').unstack()"
      ],
      "metadata": {
        "id": "YWpsfR5yt43X"
      },
      "execution_count": null,
      "outputs": []
    },
    {
      "cell_type": "markdown",
      "source": [
        "########Table_4##########"
      ],
      "metadata": {
        "id": "tXHdhXmitVNK"
      }
    },
    {
      "cell_type": "code",
      "source": [
        "table_04"
      ],
      "metadata": {
        "id": "cenzXilstZrs"
      },
      "execution_count": null,
      "outputs": []
    },
    {
      "cell_type": "code",
      "source": [
        "table_4_1 = table_04.drop(table_04.index[0:15])\n",
        "table_4_1 #Drop 0-15 rows"
      ],
      "metadata": {
        "id": "liKyB1L_tc3v"
      },
      "execution_count": null,
      "outputs": []
    },
    {
      "cell_type": "code",
      "source": [
        "table_4_1.columns=['Order','Name of Country','Notes','Country Code','Type of Data(a)',\n",
        "                   '1990 Female Migrants Stock Percentage Performance',\n",
        "                   '1995 Female Migrants Stock Percentage Performance',\n",
        "                   '2000 Female Migrants Stock Percentage Performance',\n",
        "                   '2005 Female Migrants Stock Percentage Performance',\n",
        "                   '2010 Female Migrants Stock Percentage Performance',\n",
        "                   '2015 Female Migrants Stock Percentage Performance']"
      ],
      "metadata": {
        "id": "Xtk0u90atj-b"
      },
      "execution_count": 263,
      "outputs": []
    },
    {
      "cell_type": "code",
      "source": [
        "tidy_table_04 = table_4_1.melt(id_vars=[\"Order\",\"Name of Country\",\"Notes\",\"Country Code\",\"Type of Data(a)\"],var_name=\"Years\",value_name=\"Female Migrants Stock Percentage Performance\")"
      ],
      "metadata": {
        "id": "eyowhxFGumON"
      },
      "execution_count": 268,
      "outputs": []
    },
    {
      "cell_type": "code",
      "source": [
        "tidy_table_04"
      ],
      "metadata": {
        "id": "koZR65gevBvc"
      },
      "execution_count": null,
      "outputs": []
    },
    {
      "cell_type": "code",
      "source": [
        "tidy_table_04=(tidy_table_04.assign(Year = lambda x: x.Years.str[:4].astype(str), Gender = lambda x: x.Years.str[5:11].astype(str)).drop(\"Years\",axis=1))\n",
        "tidy_table_04.sort_values(by ='Order').reset_index().drop(columns = 'index') #Separate the Year cloumns into year, gemder, migrant stock"
      ],
      "metadata": {
        "id": "sxIBE7klu4Z5"
      },
      "execution_count": null,
      "outputs": []
    },
    {
      "cell_type": "code",
      "source": [
        "tidy_table_4_female = tidy_table_04.drop(\"Gender\",axis=1)\n",
        "tidy_table_4_female\n"
      ],
      "metadata": {
        "id": "QYvpJmGPubYi"
      },
      "execution_count": null,
      "outputs": []
    },
    {
      "cell_type": "code",
      "source": [
        "tidy_table_4_female.reset_index().groupby(['Order','Name of Country','Country Code','Year'])['Female Migrants Stock Percentage Performance'].aggregate('first').unstack()\n"
      ],
      "metadata": {
        "id": "SLW48kRyvAGv"
      },
      "execution_count": null,
      "outputs": []
    },
    {
      "cell_type": "markdown",
      "source": [
        "###########Table_5############"
      ],
      "metadata": {
        "id": "DzqoYeWOvgUC"
      }
    },
    {
      "cell_type": "code",
      "source": [
        "table_05"
      ],
      "metadata": {
        "id": "BFCNfBJqvjum"
      },
      "execution_count": null,
      "outputs": []
    },
    {
      "cell_type": "code",
      "source": [
        "table_5_1 = table_05.drop(table_05.index[0:15])\n",
        "table_5_1 #Drop 0-15 rows"
      ],
      "metadata": {
        "id": "Y6wA0qvRFJhn"
      },
      "execution_count": null,
      "outputs": []
    },
    {
      "cell_type": "code",
      "source": [
        "table_5_1.columns=['Order','Name of Country','Notes','Country Code','Type of Data(a)','1990-1995 Annual rate of change Both Sex',\n",
        "                  '1995-2000 Annual rate of change Both Sex','2000-2005 Annual rate of change Both Sex',\n",
        "                  '2005-2010 Annual rate of change Both Sex','2010-2015 Annual rate of change Both Sex',\n",
        "                  '1990-1995 Annual rate of change Male','1995-2000 Annual rate of change Male',\n",
        "                  '2000-2005 Annual rate of change Male','2005-2010 Annual rate of change Male',\n",
        "                  '2010-2015 Annual rate of change Male','1990-1995 Annual rate of change Female',\n",
        "                  '1995-2000 Annual rate of change Female','2000-2005 Annual rate of change Female',\n",
        "                  '2005-2010 Annual rate of change Female','2010-2015 Annual rate of change Female']"
      ],
      "metadata": {
        "id": "BS6UCoPdGDj1"
      },
      "execution_count": 306,
      "outputs": []
    },
    {
      "cell_type": "code",
      "source": [
        "tidy_table_05 = table_5_1.melt(id_vars=[\"Order\",\"Name of Country\",\"Notes\",\"Country Code\",\"Type of Data(a)\"],var_name=\"Years\",value_name=\"Annual Rate of Change of Migrant Stock\")"
      ],
      "metadata": {
        "id": "kttJEBXYKVWN"
      },
      "execution_count": 342,
      "outputs": []
    },
    {
      "cell_type": "code",
      "source": [
        "tidy_table_05.head(2700)"
      ],
      "metadata": {
        "id": "u89k--y_K0BL"
      },
      "execution_count": null,
      "outputs": []
    },
    {
      "cell_type": "code",
      "source": [
        "tidy_table_05=(tidy_table_05.assign(Year_Range = lambda x: x.Years.str[:9].astype(str), Gender = lambda x: x.Years.str[31:].astype(str)).drop(\"Years\",axis=1))\n",
        "tidy_table_05.sort_values(by ='Order').reset_index().drop(columns = 'index') #Separate the Year cloumns into year, gemder, migrant stock"
      ],
      "metadata": {
        "id": "Pk4QJ3ahK5bC"
      },
      "execution_count": null,
      "outputs": []
    },
    {
      "cell_type": "code",
      "source": [
        "split_point = 1590\n",
        "print(split_point)\n",
        "tidy_table_05_Both_sexes = tidy_table_05.iloc[:split_point]\n",
        "tidy_table_05_Both_sexes\n"
      ],
      "metadata": {
        "id": "igbCTeeMw1Vq"
      },
      "execution_count": null,
      "outputs": []
    },
    {
      "cell_type": "code",
      "source": [
        "tidy_table_05_Both_sexes.columns=['Order','Name of Country','Notes','Country Code','Type of Data(a)',\"Annual rate of change of Migrant Stock for Both Sex\",\"year\",\"Gender\"]\n",
        "tidy_table_5_Both_sexes = tidy_table_05_Both_sexes.drop(\"Gender\",axis=1)\n",
        "tidy_table_5_Both_sexes\n"
      ],
      "metadata": {
        "id": "covD6NPGw_EE"
      },
      "execution_count": null,
      "outputs": []
    },
    {
      "cell_type": "code",
      "source": [
        "tidy_table_5_Both_sexes.reset_index().groupby(['Order','Name of Country','Country Code','year'])['Annual rate of change of Migrant Stock for Both Sex'].aggregate('first').unstack()"
      ],
      "metadata": {
        "id": "BJyMPiezxRxu"
      },
      "execution_count": null,
      "outputs": []
    },
    {
      "cell_type": "code",
      "source": [
        "split_point = 1590\n",
        "split_male_female = 2650\n",
        "tidy_table_05_Male = tidy_table_05.iloc[split_point:split_male_female]\n",
        "tidy_table_05_Male\n"
      ],
      "metadata": {
        "id": "NSJrnUI7xqOZ",
        "outputId": "8518c9e0-4723-48f0-ac5f-630cd50a3a63",
        "colab": {
          "base_uri": "https://localhost:8080/",
          "height": 424
        }
      },
      "execution_count": 357,
      "outputs": [
        {
          "output_type": "execute_result",
          "data": {
            "text/plain": [
              "     Order                                    Name of Country Notes  \\\n",
              "1590     1                                              WORLD   NaN   \n",
              "1591     2                                  Developed regions   (b)   \n",
              "1592     3                                 Developing regions   (c)   \n",
              "1593     4                          Least developed countries   (d)   \n",
              "1594     5  Less developed regions excluding least develop...   NaN   \n",
              "...    ...                                                ...   ...   \n",
              "2645   261                                              Samoa   NaN   \n",
              "2646   262                                            Tokelau   NaN   \n",
              "2647   263                                              Tonga   NaN   \n",
              "2648   264                                             Tuvalu   NaN   \n",
              "2649   265                          Wallis and Futuna Islands   NaN   \n",
              "\n",
              "     Country Code Type of Data(a) Annual Rate of Change of Migrant Stock  \\\n",
              "1590          900             NaN                               1.450294   \n",
              "1591          901             NaN                               2.279583   \n",
              "1592          902             NaN                               0.380246   \n",
              "1593          941             NaN                              -2.718952   \n",
              "1594          934             NaN                               0.950231   \n",
              "...           ...             ...                                    ...   \n",
              "2645          882               B                              -0.987758   \n",
              "2646          772               B                               2.463246   \n",
              "2647          776               B                               2.737439   \n",
              "2648          798               C                              -1.718849   \n",
              "2649          876               B                                0.52134   \n",
              "\n",
              "     Year_Range Gender  \n",
              "1590  1995-2000   Male  \n",
              "1591  1995-2000   Male  \n",
              "1592  1995-2000   Male  \n",
              "1593  1995-2000   Male  \n",
              "1594  1995-2000   Male  \n",
              "...         ...    ...  \n",
              "2645  2010-2015   Male  \n",
              "2646  2010-2015   Male  \n",
              "2647  2010-2015   Male  \n",
              "2648  2010-2015   Male  \n",
              "2649  2010-2015   Male  \n",
              "\n",
              "[1060 rows x 8 columns]"
            ],
            "text/html": [
              "\n",
              "  <div id=\"df-aa18cd84-7f97-4079-bb93-83bf8864eb18\">\n",
              "    <div class=\"colab-df-container\">\n",
              "      <div>\n",
              "<style scoped>\n",
              "    .dataframe tbody tr th:only-of-type {\n",
              "        vertical-align: middle;\n",
              "    }\n",
              "\n",
              "    .dataframe tbody tr th {\n",
              "        vertical-align: top;\n",
              "    }\n",
              "\n",
              "    .dataframe thead th {\n",
              "        text-align: right;\n",
              "    }\n",
              "</style>\n",
              "<table border=\"1\" class=\"dataframe\">\n",
              "  <thead>\n",
              "    <tr style=\"text-align: right;\">\n",
              "      <th></th>\n",
              "      <th>Order</th>\n",
              "      <th>Name of Country</th>\n",
              "      <th>Notes</th>\n",
              "      <th>Country Code</th>\n",
              "      <th>Type of Data(a)</th>\n",
              "      <th>Annual Rate of Change of Migrant Stock</th>\n",
              "      <th>Year_Range</th>\n",
              "      <th>Gender</th>\n",
              "    </tr>\n",
              "  </thead>\n",
              "  <tbody>\n",
              "    <tr>\n",
              "      <th>1590</th>\n",
              "      <td>1</td>\n",
              "      <td>WORLD</td>\n",
              "      <td>NaN</td>\n",
              "      <td>900</td>\n",
              "      <td>NaN</td>\n",
              "      <td>1.450294</td>\n",
              "      <td>1995-2000</td>\n",
              "      <td>Male</td>\n",
              "    </tr>\n",
              "    <tr>\n",
              "      <th>1591</th>\n",
              "      <td>2</td>\n",
              "      <td>Developed regions</td>\n",
              "      <td>(b)</td>\n",
              "      <td>901</td>\n",
              "      <td>NaN</td>\n",
              "      <td>2.279583</td>\n",
              "      <td>1995-2000</td>\n",
              "      <td>Male</td>\n",
              "    </tr>\n",
              "    <tr>\n",
              "      <th>1592</th>\n",
              "      <td>3</td>\n",
              "      <td>Developing regions</td>\n",
              "      <td>(c)</td>\n",
              "      <td>902</td>\n",
              "      <td>NaN</td>\n",
              "      <td>0.380246</td>\n",
              "      <td>1995-2000</td>\n",
              "      <td>Male</td>\n",
              "    </tr>\n",
              "    <tr>\n",
              "      <th>1593</th>\n",
              "      <td>4</td>\n",
              "      <td>Least developed countries</td>\n",
              "      <td>(d)</td>\n",
              "      <td>941</td>\n",
              "      <td>NaN</td>\n",
              "      <td>-2.718952</td>\n",
              "      <td>1995-2000</td>\n",
              "      <td>Male</td>\n",
              "    </tr>\n",
              "    <tr>\n",
              "      <th>1594</th>\n",
              "      <td>5</td>\n",
              "      <td>Less developed regions excluding least develop...</td>\n",
              "      <td>NaN</td>\n",
              "      <td>934</td>\n",
              "      <td>NaN</td>\n",
              "      <td>0.950231</td>\n",
              "      <td>1995-2000</td>\n",
              "      <td>Male</td>\n",
              "    </tr>\n",
              "    <tr>\n",
              "      <th>...</th>\n",
              "      <td>...</td>\n",
              "      <td>...</td>\n",
              "      <td>...</td>\n",
              "      <td>...</td>\n",
              "      <td>...</td>\n",
              "      <td>...</td>\n",
              "      <td>...</td>\n",
              "      <td>...</td>\n",
              "    </tr>\n",
              "    <tr>\n",
              "      <th>2645</th>\n",
              "      <td>261</td>\n",
              "      <td>Samoa</td>\n",
              "      <td>NaN</td>\n",
              "      <td>882</td>\n",
              "      <td>B</td>\n",
              "      <td>-0.987758</td>\n",
              "      <td>2010-2015</td>\n",
              "      <td>Male</td>\n",
              "    </tr>\n",
              "    <tr>\n",
              "      <th>2646</th>\n",
              "      <td>262</td>\n",
              "      <td>Tokelau</td>\n",
              "      <td>NaN</td>\n",
              "      <td>772</td>\n",
              "      <td>B</td>\n",
              "      <td>2.463246</td>\n",
              "      <td>2010-2015</td>\n",
              "      <td>Male</td>\n",
              "    </tr>\n",
              "    <tr>\n",
              "      <th>2647</th>\n",
              "      <td>263</td>\n",
              "      <td>Tonga</td>\n",
              "      <td>NaN</td>\n",
              "      <td>776</td>\n",
              "      <td>B</td>\n",
              "      <td>2.737439</td>\n",
              "      <td>2010-2015</td>\n",
              "      <td>Male</td>\n",
              "    </tr>\n",
              "    <tr>\n",
              "      <th>2648</th>\n",
              "      <td>264</td>\n",
              "      <td>Tuvalu</td>\n",
              "      <td>NaN</td>\n",
              "      <td>798</td>\n",
              "      <td>C</td>\n",
              "      <td>-1.718849</td>\n",
              "      <td>2010-2015</td>\n",
              "      <td>Male</td>\n",
              "    </tr>\n",
              "    <tr>\n",
              "      <th>2649</th>\n",
              "      <td>265</td>\n",
              "      <td>Wallis and Futuna Islands</td>\n",
              "      <td>NaN</td>\n",
              "      <td>876</td>\n",
              "      <td>B</td>\n",
              "      <td>0.52134</td>\n",
              "      <td>2010-2015</td>\n",
              "      <td>Male</td>\n",
              "    </tr>\n",
              "  </tbody>\n",
              "</table>\n",
              "<p>1060 rows × 8 columns</p>\n",
              "</div>\n",
              "      <button class=\"colab-df-convert\" onclick=\"convertToInteractive('df-aa18cd84-7f97-4079-bb93-83bf8864eb18')\"\n",
              "              title=\"Convert this dataframe to an interactive table.\"\n",
              "              style=\"display:none;\">\n",
              "        \n",
              "  <svg xmlns=\"http://www.w3.org/2000/svg\" height=\"24px\"viewBox=\"0 0 24 24\"\n",
              "       width=\"24px\">\n",
              "    <path d=\"M0 0h24v24H0V0z\" fill=\"none\"/>\n",
              "    <path d=\"M18.56 5.44l.94 2.06.94-2.06 2.06-.94-2.06-.94-.94-2.06-.94 2.06-2.06.94zm-11 1L8.5 8.5l.94-2.06 2.06-.94-2.06-.94L8.5 2.5l-.94 2.06-2.06.94zm10 10l.94 2.06.94-2.06 2.06-.94-2.06-.94-.94-2.06-.94 2.06-2.06.94z\"/><path d=\"M17.41 7.96l-1.37-1.37c-.4-.4-.92-.59-1.43-.59-.52 0-1.04.2-1.43.59L10.3 9.45l-7.72 7.72c-.78.78-.78 2.05 0 2.83L4 21.41c.39.39.9.59 1.41.59.51 0 1.02-.2 1.41-.59l7.78-7.78 2.81-2.81c.8-.78.8-2.07 0-2.86zM5.41 20L4 18.59l7.72-7.72 1.47 1.35L5.41 20z\"/>\n",
              "  </svg>\n",
              "      </button>\n",
              "      \n",
              "  <style>\n",
              "    .colab-df-container {\n",
              "      display:flex;\n",
              "      flex-wrap:wrap;\n",
              "      gap: 12px;\n",
              "    }\n",
              "\n",
              "    .colab-df-convert {\n",
              "      background-color: #E8F0FE;\n",
              "      border: none;\n",
              "      border-radius: 50%;\n",
              "      cursor: pointer;\n",
              "      display: none;\n",
              "      fill: #1967D2;\n",
              "      height: 32px;\n",
              "      padding: 0 0 0 0;\n",
              "      width: 32px;\n",
              "    }\n",
              "\n",
              "    .colab-df-convert:hover {\n",
              "      background-color: #E2EBFA;\n",
              "      box-shadow: 0px 1px 2px rgba(60, 64, 67, 0.3), 0px 1px 3px 1px rgba(60, 64, 67, 0.15);\n",
              "      fill: #174EA6;\n",
              "    }\n",
              "\n",
              "    [theme=dark] .colab-df-convert {\n",
              "      background-color: #3B4455;\n",
              "      fill: #D2E3FC;\n",
              "    }\n",
              "\n",
              "    [theme=dark] .colab-df-convert:hover {\n",
              "      background-color: #434B5C;\n",
              "      box-shadow: 0px 1px 3px 1px rgba(0, 0, 0, 0.15);\n",
              "      filter: drop-shadow(0px 1px 2px rgba(0, 0, 0, 0.3));\n",
              "      fill: #FFFFFF;\n",
              "    }\n",
              "  </style>\n",
              "\n",
              "      <script>\n",
              "        const buttonEl =\n",
              "          document.querySelector('#df-aa18cd84-7f97-4079-bb93-83bf8864eb18 button.colab-df-convert');\n",
              "        buttonEl.style.display =\n",
              "          google.colab.kernel.accessAllowed ? 'block' : 'none';\n",
              "\n",
              "        async function convertToInteractive(key) {\n",
              "          const element = document.querySelector('#df-aa18cd84-7f97-4079-bb93-83bf8864eb18');\n",
              "          const dataTable =\n",
              "            await google.colab.kernel.invokeFunction('convertToInteractive',\n",
              "                                                     [key], {});\n",
              "          if (!dataTable) return;\n",
              "\n",
              "          const docLinkHtml = 'Like what you see? Visit the ' +\n",
              "            '<a target=\"_blank\" href=https://colab.research.google.com/notebooks/data_table.ipynb>data table notebook</a>'\n",
              "            + ' to learn more about interactive tables.';\n",
              "          element.innerHTML = '';\n",
              "          dataTable['output_type'] = 'display_data';\n",
              "          await google.colab.output.renderOutput(dataTable, element);\n",
              "          const docLink = document.createElement('div');\n",
              "          docLink.innerHTML = docLinkHtml;\n",
              "          element.appendChild(docLink);\n",
              "        }\n",
              "      </script>\n",
              "    </div>\n",
              "  </div>\n",
              "  "
            ]
          },
          "metadata": {},
          "execution_count": 357
        }
      ]
    },
    {
      "cell_type": "code",
      "source": [
        "tidy_table_05_Male.columns=['Order','Name of Country','Notes','Country Code','Type of Data(a)',\"Annual rate of change of Migrant Stock for Male\",\"year\",\"Gender\"]\n",
        "tidy_table_5_Male = tidy_table_05_Male.drop(\"Gender\",axis=1)\n",
        "tidy_table_5_Male\n"
      ],
      "metadata": {
        "id": "B3F2MsxSx0VM"
      },
      "execution_count": null,
      "outputs": []
    },
    {
      "cell_type": "code",
      "source": [
        "tidy_table_5_Male.reset_index().groupby(['Order','Name of Country','Country Code','year'])['Annual rate of change of Migrant Stock for Male'].aggregate('first').unstack()"
      ],
      "metadata": {
        "id": "UcHqAtNtx945"
      },
      "execution_count": null,
      "outputs": []
    },
    {
      "cell_type": "code",
      "source": [
        "#Split the data in different table, start fromn row 3180, tidy_table_1_female = Migrant Stock for female\n",
        "split_male_female = 2650\n",
        "tidy_table_5_female = tidy_table_05.iloc[split_male_female:]\n",
        "tidy_table_5_female"
      ],
      "metadata": {
        "id": "9-Ye1J7Byar3"
      },
      "execution_count": null,
      "outputs": []
    },
    {
      "cell_type": "code",
      "source": [
        "tidy_table_5_female.columns=['Order','Name of Country','Notes','Country Code','Type of Data(a)',\"Annual rate of change of Migrant Stock for female\",\"Year_Range\",\"Gender\"]\n",
        "tidy_table_5_female = tidy_table_5_female.drop(\"Gender\",axis=1)\n",
        "tidy_table_5_female\n"
      ],
      "metadata": {
        "id": "HjoaIrnuyhEm"
      },
      "execution_count": null,
      "outputs": []
    },
    {
      "cell_type": "code",
      "source": [
        "tidy_table_5_female.reset_index().groupby(['Order','Name of Country','Country Code','Type of Data(a)','Year_Range'])['Annual rate of change of Migrant Stock for female'].aggregate('first').unstack()"
      ],
      "metadata": {
        "id": "z9d7JNQ3y6KA",
        "outputId": "6f17e5fa-7b23-4d54-9595-9c1fa7240037",
        "colab": {
          "base_uri": "https://localhost:8080/",
          "height": 455
        }
      },
      "execution_count": 360,
      "outputs": [
        {
          "output_type": "execute_result",
          "data": {
            "text/plain": [
              "Year_Range                                                   1990-1995  \\\n",
              "Order Name of Country           Country Code Type of Data(a)             \n",
              "9     Burundi                   108          B R             -5.241234   \n",
              "10    Comoros                   174          B                -0.10077   \n",
              "11    Djibouti                  262          B R             -4.072257   \n",
              "12    Eritrea                   232          I                0.829532   \n",
              "13    Ethiopia                  231          B R               -7.1798   \n",
              "...                                                                ...   \n",
              "261   Samoa                     882          B                6.931983   \n",
              "262   Tokelau                   772          B               -0.167365   \n",
              "263   Tonga                     776          B                1.787022   \n",
              "264   Tuvalu                    798          C               -3.646431   \n",
              "265   Wallis and Futuna Islands 876          B                3.886601   \n",
              "\n",
              "Year_Range                                                    1995-2000  \\\n",
              "Order Name of Country           Country Code Type of Data(a)              \n",
              "9     Burundi                   108          B R             -14.112412   \n",
              "10    Comoros                   174          B                 -0.10128   \n",
              "11    Djibouti                  262          B R               0.121832   \n",
              "12    Eritrea                   232          I                 0.796491   \n",
              "13    Ethiopia                  231          B R              -5.609625   \n",
              "...                                                                 ...   \n",
              "261   Samoa                     882          B                 5.117229   \n",
              "262   Tokelau                   772          B                -0.168777   \n",
              "263   Tonga                     776          B                  1.80546   \n",
              "264   Tuvalu                    798          C                -3.611679   \n",
              "265   Wallis and Futuna Islands 876          B                 3.884553   \n",
              "\n",
              "Year_Range                                                   2000-2005  \\\n",
              "Order Name of Country           Country Code Type of Data(a)             \n",
              "9     Burundi                   108          B R              6.218568   \n",
              "10    Comoros                   174          B               -1.027599   \n",
              "11    Djibouti                  262          B R             -3.089319   \n",
              "12    Eritrea                   232          I                 1.54323   \n",
              "13    Ethiopia                  231          B R             -3.354252   \n",
              "...                                                                ...   \n",
              "261   Samoa                     882          B               -0.638315   \n",
              "262   Tokelau                   772          B                1.152582   \n",
              "263   Tonga                     776          B                2.943277   \n",
              "264   Tuvalu                    798          C               -3.152579   \n",
              "265   Wallis and Futuna Islands 876          B                3.217252   \n",
              "\n",
              "Year_Range                                                    2005-2010  \\\n",
              "Order Name of Country           Country Code Type of Data(a)              \n",
              "9     Burundi                   108          B R               6.093201   \n",
              "10    Comoros                   174          B                 -1.08327   \n",
              "11    Djibouti                  262          B R               3.378474   \n",
              "12    Eritrea                   232          I                 1.429808   \n",
              "13    Ethiopia                  231          B R               1.996515   \n",
              "...                                                                 ...   \n",
              "261   Samoa                     882          B                 -2.08663   \n",
              "262   Tokelau                   772          B                11.577161   \n",
              "263   Tonga                     776          B                 3.023552   \n",
              "264   Tuvalu                    798          C                -3.452255   \n",
              "265   Wallis and Futuna Islands 876          B                 3.211913   \n",
              "\n",
              "Year_Range                                                    2010-2015  \n",
              "Order Name of Country           Country Code Type of Data(a)             \n",
              "9     Burundi                   108          B R               3.947771  \n",
              "10    Comoros                   174          B                -0.226961  \n",
              "11    Djibouti                  262          B R               1.967118  \n",
              "12    Eritrea                   232          I                 0.098724  \n",
              "13    Ethiopia                  231          B R              13.319515  \n",
              "...                                                                 ...  \n",
              "261   Samoa                     882          B                -0.545343  \n",
              "262   Tokelau                   772          B                  2.60325  \n",
              "263   Tonga                     776          B                 2.526318  \n",
              "264   Tuvalu                    798          C                -1.819436  \n",
              "265   Wallis and Futuna Islands 876          B                 0.516899  \n",
              "\n",
              "[232 rows x 5 columns]"
            ],
            "text/html": [
              "\n",
              "  <div id=\"df-801a0717-9aa8-495c-b12f-6de949a45d18\">\n",
              "    <div class=\"colab-df-container\">\n",
              "      <div>\n",
              "<style scoped>\n",
              "    .dataframe tbody tr th:only-of-type {\n",
              "        vertical-align: middle;\n",
              "    }\n",
              "\n",
              "    .dataframe tbody tr th {\n",
              "        vertical-align: top;\n",
              "    }\n",
              "\n",
              "    .dataframe thead th {\n",
              "        text-align: right;\n",
              "    }\n",
              "</style>\n",
              "<table border=\"1\" class=\"dataframe\">\n",
              "  <thead>\n",
              "    <tr style=\"text-align: right;\">\n",
              "      <th></th>\n",
              "      <th></th>\n",
              "      <th></th>\n",
              "      <th>Year_Range</th>\n",
              "      <th>1990-1995</th>\n",
              "      <th>1995-2000</th>\n",
              "      <th>2000-2005</th>\n",
              "      <th>2005-2010</th>\n",
              "      <th>2010-2015</th>\n",
              "    </tr>\n",
              "    <tr>\n",
              "      <th>Order</th>\n",
              "      <th>Name of Country</th>\n",
              "      <th>Country Code</th>\n",
              "      <th>Type of Data(a)</th>\n",
              "      <th></th>\n",
              "      <th></th>\n",
              "      <th></th>\n",
              "      <th></th>\n",
              "      <th></th>\n",
              "    </tr>\n",
              "  </thead>\n",
              "  <tbody>\n",
              "    <tr>\n",
              "      <th>9</th>\n",
              "      <th>Burundi</th>\n",
              "      <th>108</th>\n",
              "      <th>B R</th>\n",
              "      <td>-5.241234</td>\n",
              "      <td>-14.112412</td>\n",
              "      <td>6.218568</td>\n",
              "      <td>6.093201</td>\n",
              "      <td>3.947771</td>\n",
              "    </tr>\n",
              "    <tr>\n",
              "      <th>10</th>\n",
              "      <th>Comoros</th>\n",
              "      <th>174</th>\n",
              "      <th>B</th>\n",
              "      <td>-0.10077</td>\n",
              "      <td>-0.10128</td>\n",
              "      <td>-1.027599</td>\n",
              "      <td>-1.08327</td>\n",
              "      <td>-0.226961</td>\n",
              "    </tr>\n",
              "    <tr>\n",
              "      <th>11</th>\n",
              "      <th>Djibouti</th>\n",
              "      <th>262</th>\n",
              "      <th>B R</th>\n",
              "      <td>-4.072257</td>\n",
              "      <td>0.121832</td>\n",
              "      <td>-3.089319</td>\n",
              "      <td>3.378474</td>\n",
              "      <td>1.967118</td>\n",
              "    </tr>\n",
              "    <tr>\n",
              "      <th>12</th>\n",
              "      <th>Eritrea</th>\n",
              "      <th>232</th>\n",
              "      <th>I</th>\n",
              "      <td>0.829532</td>\n",
              "      <td>0.796491</td>\n",
              "      <td>1.54323</td>\n",
              "      <td>1.429808</td>\n",
              "      <td>0.098724</td>\n",
              "    </tr>\n",
              "    <tr>\n",
              "      <th>13</th>\n",
              "      <th>Ethiopia</th>\n",
              "      <th>231</th>\n",
              "      <th>B R</th>\n",
              "      <td>-7.1798</td>\n",
              "      <td>-5.609625</td>\n",
              "      <td>-3.354252</td>\n",
              "      <td>1.996515</td>\n",
              "      <td>13.319515</td>\n",
              "    </tr>\n",
              "    <tr>\n",
              "      <th>...</th>\n",
              "      <th>...</th>\n",
              "      <th>...</th>\n",
              "      <th>...</th>\n",
              "      <td>...</td>\n",
              "      <td>...</td>\n",
              "      <td>...</td>\n",
              "      <td>...</td>\n",
              "      <td>...</td>\n",
              "    </tr>\n",
              "    <tr>\n",
              "      <th>261</th>\n",
              "      <th>Samoa</th>\n",
              "      <th>882</th>\n",
              "      <th>B</th>\n",
              "      <td>6.931983</td>\n",
              "      <td>5.117229</td>\n",
              "      <td>-0.638315</td>\n",
              "      <td>-2.08663</td>\n",
              "      <td>-0.545343</td>\n",
              "    </tr>\n",
              "    <tr>\n",
              "      <th>262</th>\n",
              "      <th>Tokelau</th>\n",
              "      <th>772</th>\n",
              "      <th>B</th>\n",
              "      <td>-0.167365</td>\n",
              "      <td>-0.168777</td>\n",
              "      <td>1.152582</td>\n",
              "      <td>11.577161</td>\n",
              "      <td>2.60325</td>\n",
              "    </tr>\n",
              "    <tr>\n",
              "      <th>263</th>\n",
              "      <th>Tonga</th>\n",
              "      <th>776</th>\n",
              "      <th>B</th>\n",
              "      <td>1.787022</td>\n",
              "      <td>1.80546</td>\n",
              "      <td>2.943277</td>\n",
              "      <td>3.023552</td>\n",
              "      <td>2.526318</td>\n",
              "    </tr>\n",
              "    <tr>\n",
              "      <th>264</th>\n",
              "      <th>Tuvalu</th>\n",
              "      <th>798</th>\n",
              "      <th>C</th>\n",
              "      <td>-3.646431</td>\n",
              "      <td>-3.611679</td>\n",
              "      <td>-3.152579</td>\n",
              "      <td>-3.452255</td>\n",
              "      <td>-1.819436</td>\n",
              "    </tr>\n",
              "    <tr>\n",
              "      <th>265</th>\n",
              "      <th>Wallis and Futuna Islands</th>\n",
              "      <th>876</th>\n",
              "      <th>B</th>\n",
              "      <td>3.886601</td>\n",
              "      <td>3.884553</td>\n",
              "      <td>3.217252</td>\n",
              "      <td>3.211913</td>\n",
              "      <td>0.516899</td>\n",
              "    </tr>\n",
              "  </tbody>\n",
              "</table>\n",
              "<p>232 rows × 5 columns</p>\n",
              "</div>\n",
              "      <button class=\"colab-df-convert\" onclick=\"convertToInteractive('df-801a0717-9aa8-495c-b12f-6de949a45d18')\"\n",
              "              title=\"Convert this dataframe to an interactive table.\"\n",
              "              style=\"display:none;\">\n",
              "        \n",
              "  <svg xmlns=\"http://www.w3.org/2000/svg\" height=\"24px\"viewBox=\"0 0 24 24\"\n",
              "       width=\"24px\">\n",
              "    <path d=\"M0 0h24v24H0V0z\" fill=\"none\"/>\n",
              "    <path d=\"M18.56 5.44l.94 2.06.94-2.06 2.06-.94-2.06-.94-.94-2.06-.94 2.06-2.06.94zm-11 1L8.5 8.5l.94-2.06 2.06-.94-2.06-.94L8.5 2.5l-.94 2.06-2.06.94zm10 10l.94 2.06.94-2.06 2.06-.94-2.06-.94-.94-2.06-.94 2.06-2.06.94z\"/><path d=\"M17.41 7.96l-1.37-1.37c-.4-.4-.92-.59-1.43-.59-.52 0-1.04.2-1.43.59L10.3 9.45l-7.72 7.72c-.78.78-.78 2.05 0 2.83L4 21.41c.39.39.9.59 1.41.59.51 0 1.02-.2 1.41-.59l7.78-7.78 2.81-2.81c.8-.78.8-2.07 0-2.86zM5.41 20L4 18.59l7.72-7.72 1.47 1.35L5.41 20z\"/>\n",
              "  </svg>\n",
              "      </button>\n",
              "      \n",
              "  <style>\n",
              "    .colab-df-container {\n",
              "      display:flex;\n",
              "      flex-wrap:wrap;\n",
              "      gap: 12px;\n",
              "    }\n",
              "\n",
              "    .colab-df-convert {\n",
              "      background-color: #E8F0FE;\n",
              "      border: none;\n",
              "      border-radius: 50%;\n",
              "      cursor: pointer;\n",
              "      display: none;\n",
              "      fill: #1967D2;\n",
              "      height: 32px;\n",
              "      padding: 0 0 0 0;\n",
              "      width: 32px;\n",
              "    }\n",
              "\n",
              "    .colab-df-convert:hover {\n",
              "      background-color: #E2EBFA;\n",
              "      box-shadow: 0px 1px 2px rgba(60, 64, 67, 0.3), 0px 1px 3px 1px rgba(60, 64, 67, 0.15);\n",
              "      fill: #174EA6;\n",
              "    }\n",
              "\n",
              "    [theme=dark] .colab-df-convert {\n",
              "      background-color: #3B4455;\n",
              "      fill: #D2E3FC;\n",
              "    }\n",
              "\n",
              "    [theme=dark] .colab-df-convert:hover {\n",
              "      background-color: #434B5C;\n",
              "      box-shadow: 0px 1px 3px 1px rgba(0, 0, 0, 0.15);\n",
              "      filter: drop-shadow(0px 1px 2px rgba(0, 0, 0, 0.3));\n",
              "      fill: #FFFFFF;\n",
              "    }\n",
              "  </style>\n",
              "\n",
              "      <script>\n",
              "        const buttonEl =\n",
              "          document.querySelector('#df-801a0717-9aa8-495c-b12f-6de949a45d18 button.colab-df-convert');\n",
              "        buttonEl.style.display =\n",
              "          google.colab.kernel.accessAllowed ? 'block' : 'none';\n",
              "\n",
              "        async function convertToInteractive(key) {\n",
              "          const element = document.querySelector('#df-801a0717-9aa8-495c-b12f-6de949a45d18');\n",
              "          const dataTable =\n",
              "            await google.colab.kernel.invokeFunction('convertToInteractive',\n",
              "                                                     [key], {});\n",
              "          if (!dataTable) return;\n",
              "\n",
              "          const docLinkHtml = 'Like what you see? Visit the ' +\n",
              "            '<a target=\"_blank\" href=https://colab.research.google.com/notebooks/data_table.ipynb>data table notebook</a>'\n",
              "            + ' to learn more about interactive tables.';\n",
              "          element.innerHTML = '';\n",
              "          dataTable['output_type'] = 'display_data';\n",
              "          await google.colab.output.renderOutput(dataTable, element);\n",
              "          const docLink = document.createElement('div');\n",
              "          docLink.innerHTML = docLinkHtml;\n",
              "          element.appendChild(docLink);\n",
              "        }\n",
              "      </script>\n",
              "    </div>\n",
              "  </div>\n",
              "  "
            ]
          },
          "metadata": {},
          "execution_count": 360
        }
      ]
    },
    {
      "cell_type": "markdown",
      "source": [
        "#########Table_06#########"
      ],
      "metadata": {
        "id": "8FJEryFgNOy7"
      }
    },
    {
      "cell_type": "code",
      "source": [
        "table_06"
      ],
      "metadata": {
        "id": "pac3jRhiNSu_"
      },
      "execution_count": null,
      "outputs": []
    },
    {
      "cell_type": "code",
      "source": [
        "table_6_1 = table_06.drop(table_06.index[0:15])\n",
        "table_6_1 #Drop 0-15 rows"
      ],
      "metadata": {
        "id": "_Nie1a5LNWYG"
      },
      "execution_count": null,
      "outputs": []
    },
    {
      "cell_type": "code",
      "source": [
        "table_6_1.columns=['Order','Name of Country','Notes','Country Code','Type of Data(a)','1990 Estimated refugee stock at mid-year both sexes',\n",
        "                  '1995 Estimated refugee stock at mid-year both sexes','2000 1995 Estimated refugee stock at mid-year both sexes',\n",
        "                  '2005 1995 Estimated refugee stock at mid-year both sexes',\n",
        "                  '2010 1995 Estimated refugee stock at mid-year both sexes','2015 1995 Estimated refugee stock at mid-year both sexes',\n",
        "                  '1990 Refugees as a percentage of the international migrant stock',\n",
        "                  '1995 Refugees as a percentage of the international migrant stock',\n",
        "                  '2000 Refugees as a percentage of the international migrant stock',\n",
        "                  '2005 Refugees as a percentage of the international migrant stock',\n",
        "                  '2010 Refugees as a percentage of the international migrant stock',\n",
        "                  '2015 Refugees as a percentage of the international migrant stock',\n",
        "                  '1990-1995 Annual rate of change of the refugee stock',\n",
        "                  '1995-2000 Annual rate of change of the refugee stocke',\n",
        "                  '2000-2005 Annual rate of change of the refugee stock',\n",
        "                  '2005-2010 Annual rate of change of the refugee stock',\n",
        "                  '2010-2015 Annual rate of change of the refugee stock']"
      ],
      "metadata": {
        "id": "ji1ZX1ACNg5X"
      },
      "execution_count": null,
      "outputs": []
    },
    {
      "cell_type": "code",
      "source": [
        "table_6_1"
      ],
      "metadata": {
        "id": "05hjVQV8PG7y"
      },
      "execution_count": null,
      "outputs": []
    },
    {
      "cell_type": "code",
      "source": [
        "tidy_table_06 = table_6_1.melt(id_vars=[\"Order\",\"Name of Country\",\"Notes\",\"Country Code\",\"Type of Data(a)\"],var_name=\"Years\",value_name=\"Refugee Stocks\")\n",
        "tidy_table_06"
      ],
      "metadata": {
        "id": "v9cxBHxYPe5z"
      },
      "execution_count": null,
      "outputs": []
    },
    {
      "cell_type": "code",
      "source": [
        "tidy_table_06[['Year', 'Annual_Rate_of_Change']] = tidy_table_06['Years'].str.split(' ', 1, expand=True)\n",
        "tidy_table_06.drop(\"Years\",axis=1)"
      ],
      "metadata": {
        "id": "gO0hfxxOiiGw"
      },
      "execution_count": null,
      "outputs": []
    },
    {
      "cell_type": "code",
      "source": [
        "tidy_table_06[\"Gender\"] = tidy_table_06.Annual_Rate_of_Change.apply(lambda x: \"Both Sexes\" if \"both sexes\" in x else \"NaN\")\n",
        "table_06_1 = tidy_table_06.drop(\"Years\",axis=1)\n",
        "table_06_1"
      ],
      "metadata": {
        "id": "1pxHsX7kk7yx"
      },
      "execution_count": null,
      "outputs": []
    }
  ]
}