{
  "nbformat": 4,
  "nbformat_minor": 0,
  "metadata": {
    "colab": {
      "provenance": [],
      "authorship_tag": "ABX9TyOqMawvqJTsq8OL/vvy+uQZ",
      "include_colab_link": true
    },
    "kernelspec": {
      "name": "python3",
      "display_name": "Python 3"
    },
    "language_info": {
      "name": "python"
    }
  },
  "cells": [
    {
      "cell_type": "markdown",
      "metadata": {
        "id": "view-in-github",
        "colab_type": "text"
      },
      "source": [
        "<a href=\"https://colab.research.google.com/github/moyanke/inf1340-programmingfordatascience-fa22/blob/main/MID__Sub_YankeMo.ipynb\" target=\"_parent\"><img src=\"https://colab.research.google.com/assets/colab-badge.svg\" alt=\"Open In Colab\"/></a>"
      ]
    },
    {
      "cell_type": "code",
      "execution_count": 68,
      "metadata": {
        "id": "KWf5445Ez39o"
      },
      "outputs": [],
      "source": [
        "import pandas as pd\n",
        "import numpy as np\n",
        "import matplotlib.pyplot as plt\n",
        "import seaborn as sns\n",
        "import plotly\n",
        "df = pd.read_excel('/content/UN_MigrantStockTotal_2015.xlsx')\n"
      ]
    },
    {
      "cell_type": "code",
      "source": [
        "table_01 = pd.read_excel('/content/UN_MigrantStockTotal_2015.xlsx', sheet_name='Table 1')\n",
        "table_02= pd.read_excel('/content/UN_MigrantStockTotal_2015.xlsx', sheet_name='Table 2')\n",
        "table_03= pd.read_excel('/content/UN_MigrantStockTotal_2015.xlsx', sheet_name='Table 3')\n",
        "table_04= pd.read_excel('/content/UN_MigrantStockTotal_2015.xlsx', sheet_name='Table 4')\n",
        "table_05= pd.read_excel('/content/UN_MigrantStockTotal_2015.xlsx', sheet_name='Table 5')\n",
        "table_06= pd.read_excel('/content/UN_MigrantStockTotal_2015.xlsx', sheet_name='Table 6')\n",
        "table_annex= pd.read_excel('/content/UN_MigrantStockTotal_2015.xlsx', sheet_name='ANNEX')\n",
        "table_notes= pd.read_excel('/content/UN_MigrantStockTotal_2015.xlsx', sheet_name='NOTES')\n"
      ],
      "metadata": {
        "id": "OfUDApV4Mp4h"
      },
      "execution_count": 69,
      "outputs": []
    },
    {
      "cell_type": "markdown",
      "source": [],
      "metadata": {
        "id": "Gkv36a5vFbX7"
      }
    },
    {
      "cell_type": "code",
      "source": [
        "table_01"
      ],
      "metadata": {
        "id": "kDDAUFkqSdv-"
      },
      "execution_count": null,
      "outputs": []
    },
    {
      "cell_type": "code",
      "source": [
        "table_1_1 = table_01.drop(table_01.index[0:15])\n",
        "table_1_1 #Drop 0-15 rows"
      ],
      "metadata": {
        "id": "CItHolXvS_yu"
      },
      "execution_count": null,
      "outputs": []
    },
    {
      "cell_type": "code",
      "source": [
        "table_1_1.columns"
      ],
      "metadata": {
        "id": "GCByV87xc3T3"
      },
      "execution_count": null,
      "outputs": []
    },
    {
      "cell_type": "code",
      "source": [
        "table_1_1.columns=['Order','Name of Country','Notes','Country Code','Type of Data(a)','1990 Migrant Stock Both Sex',\n",
        "                  '1995 Migrant Stock Both Sex','2000 Migrant Stock Both Sex','2005 Migrant Stock Both Sex',\n",
        "                  '2010 Migrant Stock Both Sex','2015 Migrant Stock Both Sex','1990 Migrant Stock Male',\n",
        "                  '1995 Migrant Stock Male','2000 Migrant Stock Male','2005 Migrant Stock Male','2010 Migrant Stock Male',\n",
        "                  '2015 Migrant Stock Male','1990 Migrant Stock Female','1995 Migrant Stock Female','2000 Migrant Stock Female',\n",
        "                  '2005 Migrant Stock Female','2010 Migrant Stock Female',\n",
        "                  '2015 Migrant Stock Female']"
      ],
      "metadata": {
        "id": "v1DSAlW0HiXQ"
      },
      "execution_count": 28,
      "outputs": []
    },
    {
      "cell_type": "code",
      "source": [
        "table_1_1 #rename the columns"
      ],
      "metadata": {
        "id": "Ji6saZ27J8Ez"
      },
      "execution_count": null,
      "outputs": []
    },
    {
      "cell_type": "code",
      "source": [
        "tidy_table_01 = table_1_1.melt(id_vars=[\"Order\",\"Name of Country\",\"Notes\",\"Country Code\",\"Type of Data(a)\"],var_name=\"Year\",value_name=\"Migrant Stock\")"
      ],
      "metadata": {
        "id": "T_cy6x7g-NkZ"
      },
      "execution_count": 29,
      "outputs": []
    },
    {
      "cell_type": "code",
      "source": [
        "tidy_table_01"
      ],
      "metadata": {
        "id": "3bCbsj2JdGrX"
      },
      "execution_count": null,
      "outputs": []
    },
    {
      "cell_type": "code",
      "source": [
        "tidy_table_01=(tidy_table_01.assign(year = lambda x: x.Year.str[:4].astype(str), Gender = lambda x: x.Year.str[18:].astype(str)).drop(\"Year\",axis=1))\n",
        "tidy_table_01.sort_values(by ='Order').reset_index().drop(columns = 'index') #Separate the Year cloumns into year, gemder, migrant stock"
      ],
      "metadata": {
        "id": "nN-gw1rIdMdk",
        "outputId": "2dfe8487-0a4e-480d-8607-aebb05725e65",
        "colab": {
          "base_uri": "https://localhost:8080/",
          "height": 424
        }
      },
      "execution_count": 30,
      "outputs": [
        {
          "output_type": "execute_result",
          "data": {
            "text/plain": [
              "     Order            Name of Country Notes Country Code Type of Data(a)  \\\n",
              "0        1                      WORLD   NaN          900             NaN   \n",
              "1        1                      WORLD   NaN          900             NaN   \n",
              "2        1                      WORLD   NaN          900             NaN   \n",
              "3        1                      WORLD   NaN          900             NaN   \n",
              "4        1                      WORLD   NaN          900             NaN   \n",
              "...    ...                        ...   ...          ...             ...   \n",
              "4765   265  Wallis and Futuna Islands   NaN          876               B   \n",
              "4766   265  Wallis and Futuna Islands   NaN          876               B   \n",
              "4767   265  Wallis and Futuna Islands   NaN          876               B   \n",
              "4768   265  Wallis and Futuna Islands   NaN          876               B   \n",
              "4769   265  Wallis and Futuna Islands   NaN          876               B   \n",
              "\n",
              "     Migrant Stock  year     Gender  \n",
              "0        152563212  1990   Both Sex  \n",
              "1         93402426  2005     Female  \n",
              "2         84818470  2000     Female  \n",
              "3        172703309  2000   Both Sex  \n",
              "4         79064275  1995     Female  \n",
              "...            ...   ...        ...  \n",
              "4765           676  1990     Female  \n",
              "4766           821  1995     Female  \n",
              "4767           997  2000     Female  \n",
              "4768           859  1995       Male  \n",
              "4769        1411.0  2015     Female  \n",
              "\n",
              "[4770 rows x 8 columns]"
            ],
            "text/html": [
              "\n",
              "  <div id=\"df-53ed77b5-d3dc-4dc1-bcca-b9613069ea85\">\n",
              "    <div class=\"colab-df-container\">\n",
              "      <div>\n",
              "<style scoped>\n",
              "    .dataframe tbody tr th:only-of-type {\n",
              "        vertical-align: middle;\n",
              "    }\n",
              "\n",
              "    .dataframe tbody tr th {\n",
              "        vertical-align: top;\n",
              "    }\n",
              "\n",
              "    .dataframe thead th {\n",
              "        text-align: right;\n",
              "    }\n",
              "</style>\n",
              "<table border=\"1\" class=\"dataframe\">\n",
              "  <thead>\n",
              "    <tr style=\"text-align: right;\">\n",
              "      <th></th>\n",
              "      <th>Order</th>\n",
              "      <th>Name of Country</th>\n",
              "      <th>Notes</th>\n",
              "      <th>Country Code</th>\n",
              "      <th>Type of Data(a)</th>\n",
              "      <th>Migrant Stock</th>\n",
              "      <th>year</th>\n",
              "      <th>Gender</th>\n",
              "    </tr>\n",
              "  </thead>\n",
              "  <tbody>\n",
              "    <tr>\n",
              "      <th>0</th>\n",
              "      <td>1</td>\n",
              "      <td>WORLD</td>\n",
              "      <td>NaN</td>\n",
              "      <td>900</td>\n",
              "      <td>NaN</td>\n",
              "      <td>152563212</td>\n",
              "      <td>1990</td>\n",
              "      <td>Both Sex</td>\n",
              "    </tr>\n",
              "    <tr>\n",
              "      <th>1</th>\n",
              "      <td>1</td>\n",
              "      <td>WORLD</td>\n",
              "      <td>NaN</td>\n",
              "      <td>900</td>\n",
              "      <td>NaN</td>\n",
              "      <td>93402426</td>\n",
              "      <td>2005</td>\n",
              "      <td>Female</td>\n",
              "    </tr>\n",
              "    <tr>\n",
              "      <th>2</th>\n",
              "      <td>1</td>\n",
              "      <td>WORLD</td>\n",
              "      <td>NaN</td>\n",
              "      <td>900</td>\n",
              "      <td>NaN</td>\n",
              "      <td>84818470</td>\n",
              "      <td>2000</td>\n",
              "      <td>Female</td>\n",
              "    </tr>\n",
              "    <tr>\n",
              "      <th>3</th>\n",
              "      <td>1</td>\n",
              "      <td>WORLD</td>\n",
              "      <td>NaN</td>\n",
              "      <td>900</td>\n",
              "      <td>NaN</td>\n",
              "      <td>172703309</td>\n",
              "      <td>2000</td>\n",
              "      <td>Both Sex</td>\n",
              "    </tr>\n",
              "    <tr>\n",
              "      <th>4</th>\n",
              "      <td>1</td>\n",
              "      <td>WORLD</td>\n",
              "      <td>NaN</td>\n",
              "      <td>900</td>\n",
              "      <td>NaN</td>\n",
              "      <td>79064275</td>\n",
              "      <td>1995</td>\n",
              "      <td>Female</td>\n",
              "    </tr>\n",
              "    <tr>\n",
              "      <th>...</th>\n",
              "      <td>...</td>\n",
              "      <td>...</td>\n",
              "      <td>...</td>\n",
              "      <td>...</td>\n",
              "      <td>...</td>\n",
              "      <td>...</td>\n",
              "      <td>...</td>\n",
              "      <td>...</td>\n",
              "    </tr>\n",
              "    <tr>\n",
              "      <th>4765</th>\n",
              "      <td>265</td>\n",
              "      <td>Wallis and Futuna Islands</td>\n",
              "      <td>NaN</td>\n",
              "      <td>876</td>\n",
              "      <td>B</td>\n",
              "      <td>676</td>\n",
              "      <td>1990</td>\n",
              "      <td>Female</td>\n",
              "    </tr>\n",
              "    <tr>\n",
              "      <th>4766</th>\n",
              "      <td>265</td>\n",
              "      <td>Wallis and Futuna Islands</td>\n",
              "      <td>NaN</td>\n",
              "      <td>876</td>\n",
              "      <td>B</td>\n",
              "      <td>821</td>\n",
              "      <td>1995</td>\n",
              "      <td>Female</td>\n",
              "    </tr>\n",
              "    <tr>\n",
              "      <th>4767</th>\n",
              "      <td>265</td>\n",
              "      <td>Wallis and Futuna Islands</td>\n",
              "      <td>NaN</td>\n",
              "      <td>876</td>\n",
              "      <td>B</td>\n",
              "      <td>997</td>\n",
              "      <td>2000</td>\n",
              "      <td>Female</td>\n",
              "    </tr>\n",
              "    <tr>\n",
              "      <th>4768</th>\n",
              "      <td>265</td>\n",
              "      <td>Wallis and Futuna Islands</td>\n",
              "      <td>NaN</td>\n",
              "      <td>876</td>\n",
              "      <td>B</td>\n",
              "      <td>859</td>\n",
              "      <td>1995</td>\n",
              "      <td>Male</td>\n",
              "    </tr>\n",
              "    <tr>\n",
              "      <th>4769</th>\n",
              "      <td>265</td>\n",
              "      <td>Wallis and Futuna Islands</td>\n",
              "      <td>NaN</td>\n",
              "      <td>876</td>\n",
              "      <td>B</td>\n",
              "      <td>1411.0</td>\n",
              "      <td>2015</td>\n",
              "      <td>Female</td>\n",
              "    </tr>\n",
              "  </tbody>\n",
              "</table>\n",
              "<p>4770 rows × 8 columns</p>\n",
              "</div>\n",
              "      <button class=\"colab-df-convert\" onclick=\"convertToInteractive('df-53ed77b5-d3dc-4dc1-bcca-b9613069ea85')\"\n",
              "              title=\"Convert this dataframe to an interactive table.\"\n",
              "              style=\"display:none;\">\n",
              "        \n",
              "  <svg xmlns=\"http://www.w3.org/2000/svg\" height=\"24px\"viewBox=\"0 0 24 24\"\n",
              "       width=\"24px\">\n",
              "    <path d=\"M0 0h24v24H0V0z\" fill=\"none\"/>\n",
              "    <path d=\"M18.56 5.44l.94 2.06.94-2.06 2.06-.94-2.06-.94-.94-2.06-.94 2.06-2.06.94zm-11 1L8.5 8.5l.94-2.06 2.06-.94-2.06-.94L8.5 2.5l-.94 2.06-2.06.94zm10 10l.94 2.06.94-2.06 2.06-.94-2.06-.94-.94-2.06-.94 2.06-2.06.94z\"/><path d=\"M17.41 7.96l-1.37-1.37c-.4-.4-.92-.59-1.43-.59-.52 0-1.04.2-1.43.59L10.3 9.45l-7.72 7.72c-.78.78-.78 2.05 0 2.83L4 21.41c.39.39.9.59 1.41.59.51 0 1.02-.2 1.41-.59l7.78-7.78 2.81-2.81c.8-.78.8-2.07 0-2.86zM5.41 20L4 18.59l7.72-7.72 1.47 1.35L5.41 20z\"/>\n",
              "  </svg>\n",
              "      </button>\n",
              "      \n",
              "  <style>\n",
              "    .colab-df-container {\n",
              "      display:flex;\n",
              "      flex-wrap:wrap;\n",
              "      gap: 12px;\n",
              "    }\n",
              "\n",
              "    .colab-df-convert {\n",
              "      background-color: #E8F0FE;\n",
              "      border: none;\n",
              "      border-radius: 50%;\n",
              "      cursor: pointer;\n",
              "      display: none;\n",
              "      fill: #1967D2;\n",
              "      height: 32px;\n",
              "      padding: 0 0 0 0;\n",
              "      width: 32px;\n",
              "    }\n",
              "\n",
              "    .colab-df-convert:hover {\n",
              "      background-color: #E2EBFA;\n",
              "      box-shadow: 0px 1px 2px rgba(60, 64, 67, 0.3), 0px 1px 3px 1px rgba(60, 64, 67, 0.15);\n",
              "      fill: #174EA6;\n",
              "    }\n",
              "\n",
              "    [theme=dark] .colab-df-convert {\n",
              "      background-color: #3B4455;\n",
              "      fill: #D2E3FC;\n",
              "    }\n",
              "\n",
              "    [theme=dark] .colab-df-convert:hover {\n",
              "      background-color: #434B5C;\n",
              "      box-shadow: 0px 1px 3px 1px rgba(0, 0, 0, 0.15);\n",
              "      filter: drop-shadow(0px 1px 2px rgba(0, 0, 0, 0.3));\n",
              "      fill: #FFFFFF;\n",
              "    }\n",
              "  </style>\n",
              "\n",
              "      <script>\n",
              "        const buttonEl =\n",
              "          document.querySelector('#df-53ed77b5-d3dc-4dc1-bcca-b9613069ea85 button.colab-df-convert');\n",
              "        buttonEl.style.display =\n",
              "          google.colab.kernel.accessAllowed ? 'block' : 'none';\n",
              "\n",
              "        async function convertToInteractive(key) {\n",
              "          const element = document.querySelector('#df-53ed77b5-d3dc-4dc1-bcca-b9613069ea85');\n",
              "          const dataTable =\n",
              "            await google.colab.kernel.invokeFunction('convertToInteractive',\n",
              "                                                     [key], {});\n",
              "          if (!dataTable) return;\n",
              "\n",
              "          const docLinkHtml = 'Like what you see? Visit the ' +\n",
              "            '<a target=\"_blank\" href=https://colab.research.google.com/notebooks/data_table.ipynb>data table notebook</a>'\n",
              "            + ' to learn more about interactive tables.';\n",
              "          element.innerHTML = '';\n",
              "          dataTable['output_type'] = 'display_data';\n",
              "          await google.colab.output.renderOutput(dataTable, element);\n",
              "          const docLink = document.createElement('div');\n",
              "          docLink.innerHTML = docLinkHtml;\n",
              "          element.appendChild(docLink);\n",
              "        }\n",
              "      </script>\n",
              "    </div>\n",
              "  </div>\n",
              "  "
            ]
          },
          "metadata": {},
          "execution_count": 30
        }
      ]
    },
    {
      "cell_type": "markdown",
      "source": [
        "##########Table_02##########"
      ],
      "metadata": {
        "id": "4s3a1dgBTCDw"
      }
    },
    {
      "cell_type": "code",
      "source": [
        "table_02"
      ],
      "metadata": {
        "id": "hgH4IzPr8ihu"
      },
      "execution_count": null,
      "outputs": []
    },
    {
      "cell_type": "code",
      "source": [
        "table_2_1 = table_02.drop(table_02.index[0:15])\n",
        "table_2_1 #Drop 0-15 rows"
      ],
      "metadata": {
        "id": "jtz3Uq25Rzji"
      },
      "execution_count": null,
      "outputs": []
    },
    {
      "cell_type": "code",
      "source": [
        "table_2_1.columns"
      ],
      "metadata": {
        "id": "NEl2GdAER5pG",
        "colab": {
          "base_uri": "https://localhost:8080/"
        },
        "outputId": "8ee9eb9c-42a9-4e20-dc4b-d3db363e949d"
      },
      "execution_count": 9,
      "outputs": [
        {
          "output_type": "execute_result",
          "data": {
            "text/plain": [
              "Index(['Unnamed: 0', 'Unnamed: 1', 'Unnamed: 2', 'Unnamed: 3', 'Unnamed: 4',\n",
              "       'Unnamed: 5', 'Unnamed: 6', 'Unnamed: 7', 'Unnamed: 8', 'Unnamed: 9',\n",
              "       'Unnamed: 10', 'Unnamed: 11', 'Unnamed: 12', 'Unnamed: 13',\n",
              "       'Unnamed: 14', 'Unnamed: 15', 'Unnamed: 16', 'Unnamed: 17',\n",
              "       'Unnamed: 18', 'Unnamed: 19', 'Unnamed: 20', 'Unnamed: 21'],\n",
              "      dtype='object')"
            ]
          },
          "metadata": {},
          "execution_count": 9
        }
      ]
    },
    {
      "cell_type": "code",
      "source": [
        "table_2_1.columns=['Order','Name of Country','Notes','Country Code','1990 Total Population Both Sex',\n",
        "                  '1995 Total Population Both Sex','2000 Total Population Both Sex','2005 Total Population Both Sex',\n",
        "                  '2010 Total Population Both Sex','2015 Total Population Both Sex','1990 Total Population Male',\n",
        "                  '1995 Total Population Male','2000 Total Population Male','2005 Total Populatio Male','2010 Total Population Male',\n",
        "                  '2015 Total Population Male','1990 Total Population Female','1995 Total Population Female','2000 Total Population Female',\n",
        "                  '2005 Total Population Female','2010 Total Population Female',\n",
        "                  '2015 Total Population Female']"
      ],
      "metadata": {
        "id": "PZoVnESUSDya"
      },
      "execution_count": 31,
      "outputs": []
    },
    {
      "cell_type": "code",
      "source": [
        "table_2_1"
      ],
      "metadata": {
        "id": "GvufzJfHU9tJ"
      },
      "execution_count": null,
      "outputs": []
    },
    {
      "cell_type": "code",
      "source": [
        "tidy_table_02 = table_2_1.melt(id_vars=[\"Order\",\"Name of Country\",\"Notes\",\"Country Code\"],var_name=\"Year\",value_name=\"Total Population\")"
      ],
      "metadata": {
        "id": "tDHCrIsEVNgS"
      },
      "execution_count": 32,
      "outputs": []
    },
    {
      "cell_type": "code",
      "source": [
        "tidy_table_02"
      ],
      "metadata": {
        "id": "lankDSehVcac"
      },
      "execution_count": null,
      "outputs": []
    },
    {
      "cell_type": "code",
      "source": [
        "tidy_table_02=(tidy_table_02.assign(year = lambda x: x.Year.str[:4].astype(str), Gender = lambda x: x.Year.str[22:].astype(str)).drop(\"Year\",axis=1))\n",
        "tidy_table_02.sort_values(by ='Order').reset_index().drop(columns = 'index') #Separate the Year cloumns into year, gemder, migrant stock #Separate the Year cloumns into year, gemder, total population"
      ],
      "metadata": {
        "id": "aFDJTxuQU3MI"
      },
      "execution_count": null,
      "outputs": []
    },
    {
      "cell_type": "markdown",
      "source": [
        "maybe we can split 1990, 1995, 2000...into different column,based on the \n",
        "notebooks in the Guthub, can we used NaN in it."
      ],
      "metadata": {
        "id": "yZlJ8R6pknY6"
      }
    },
    {
      "cell_type": "code",
      "source": [
        "#write up of what violation you find, five page at least with picture. \n",
        "#use table_01.set_index(\"Name of area\", inpplace = True)把name of area 变成中心指标\n"
      ],
      "metadata": {
        "id": "dKPqBXDtkux-"
      },
      "execution_count": null,
      "outputs": []
    },
    {
      "cell_type": "markdown",
      "source": [
        "##########Table_03##########"
      ],
      "metadata": {
        "id": "st_R0Tc6TYxm"
      }
    },
    {
      "cell_type": "code",
      "source": [
        "table_03"
      ],
      "metadata": {
        "id": "L0aTdtP-TXHS"
      },
      "execution_count": null,
      "outputs": []
    },
    {
      "cell_type": "code",
      "source": [
        "table_3_1 = table_03.drop(table_03.index[0:15])\n",
        "table_3_1 #Drop 0-15 rows"
      ],
      "metadata": {
        "id": "bcihLaaJTjSs"
      },
      "execution_count": null,
      "outputs": []
    },
    {
      "cell_type": "code",
      "source": [
        "table_3_1.columns=['Order','Name of Country','Notes','Country Code','Type of Data(a)','1990 Migrant Stock Percentage for Both Sex',\n",
        "                  '1995 Migrant Stock Percentage for Both Sex','2000 Migrant Stock Percentage for Both Sex','2005 Migrant Stock Percentage for Both Sex',\n",
        "                  '2010 Migrant Stock Percentage for Both Sex','2015 Migrant Stock Percentage for Both Sex','1990 Migrant Stock Percentage for Male',\n",
        "                  '1995 Migrant Stock Percentage for Male','2000 Migrant Stock Percentage for Male','2005 Migrant Stock Percentage for Male','2010 Migrant Stock Percentage for Male',\n",
        "                  '2015 Migrant Stock Percentage for Male','1990 Migrant Stock Percentage for Female','1995 Migrant Stock Percentage for Female','2000 Migrant Stock Percentage for Female',\n",
        "                  '2005 Migrant Stock Percentage for Female','2010 Migrant Stock Percentage for Female',\n",
        "                  '2015 Migrant Stock Percentage for Female']"
      ],
      "metadata": {
        "id": "BHZA20sOZ1HV"
      },
      "execution_count": 33,
      "outputs": []
    },
    {
      "cell_type": "code",
      "source": [
        "table_3_1"
      ],
      "metadata": {
        "id": "BL__6fx0bWyT"
      },
      "execution_count": null,
      "outputs": []
    },
    {
      "cell_type": "code",
      "source": [
        "tidy_table_03 = table_3_1.melt(id_vars=[\"Order\",\"Name of Country\",\"Notes\",\"Country Code\",\"Type of Data(a)\"],var_name=\"Years\",value_name=\"International Migrant Stock as Percentage of Total Population\")"
      ],
      "metadata": {
        "id": "LXiFtcImbdqE"
      },
      "execution_count": 34,
      "outputs": []
    },
    {
      "cell_type": "code",
      "source": [
        "tidy_table_03"
      ],
      "metadata": {
        "id": "YlL1RLwub3M3"
      },
      "execution_count": null,
      "outputs": []
    },
    {
      "cell_type": "code",
      "source": [
        "tidy_table_03=(tidy_table_03.assign(year = lambda x: x.Years.str[:4].astype(str), Gender = lambda x: x.Years.str[33:].astype(str)).drop(\"Years\",axis=1))\n",
        "tidy_table_03.sort_values(by ='Order').reset_index().drop(columns = 'index') #Separate the Year cloumns into year, gemder, migrant stock"
      ],
      "metadata": {
        "id": "m3ddok7lb_oq"
      },
      "execution_count": null,
      "outputs": []
    },
    {
      "cell_type": "markdown",
      "source": [
        "########Table_4##########"
      ],
      "metadata": {
        "id": "tXHdhXmitVNK"
      }
    },
    {
      "cell_type": "code",
      "source": [
        "table_04"
      ],
      "metadata": {
        "id": "cenzXilstZrs"
      },
      "execution_count": null,
      "outputs": []
    },
    {
      "cell_type": "code",
      "source": [
        "table_4_1 = table_04.drop(table_04.index[0:15])\n",
        "table_4_1 #Drop 0-15 rows"
      ],
      "metadata": {
        "id": "liKyB1L_tc3v"
      },
      "execution_count": null,
      "outputs": []
    },
    {
      "cell_type": "code",
      "source": [
        "table_4_1.columns=['Order','Name of Country','Notes','Country Code','Type of Data(a)',\n",
        "                   '1990 Female Migrants Stock Percentage Performance',\n",
        "                   '1995 Female Migrants Stock Percentage Performance',\n",
        "                   '2000 Female Migrants Stock Percentage Performance',\n",
        "                   '2005 Female Migrants Stock Percentage Performance',\n",
        "                   '2010 Female Migrants Stock Percentage Performance',\n",
        "                   '2015 Female Migrants Stock Percentage Performance']"
      ],
      "metadata": {
        "id": "Xtk0u90atj-b"
      },
      "execution_count": 35,
      "outputs": []
    },
    {
      "cell_type": "code",
      "source": [
        "tidy_table_04 = table_4_1.melt(id_vars=[\"Order\",\"Name of Country\",\"Notes\",\"Country Code\",\"Type of Data(a)\"],var_name=\"Years\",value_name=\"Female Migrants Stock Percentage Performance\")"
      ],
      "metadata": {
        "id": "eyowhxFGumON"
      },
      "execution_count": 36,
      "outputs": []
    },
    {
      "cell_type": "code",
      "source": [
        "tidy_table_04"
      ],
      "metadata": {
        "id": "koZR65gevBvc"
      },
      "execution_count": null,
      "outputs": []
    },
    {
      "cell_type": "code",
      "source": [
        "tidy_table_04=(tidy_table_04.assign(Year = lambda x: x.Years.str[:4].astype(str), Gender = lambda x: x.Years.str[5:11].astype(str)).drop(\"Years\",axis=1))\n",
        "tidy_table_04.sort_values(by ='Order').reset_index().drop(columns = 'index') #Separate the Year cloumns into year, gemder, migrant stock"
      ],
      "metadata": {
        "id": "sxIBE7klu4Z5"
      },
      "execution_count": null,
      "outputs": []
    },
    {
      "cell_type": "markdown",
      "source": [
        "###########Table_5############"
      ],
      "metadata": {
        "id": "DzqoYeWOvgUC"
      }
    },
    {
      "cell_type": "code",
      "source": [
        "table_05"
      ],
      "metadata": {
        "id": "BFCNfBJqvjum"
      },
      "execution_count": null,
      "outputs": []
    },
    {
      "cell_type": "code",
      "source": [
        "table_5_1 = table_05.drop(table_05.index[0:15])\n",
        "table_5_1 #Drop 0-15 rows"
      ],
      "metadata": {
        "id": "Y6wA0qvRFJhn"
      },
      "execution_count": null,
      "outputs": []
    },
    {
      "cell_type": "code",
      "source": [
        "table_5_1.columns=['Order','Name of Country','Notes','Country Code','Type of Data(a)','1990-1995 Annual rate of change Both Sex',\n",
        "                  '1995-2000 Annual rate of change Both Sex','2000-2005 Annual rate of change Both Sex',\n",
        "                  '2005-2010 Annual rate of change Both Sex','2010-2015 Annual rate of change Both Sex',\n",
        "                  '1990-1995 Annual rate of change Male','1995-2000 Annual rate of change Male',\n",
        "                  '2000-2005 Annual rate of change Male','2005-2010 Annual rate of change Male',\n",
        "                  '2010-2015 Annual rate of change Male','1990-1995 Annual rate of change Female',\n",
        "                  '1995-2000 Annual rate of change Female','2000-2005 Annual rate of change Female',\n",
        "                  '2005-2010 Annual rate of change Female','2010-2015 Annual rate of change Female']"
      ],
      "metadata": {
        "id": "BS6UCoPdGDj1"
      },
      "execution_count": 37,
      "outputs": []
    },
    {
      "cell_type": "code",
      "source": [
        "tidy_table_05 = table_5_1.melt(id_vars=[\"Order\",\"Name of Country\",\"Notes\",\"Country Code\",\"Type of Data(a)\"],var_name=\"Years\",value_name=\"Annual Rate of Change of Migrant Stock\")"
      ],
      "metadata": {
        "id": "kttJEBXYKVWN"
      },
      "execution_count": 38,
      "outputs": []
    },
    {
      "cell_type": "code",
      "source": [
        "tidy_table_05"
      ],
      "metadata": {
        "id": "u89k--y_K0BL"
      },
      "execution_count": null,
      "outputs": []
    },
    {
      "cell_type": "code",
      "source": [
        "tidy_table_05=(tidy_table_05.assign(Year_Range = lambda x: x.Years.str[:8].astype(str), Gender = lambda x: x.Years.str[30:].astype(str)).drop(\"Years\",axis=1))\n",
        "tidy_table_05.sort_values(by ='Order').reset_index().drop(columns = 'index') #Separate the Year cloumns into year, gemder, migrant stock"
      ],
      "metadata": {
        "id": "Pk4QJ3ahK5bC"
      },
      "execution_count": null,
      "outputs": []
    },
    {
      "cell_type": "markdown",
      "source": [
        "#########Table_06#########"
      ],
      "metadata": {
        "id": "8FJEryFgNOy7"
      }
    },
    {
      "cell_type": "code",
      "source": [
        "table_06"
      ],
      "metadata": {
        "id": "pac3jRhiNSu_"
      },
      "execution_count": null,
      "outputs": []
    },
    {
      "cell_type": "code",
      "source": [
        "table_6_1 = table_06.drop(table_06.index[0:15])\n",
        "table_6_1 #Drop 0-15 rows"
      ],
      "metadata": {
        "id": "_Nie1a5LNWYG"
      },
      "execution_count": null,
      "outputs": []
    },
    {
      "cell_type": "code",
      "source": [
        "table_6_1.columns=['Order','Name of Country','Notes','Country Code','Type of Data(a)','1990 Estimated refugee stock at mid-year both sexes',\n",
        "                  '1995 Estimated refugee stock at mid-year both sexes','2000 1995 Estimated refugee stock at mid-year both sexes',\n",
        "                  '2005 1995 Estimated refugee stock at mid-year both sexes',\n",
        "                  '2010 1995 Estimated refugee stock at mid-year both sexes','2015 1995 Estimated refugee stock at mid-year both sexes',\n",
        "                  '1990 Refugees as a percentage of the international migrant stock',\n",
        "                  '1995 Refugees as a percentage of the international migrant stock',\n",
        "                  '2000 Refugees as a percentage of the international migrant stock',\n",
        "                  '2005 Refugees as a percentage of the international migrant stock',\n",
        "                  '2010 Refugees as a percentage of the international migrant stock',\n",
        "                  '2015 Refugees as a percentage of the international migrant stock',\n",
        "                  '1990-1995 Annual rate of change of the refugee stock',\n",
        "                  '1995-2000 Annual rate of change of the refugee stocke',\n",
        "                  '2000-2005 Annual rate of change of the refugee stock',\n",
        "                  '2005-2010 Annual rate of change of the refugee stock',\n",
        "                  '2010-2015 Annual rate of change of the refugee stock']"
      ],
      "metadata": {
        "id": "ji1ZX1ACNg5X"
      },
      "execution_count": 85,
      "outputs": []
    },
    {
      "cell_type": "code",
      "source": [
        "table_6_1"
      ],
      "metadata": {
        "id": "05hjVQV8PG7y"
      },
      "execution_count": null,
      "outputs": []
    },
    {
      "cell_type": "code",
      "source": [
        "tidy_table_06 = table_6_1.melt(id_vars=[\"Order\",\"Name of Country\",\"Notes\",\"Country Code\",\"Type of Data(a)\"],var_name=\"Years\",value_name=\"Refugee Stocks\")\n",
        "tidy_table_06"
      ],
      "metadata": {
        "id": "v9cxBHxYPe5z"
      },
      "execution_count": null,
      "outputs": []
    },
    {
      "cell_type": "code",
      "source": [
        "tidy_table_06[['Year', 'Annual_Rate_of_Change']] = tidy_table_06['Years'].str.split(' ', 1, expand=True)\n",
        "tidy_table_06.drop(\"Years\",axis=1)"
      ],
      "metadata": {
        "id": "gO0hfxxOiiGw"
      },
      "execution_count": null,
      "outputs": []
    },
    {
      "cell_type": "code",
      "source": [
        "tidy_table_06[\"Gender\"] = tidy_table_06.Annual_Rate_of_Change.apply(lambda x: \"Both Sexes\" if \"both sexes\" in x else \"NaN\")\n",
        "tidy_table_06"
      ],
      "metadata": {
        "id": "1pxHsX7kk7yx"
      },
      "execution_count": null,
      "outputs": []
    }
  ]
}