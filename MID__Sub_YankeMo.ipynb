{
  "nbformat": 4,
  "nbformat_minor": 0,
  "metadata": {
    "colab": {
      "provenance": [],
      "authorship_tag": "ABX9TyMlQhOyQac/TrbFEMuvpis2",
      "include_colab_link": true
    },
    "kernelspec": {
      "name": "python3",
      "display_name": "Python 3"
    },
    "language_info": {
      "name": "python"
    }
  },
  "cells": [
    {
      "cell_type": "markdown",
      "metadata": {
        "id": "view-in-github",
        "colab_type": "text"
      },
      "source": [
        "<a href=\"https://colab.research.google.com/github/moyanke/inf1340-programmingfordatascience-fa22/blob/main/MID__Sub_YankeMo.ipynb\" target=\"_parent\"><img src=\"https://colab.research.google.com/assets/colab-badge.svg\" alt=\"Open In Colab\"/></a>"
      ]
    },
    {
      "cell_type": "code",
      "execution_count": 46,
      "metadata": {
        "id": "KWf5445Ez39o"
      },
      "outputs": [],
      "source": [
        "import pandas as pd\n",
        "import numpy as np\n",
        "import matplotlib.pyplot as plt\n",
        "import seaborn as sns\n",
        "import plotly\n",
        "df = pd.read_excel('/content/UN_MigrantStockTotal_2015.xlsx')\n"
      ]
    },
    {
      "cell_type": "code",
      "source": [
        "table_01 = pd.read_excel('/content/UN_MigrantStockTotal_2015.xlsx', sheet_name='Table 1')\n",
        "table_02= pd.read_excel('/content/UN_MigrantStockTotal_2015.xlsx', sheet_name='Table 2')\n",
        "table_03= pd.read_excel('/content/UN_MigrantStockTotal_2015.xlsx', sheet_name='Table 3')\n",
        "table_04= pd.read_excel('/content/UN_MigrantStockTotal_2015.xlsx', sheet_name='Table 4')\n",
        "table_05= pd.read_excel('/content/UN_MigrantStockTotal_2015.xlsx', sheet_name='Table 5')\n",
        "table_06= pd.read_excel('/content/UN_MigrantStockTotal_2015.xlsx', sheet_name='Table 6')\n",
        "table_annex= pd.read_excel('/content/UN_MigrantStockTotal_2015.xlsx', sheet_name='ANNEX')\n",
        "table_notes= pd.read_excel('/content/UN_MigrantStockTotal_2015.xlsx', sheet_name='NOTES')\n"
      ],
      "metadata": {
        "id": "OfUDApV4Mp4h"
      },
      "execution_count": 47,
      "outputs": []
    },
    {
      "cell_type": "markdown",
      "source": [],
      "metadata": {
        "id": "Gkv36a5vFbX7"
      }
    },
    {
      "cell_type": "code",
      "source": [
        "table_01"
      ],
      "metadata": {
        "id": "kDDAUFkqSdv-"
      },
      "execution_count": null,
      "outputs": []
    },
    {
      "cell_type": "code",
      "source": [
        "table_1_1 = table_01.drop(table_01.index[0:15])\n",
        "table_1_1 #Drop 0-15 rows"
      ],
      "metadata": {
        "id": "CItHolXvS_yu"
      },
      "execution_count": null,
      "outputs": []
    },
    {
      "cell_type": "code",
      "source": [
        "table_1_1.columns"
      ],
      "metadata": {
        "id": "GCByV87xc3T3",
        "colab": {
          "base_uri": "https://localhost:8080/"
        },
        "outputId": "d68fa91f-2fff-46ca-ab01-531a0d9bc923"
      },
      "execution_count": null,
      "outputs": [
        {
          "output_type": "execute_result",
          "data": {
            "text/plain": [
              "Index(['Unnamed: 0', 'Unnamed: 1', 'Unnamed: 2', 'Unnamed: 3', 'Unnamed: 4',\n",
              "       'Unnamed: 5', 'Unnamed: 6', 'Unnamed: 7', 'Unnamed: 8', 'Unnamed: 9',\n",
              "       'Unnamed: 10', 'Unnamed: 11', 'Unnamed: 12', 'Unnamed: 13',\n",
              "       'Unnamed: 14', 'Unnamed: 15', 'Unnamed: 16', 'Unnamed: 17',\n",
              "       'Unnamed: 18', 'Unnamed: 19', 'Unnamed: 20', 'Unnamed: 21',\n",
              "       'Unnamed: 22'],\n",
              "      dtype='object')"
            ]
          },
          "metadata": {},
          "execution_count": 6
        }
      ]
    },
    {
      "cell_type": "code",
      "source": [
        "table_1_1.columns=['Order','Name of Area','Notes','Country Code','Type of Data(a)','1990 Migrant Stock Both Sex',\n",
        "                  '1995 Migrant Stock Both Sex','2000 Migrant Stock Both Sex','2005 Migrant Stock Both Sex',\n",
        "                  '2010 Migrant Stock Both Sex','2015 Migrant Stock Both Sex','1990 Migrant Stock Male',\n",
        "                  '1995 Migrant Stock Male','2000 Migrant Stock Male','2005 Migrant Stock Male','2010 Migrant Stock Male',\n",
        "                  '2015 Migrant Stock Male','1990 Migrant Stock Female','1995 Migrant Stock Female','2000 Migrant Stock Female',\n",
        "                  '2005 Migrant Stock Female','2010 Migrant Stock Female',\n",
        "                  '2015 Migrant Stock Female']"
      ],
      "metadata": {
        "id": "v1DSAlW0HiXQ"
      },
      "execution_count": null,
      "outputs": []
    },
    {
      "cell_type": "code",
      "source": [
        "table_1_1 #rename the columns"
      ],
      "metadata": {
        "id": "Ji6saZ27J8Ez"
      },
      "execution_count": null,
      "outputs": []
    },
    {
      "cell_type": "code",
      "source": [
        "tidy_table_01 = table_1_1.melt(id_vars=[\"Order\",\"Name of Area\",\"Notes\",\"Country Code\",\"Type of Data(a)\"],var_name=\"Year\",value_name=\"Migrant Stock\")"
      ],
      "metadata": {
        "id": "T_cy6x7g-NkZ"
      },
      "execution_count": null,
      "outputs": []
    },
    {
      "cell_type": "code",
      "source": [
        "tidy_table_01"
      ],
      "metadata": {
        "id": "3bCbsj2JdGrX"
      },
      "execution_count": null,
      "outputs": []
    },
    {
      "cell_type": "code",
      "source": [
        "tidy_table_01=(tidy_table_01.assign(year = lambda x: x.Year.str[:4].astype(str), Gender = lambda x: x.Year.str[18:].astype(str)).drop(\"Year\",axis=1))\n",
        "tidy_table_01 #Separate the Year cloumns into year, gemder, migrant stock"
      ],
      "metadata": {
        "id": "nN-gw1rIdMdk"
      },
      "execution_count": null,
      "outputs": []
    },
    {
      "cell_type": "markdown",
      "source": [
        "##########Table_02##########"
      ],
      "metadata": {
        "id": "4s3a1dgBTCDw"
      }
    },
    {
      "cell_type": "code",
      "source": [
        "table_02"
      ],
      "metadata": {
        "id": "hgH4IzPr8ihu"
      },
      "execution_count": null,
      "outputs": []
    },
    {
      "cell_type": "code",
      "source": [
        "table_2_1 = table_02.drop(table_02.index[0:15])\n",
        "table_2_1 #Drop 0-15 rows"
      ],
      "metadata": {
        "id": "jtz3Uq25Rzji"
      },
      "execution_count": null,
      "outputs": []
    },
    {
      "cell_type": "code",
      "source": [
        "table_2_1.columns"
      ],
      "metadata": {
        "id": "NEl2GdAER5pG",
        "colab": {
          "base_uri": "https://localhost:8080/"
        },
        "outputId": "c4c32e8b-712e-49c7-c50f-08a9ed6c44e5"
      },
      "execution_count": null,
      "outputs": [
        {
          "output_type": "execute_result",
          "data": {
            "text/plain": [
              "Index(['Unnamed: 0', 'Unnamed: 1', 'Unnamed: 2', 'Unnamed: 3', 'Unnamed: 4',\n",
              "       'Unnamed: 5', 'Unnamed: 6', 'Unnamed: 7', 'Unnamed: 8', 'Unnamed: 9',\n",
              "       'Unnamed: 10', 'Unnamed: 11', 'Unnamed: 12', 'Unnamed: 13',\n",
              "       'Unnamed: 14', 'Unnamed: 15', 'Unnamed: 16', 'Unnamed: 17',\n",
              "       'Unnamed: 18', 'Unnamed: 19', 'Unnamed: 20', 'Unnamed: 21'],\n",
              "      dtype='object')"
            ]
          },
          "metadata": {},
          "execution_count": 83
        }
      ]
    },
    {
      "cell_type": "code",
      "source": [
        "table_2_1.columns=['Order','Name of Area','Notes','Country Code','1990 Total Population Both Sex',\n",
        "                  '1995 Total Population Both Sex','2000 Total Population Both Sex','2005 Total Population Both Sex',\n",
        "                  '2010 Total Population Both Sex','2015 Total Population Both Sex','1990 Total Population Male',\n",
        "                  '1995 Total Population Male','2000 Total Population Male','2005 Total Populatio Male','2010 Total Population Male',\n",
        "                  '2015 Total Population Male','1990 Total Population Female','1995 Total Population Female','2000 Total Population Female',\n",
        "                  '2005 Total Population Female','2010 Total Population Female',\n",
        "                  '2015 Total Population Female']"
      ],
      "metadata": {
        "id": "PZoVnESUSDya"
      },
      "execution_count": null,
      "outputs": []
    },
    {
      "cell_type": "code",
      "source": [
        "table_2_1"
      ],
      "metadata": {
        "id": "GvufzJfHU9tJ"
      },
      "execution_count": null,
      "outputs": []
    },
    {
      "cell_type": "code",
      "source": [
        "tidy_table_02 = table_2_1.melt(id_vars=[\"Order\",\"Name of Area\",\"Notes\",\"Country Code\"],var_name=\"Year\",value_name=\"Total Population\")"
      ],
      "metadata": {
        "id": "tDHCrIsEVNgS"
      },
      "execution_count": null,
      "outputs": []
    },
    {
      "cell_type": "code",
      "source": [
        "tidy_table_02"
      ],
      "metadata": {
        "id": "lankDSehVcac"
      },
      "execution_count": null,
      "outputs": []
    },
    {
      "cell_type": "code",
      "source": [
        "tidy_table_02=(tidy_table_02.assign(year = lambda x: x.Year.str[:4].astype(str), Gender = lambda x: x.Year.str[22:].astype(str)).drop(\"Year\",axis=1))\n",
        "tidy_table_02 #Separate the Year cloumns into year, gemder, total population"
      ],
      "metadata": {
        "id": "aFDJTxuQU3MI",
        "colab": {
          "base_uri": "https://localhost:8080/",
          "height": 423
        },
        "outputId": "40bec767-b005-44d6-8c54-b152063eb2ba"
      },
      "execution_count": null,
      "outputs": [
        {
          "output_type": "execute_result",
          "data": {
            "text/plain": [
              "     Order                                       Name of Area Notes  \\\n",
              "0        1                                              WORLD   NaN   \n",
              "1        2                                  Developed regions   (b)   \n",
              "2        3                                 Developing regions   (c)   \n",
              "3        4                          Least developed countries   (d)   \n",
              "4        5  Less developed regions excluding least develop...   NaN   \n",
              "...    ...                                                ...   ...   \n",
              "4765   261                                              Samoa   NaN   \n",
              "4766   262                                            Tokelau   NaN   \n",
              "4767   263                                              Tonga   NaN   \n",
              "4768   264                                             Tuvalu   NaN   \n",
              "4769   265                          Wallis and Futuna Islands   NaN   \n",
              "\n",
              "     Country Code Total Population  year    Gender  \n",
              "0             900      5309667.699  1990  Both Sex  \n",
              "1             901      1144463.062  1990  Both Sex  \n",
              "2             902      4165204.637  1990  Both Sex  \n",
              "3             941       510057.629  1990  Both Sex  \n",
              "4             934      3655147.008  1990  Both Sex  \n",
              "...           ...              ...   ...       ...  \n",
              "4765          882           93.584  2015    Female  \n",
              "4766          772               ..  2015    Female  \n",
              "4767          776           52.931  2015    Female  \n",
              "4768          798               ..  2015    Female  \n",
              "4769          876               ..  2015    Female  \n",
              "\n",
              "[4770 rows x 7 columns]"
            ],
            "text/html": [
              "\n",
              "  <div id=\"df-9653c81c-bed4-4539-a7c2-468bfefe1635\">\n",
              "    <div class=\"colab-df-container\">\n",
              "      <div>\n",
              "<style scoped>\n",
              "    .dataframe tbody tr th:only-of-type {\n",
              "        vertical-align: middle;\n",
              "    }\n",
              "\n",
              "    .dataframe tbody tr th {\n",
              "        vertical-align: top;\n",
              "    }\n",
              "\n",
              "    .dataframe thead th {\n",
              "        text-align: right;\n",
              "    }\n",
              "</style>\n",
              "<table border=\"1\" class=\"dataframe\">\n",
              "  <thead>\n",
              "    <tr style=\"text-align: right;\">\n",
              "      <th></th>\n",
              "      <th>Order</th>\n",
              "      <th>Name of Area</th>\n",
              "      <th>Notes</th>\n",
              "      <th>Country Code</th>\n",
              "      <th>Total Population</th>\n",
              "      <th>year</th>\n",
              "      <th>Gender</th>\n",
              "    </tr>\n",
              "  </thead>\n",
              "  <tbody>\n",
              "    <tr>\n",
              "      <th>0</th>\n",
              "      <td>1</td>\n",
              "      <td>WORLD</td>\n",
              "      <td>NaN</td>\n",
              "      <td>900</td>\n",
              "      <td>5309667.699</td>\n",
              "      <td>1990</td>\n",
              "      <td>Both Sex</td>\n",
              "    </tr>\n",
              "    <tr>\n",
              "      <th>1</th>\n",
              "      <td>2</td>\n",
              "      <td>Developed regions</td>\n",
              "      <td>(b)</td>\n",
              "      <td>901</td>\n",
              "      <td>1144463.062</td>\n",
              "      <td>1990</td>\n",
              "      <td>Both Sex</td>\n",
              "    </tr>\n",
              "    <tr>\n",
              "      <th>2</th>\n",
              "      <td>3</td>\n",
              "      <td>Developing regions</td>\n",
              "      <td>(c)</td>\n",
              "      <td>902</td>\n",
              "      <td>4165204.637</td>\n",
              "      <td>1990</td>\n",
              "      <td>Both Sex</td>\n",
              "    </tr>\n",
              "    <tr>\n",
              "      <th>3</th>\n",
              "      <td>4</td>\n",
              "      <td>Least developed countries</td>\n",
              "      <td>(d)</td>\n",
              "      <td>941</td>\n",
              "      <td>510057.629</td>\n",
              "      <td>1990</td>\n",
              "      <td>Both Sex</td>\n",
              "    </tr>\n",
              "    <tr>\n",
              "      <th>4</th>\n",
              "      <td>5</td>\n",
              "      <td>Less developed regions excluding least develop...</td>\n",
              "      <td>NaN</td>\n",
              "      <td>934</td>\n",
              "      <td>3655147.008</td>\n",
              "      <td>1990</td>\n",
              "      <td>Both Sex</td>\n",
              "    </tr>\n",
              "    <tr>\n",
              "      <th>...</th>\n",
              "      <td>...</td>\n",
              "      <td>...</td>\n",
              "      <td>...</td>\n",
              "      <td>...</td>\n",
              "      <td>...</td>\n",
              "      <td>...</td>\n",
              "      <td>...</td>\n",
              "    </tr>\n",
              "    <tr>\n",
              "      <th>4765</th>\n",
              "      <td>261</td>\n",
              "      <td>Samoa</td>\n",
              "      <td>NaN</td>\n",
              "      <td>882</td>\n",
              "      <td>93.584</td>\n",
              "      <td>2015</td>\n",
              "      <td>Female</td>\n",
              "    </tr>\n",
              "    <tr>\n",
              "      <th>4766</th>\n",
              "      <td>262</td>\n",
              "      <td>Tokelau</td>\n",
              "      <td>NaN</td>\n",
              "      <td>772</td>\n",
              "      <td>..</td>\n",
              "      <td>2015</td>\n",
              "      <td>Female</td>\n",
              "    </tr>\n",
              "    <tr>\n",
              "      <th>4767</th>\n",
              "      <td>263</td>\n",
              "      <td>Tonga</td>\n",
              "      <td>NaN</td>\n",
              "      <td>776</td>\n",
              "      <td>52.931</td>\n",
              "      <td>2015</td>\n",
              "      <td>Female</td>\n",
              "    </tr>\n",
              "    <tr>\n",
              "      <th>4768</th>\n",
              "      <td>264</td>\n",
              "      <td>Tuvalu</td>\n",
              "      <td>NaN</td>\n",
              "      <td>798</td>\n",
              "      <td>..</td>\n",
              "      <td>2015</td>\n",
              "      <td>Female</td>\n",
              "    </tr>\n",
              "    <tr>\n",
              "      <th>4769</th>\n",
              "      <td>265</td>\n",
              "      <td>Wallis and Futuna Islands</td>\n",
              "      <td>NaN</td>\n",
              "      <td>876</td>\n",
              "      <td>..</td>\n",
              "      <td>2015</td>\n",
              "      <td>Female</td>\n",
              "    </tr>\n",
              "  </tbody>\n",
              "</table>\n",
              "<p>4770 rows × 7 columns</p>\n",
              "</div>\n",
              "      <button class=\"colab-df-convert\" onclick=\"convertToInteractive('df-9653c81c-bed4-4539-a7c2-468bfefe1635')\"\n",
              "              title=\"Convert this dataframe to an interactive table.\"\n",
              "              style=\"display:none;\">\n",
              "        \n",
              "  <svg xmlns=\"http://www.w3.org/2000/svg\" height=\"24px\"viewBox=\"0 0 24 24\"\n",
              "       width=\"24px\">\n",
              "    <path d=\"M0 0h24v24H0V0z\" fill=\"none\"/>\n",
              "    <path d=\"M18.56 5.44l.94 2.06.94-2.06 2.06-.94-2.06-.94-.94-2.06-.94 2.06-2.06.94zm-11 1L8.5 8.5l.94-2.06 2.06-.94-2.06-.94L8.5 2.5l-.94 2.06-2.06.94zm10 10l.94 2.06.94-2.06 2.06-.94-2.06-.94-.94-2.06-.94 2.06-2.06.94z\"/><path d=\"M17.41 7.96l-1.37-1.37c-.4-.4-.92-.59-1.43-.59-.52 0-1.04.2-1.43.59L10.3 9.45l-7.72 7.72c-.78.78-.78 2.05 0 2.83L4 21.41c.39.39.9.59 1.41.59.51 0 1.02-.2 1.41-.59l7.78-7.78 2.81-2.81c.8-.78.8-2.07 0-2.86zM5.41 20L4 18.59l7.72-7.72 1.47 1.35L5.41 20z\"/>\n",
              "  </svg>\n",
              "      </button>\n",
              "      \n",
              "  <style>\n",
              "    .colab-df-container {\n",
              "      display:flex;\n",
              "      flex-wrap:wrap;\n",
              "      gap: 12px;\n",
              "    }\n",
              "\n",
              "    .colab-df-convert {\n",
              "      background-color: #E8F0FE;\n",
              "      border: none;\n",
              "      border-radius: 50%;\n",
              "      cursor: pointer;\n",
              "      display: none;\n",
              "      fill: #1967D2;\n",
              "      height: 32px;\n",
              "      padding: 0 0 0 0;\n",
              "      width: 32px;\n",
              "    }\n",
              "\n",
              "    .colab-df-convert:hover {\n",
              "      background-color: #E2EBFA;\n",
              "      box-shadow: 0px 1px 2px rgba(60, 64, 67, 0.3), 0px 1px 3px 1px rgba(60, 64, 67, 0.15);\n",
              "      fill: #174EA6;\n",
              "    }\n",
              "\n",
              "    [theme=dark] .colab-df-convert {\n",
              "      background-color: #3B4455;\n",
              "      fill: #D2E3FC;\n",
              "    }\n",
              "\n",
              "    [theme=dark] .colab-df-convert:hover {\n",
              "      background-color: #434B5C;\n",
              "      box-shadow: 0px 1px 3px 1px rgba(0, 0, 0, 0.15);\n",
              "      filter: drop-shadow(0px 1px 2px rgba(0, 0, 0, 0.3));\n",
              "      fill: #FFFFFF;\n",
              "    }\n",
              "  </style>\n",
              "\n",
              "      <script>\n",
              "        const buttonEl =\n",
              "          document.querySelector('#df-9653c81c-bed4-4539-a7c2-468bfefe1635 button.colab-df-convert');\n",
              "        buttonEl.style.display =\n",
              "          google.colab.kernel.accessAllowed ? 'block' : 'none';\n",
              "\n",
              "        async function convertToInteractive(key) {\n",
              "          const element = document.querySelector('#df-9653c81c-bed4-4539-a7c2-468bfefe1635');\n",
              "          const dataTable =\n",
              "            await google.colab.kernel.invokeFunction('convertToInteractive',\n",
              "                                                     [key], {});\n",
              "          if (!dataTable) return;\n",
              "\n",
              "          const docLinkHtml = 'Like what you see? Visit the ' +\n",
              "            '<a target=\"_blank\" href=https://colab.research.google.com/notebooks/data_table.ipynb>data table notebook</a>'\n",
              "            + ' to learn more about interactive tables.';\n",
              "          element.innerHTML = '';\n",
              "          dataTable['output_type'] = 'display_data';\n",
              "          await google.colab.output.renderOutput(dataTable, element);\n",
              "          const docLink = document.createElement('div');\n",
              "          docLink.innerHTML = docLinkHtml;\n",
              "          element.appendChild(docLink);\n",
              "        }\n",
              "      </script>\n",
              "    </div>\n",
              "  </div>\n",
              "  "
            ]
          },
          "metadata": {},
          "execution_count": 86
        }
      ]
    },
    {
      "cell_type": "markdown",
      "source": [
        "maybe we can split 1990, 1995, 2000...into different column,based on the \n",
        "notebooks in the Guthub, can we used NaN in it."
      ],
      "metadata": {
        "id": "yZlJ8R6pknY6"
      }
    },
    {
      "cell_type": "code",
      "source": [
        "#write up of what violation you find, five page at least with picture. \n",
        "#use table_01.set_index(\"Name of area\", inpplace = True)把name of area 变成中心指标\n"
      ],
      "metadata": {
        "id": "dKPqBXDtkux-"
      },
      "execution_count": null,
      "outputs": []
    },
    {
      "cell_type": "markdown",
      "source": [
        "##########Table_03##########"
      ],
      "metadata": {
        "id": "st_R0Tc6TYxm"
      }
    },
    {
      "cell_type": "code",
      "source": [
        "table_03"
      ],
      "metadata": {
        "id": "L0aTdtP-TXHS"
      },
      "execution_count": null,
      "outputs": []
    },
    {
      "cell_type": "code",
      "source": [
        "table_3_1 = table_03.drop(table_03.index[0:15])\n",
        "table_3_1 #Drop 0-15 rows"
      ],
      "metadata": {
        "id": "bcihLaaJTjSs"
      },
      "execution_count": null,
      "outputs": []
    },
    {
      "cell_type": "code",
      "source": [
        "table_3_1.columns=['Order','Name of Area','Notes','Country Code','Type of Data(a)','1990 Migrant Stock Percentage for Both Sex',\n",
        "                  '1995 Migrant Stock Percentage for Both Sex','2000 Migrant Stock Percentage for Both Sex','2005 Migrant Stock Percentage for Both Sex',\n",
        "                  '2010 Migrant Stock Percentage for Both Sex','2015 Migrant Stock Percentage for Both Sex','1990 Migrant Stock Percentage for Male',\n",
        "                  '1995 Migrant Stock Percentage for Male','2000 Migrant Stock Percentage for Male','2005 Migrant Stock Percentage for Male','2010 Migrant Stock Percentage for Male',\n",
        "                  '2015 Migrant Stock Percentage for Male','1990 Migrant Stock Percentage for Female','1995 Migrant Stock Percentage for Female','2000 Migrant Stock Percentage for Female',\n",
        "                  '2005 Migrant Stock Percentage for Female','2010 Migrant Stock Percentage for Female',\n",
        "                  '2015 Migrant Stock Percentage for Female']"
      ],
      "metadata": {
        "id": "BHZA20sOZ1HV"
      },
      "execution_count": null,
      "outputs": []
    },
    {
      "cell_type": "code",
      "source": [
        "table_3_1"
      ],
      "metadata": {
        "id": "BL__6fx0bWyT"
      },
      "execution_count": null,
      "outputs": []
    },
    {
      "cell_type": "code",
      "source": [
        "tidy_table_03 = table_3_1.melt(id_vars=[\"Order\",\"Name of Area\",\"Notes\",\"Country Code\",\"Type of Data(a)\"],var_name=\"Years\",value_name=\"International Migrant Stock as Percentage of Total Population\")"
      ],
      "metadata": {
        "id": "LXiFtcImbdqE"
      },
      "execution_count": null,
      "outputs": []
    },
    {
      "cell_type": "code",
      "source": [
        "tidy_table_03"
      ],
      "metadata": {
        "id": "YlL1RLwub3M3"
      },
      "execution_count": null,
      "outputs": []
    },
    {
      "cell_type": "code",
      "source": [
        "tidy_table_03=(tidy_table_03.assign(year = lambda x: x.Years.str[:4].astype(str), Gender = lambda x: x.Years.str[33:].astype(str)).drop(\"Years\",axis=1))\n",
        "tidy_table_03 #Separate the Year cloumns into year, gemder, migrant stock"
      ],
      "metadata": {
        "id": "m3ddok7lb_oq"
      },
      "execution_count": null,
      "outputs": []
    },
    {
      "cell_type": "markdown",
      "source": [
        "########Table_4##########"
      ],
      "metadata": {
        "id": "tXHdhXmitVNK"
      }
    },
    {
      "cell_type": "code",
      "source": [
        "table_04"
      ],
      "metadata": {
        "id": "cenzXilstZrs"
      },
      "execution_count": null,
      "outputs": []
    },
    {
      "cell_type": "code",
      "source": [
        "table_4_1 = table_04.drop(table_04.index[0:15])\n",
        "table_4_1 #Drop 0-15 rows"
      ],
      "metadata": {
        "id": "liKyB1L_tc3v"
      },
      "execution_count": null,
      "outputs": []
    },
    {
      "cell_type": "code",
      "source": [
        "table_4_1.columns=['Order','Name of Area','Notes','Country Code','Type of Data(a)',\n",
        "                   '1990 Female Migrants Stock Percentage Performance',\n",
        "                   '1995 Female Migrants Stock Percentage Performance',\n",
        "                   '2000 Female Migrants Stock Percentage Performance',\n",
        "                   '2005 Female Migrants Stock Percentage Performance',\n",
        "                   '2010 Female Migrants Stock Percentage Performance',\n",
        "                   '2015 Female Migrants Stock Percentage Performance']"
      ],
      "metadata": {
        "id": "Xtk0u90atj-b"
      },
      "execution_count": null,
      "outputs": []
    },
    {
      "cell_type": "code",
      "source": [
        "tidy_table_04 = table_4_1.melt(id_vars=[\"Order\",\"Name of Area\",\"Notes\",\"Country Code\",\"Type of Data(a)\"],var_name=\"Years\",value_name=\"Female Migrants Stock Percentage Performance\")"
      ],
      "metadata": {
        "id": "eyowhxFGumON"
      },
      "execution_count": null,
      "outputs": []
    },
    {
      "cell_type": "code",
      "source": [
        "tidy_table_04"
      ],
      "metadata": {
        "id": "koZR65gevBvc"
      },
      "execution_count": null,
      "outputs": []
    },
    {
      "cell_type": "code",
      "source": [
        "tidy_table_04=(tidy_table_04.assign(Year = lambda x: x.Years.str[:4].astype(str), Gender = lambda x: x.Years.str[5:11].astype(str)).drop(\"Years\",axis=1))\n",
        "tidy_table_04 #Separate the Year cloumns into year, gemder, migrant stock"
      ],
      "metadata": {
        "id": "sxIBE7klu4Z5"
      },
      "execution_count": null,
      "outputs": []
    },
    {
      "cell_type": "markdown",
      "source": [
        "###########Table_5############"
      ],
      "metadata": {
        "id": "DzqoYeWOvgUC"
      }
    },
    {
      "cell_type": "code",
      "source": [
        "table_05"
      ],
      "metadata": {
        "id": "BFCNfBJqvjum"
      },
      "execution_count": null,
      "outputs": []
    },
    {
      "cell_type": "code",
      "source": [
        "table_5_1 = table_05.drop(table_05.index[0:15])\n",
        "table_5_1 #Drop 0-15 rows"
      ],
      "metadata": {
        "id": "Y6wA0qvRFJhn"
      },
      "execution_count": null,
      "outputs": []
    },
    {
      "cell_type": "code",
      "source": [
        "table_5_1.columns=['Order','Name of Area','Notes','Country Code','Type of Data(a)','1990-1995 Annual rate of change Both Sex',\n",
        "                  '1995-2000 Annual rate of change Both Sex','2000-2005 Annual rate of change Both Sex',\n",
        "                  '2005-2010 Annual rate of change Both Sex','2010-2015 Annual rate of change Both Sex',\n",
        "                  '1990-1995 Annual rate of change Male','1995-2000 Annual rate of change Male',\n",
        "                  '2000-2005 Annual rate of change Male','2005-2010 Annual rate of change Male',\n",
        "                  '2010-2015 Annual rate of change Male','1990-1995 Annual rate of change Female',\n",
        "                  '1995-2000 Annual rate of change Female','2000-2005 Annual rate of change Female',\n",
        "                  '2005-2010 Annual rate of change Female','2010-2015 Annual rate of change Female']"
      ],
      "metadata": {
        "id": "BS6UCoPdGDj1"
      },
      "execution_count": null,
      "outputs": []
    },
    {
      "cell_type": "code",
      "source": [
        "tidy_table_05 = table_5_1.melt(id_vars=[\"Order\",\"Name of Area\",\"Notes\",\"Country Code\",\"Type of Data(a)\"],var_name=\"Years\",value_name=\"Annual Rate of Change of Migrant Stock\")"
      ],
      "metadata": {
        "id": "kttJEBXYKVWN"
      },
      "execution_count": null,
      "outputs": []
    },
    {
      "cell_type": "code",
      "source": [
        "tidy_table_05"
      ],
      "metadata": {
        "id": "u89k--y_K0BL"
      },
      "execution_count": null,
      "outputs": []
    },
    {
      "cell_type": "code",
      "source": [
        "tidy_table_05=(tidy_table_05.assign(Year_Range = lambda x: x.Years.str[:8].astype(str), Gender = lambda x: x.Years.str[30:].astype(str)).drop(\"Years\",axis=1))\n",
        "tidy_table_05 #Separate the Year cloumns into year, gemder, migrant stock"
      ],
      "metadata": {
        "id": "Pk4QJ3ahK5bC"
      },
      "execution_count": null,
      "outputs": []
    },
    {
      "cell_type": "markdown",
      "source": [
        "#########Table_06#########"
      ],
      "metadata": {
        "id": "8FJEryFgNOy7"
      }
    },
    {
      "cell_type": "code",
      "source": [
        "table_06"
      ],
      "metadata": {
        "id": "pac3jRhiNSu_"
      },
      "execution_count": null,
      "outputs": []
    },
    {
      "cell_type": "code",
      "source": [
        "table_6_1 = table_06.drop(table_06.index[0:15])\n",
        "table_6_1 #Drop 0-15 rows"
      ],
      "metadata": {
        "id": "_Nie1a5LNWYG"
      },
      "execution_count": null,
      "outputs": []
    },
    {
      "cell_type": "code",
      "source": [
        "table_6_1.columns=['Order','Name of Area','Notes','Country Code','Type of Data(a)','1990 Estimated refugee stock at mid-year both sexes',\n",
        "                  '1995 Estimated refugee stock at mid-year both sexes','2000 1995 Estimated refugee stock at mid-year both sexes',\n",
        "                  '2005 1995 Estimated refugee stock at mid-year both sexes',\n",
        "                  '2010 1995 Estimated refugee stock at mid-year both sexes','2015 1995 Estimated refugee stock at mid-year both sexes',\n",
        "                  '1990 Refugees as a percentage of the international migrant stock',\n",
        "                  '1995 Refugees as a percentage of the international migrant stock',\n",
        "                  '2000 Refugees as a percentage of the international migrant stock',\n",
        "                  '2005 Refugees as a percentage of the international migrant stock',\n",
        "                  '2010 Refugees as a percentage of the international migrant stock',\n",
        "                  '2015 Refugees as a percentage of the international migrant stock',\n",
        "                  '1990-1995 Annual rate of change of the refugee stock',\n",
        "                  '1995-2000 Annual rate of change of the refugee stocke',\n",
        "                  '2000-2005 Annual rate of change of the refugee stock',\n",
        "                  '2005-2010 Annual rate of change of the refugee stock',\n",
        "                  '2010-2015 Annual rate of change of the refugee stock']"
      ],
      "metadata": {
        "id": "ji1ZX1ACNg5X"
      },
      "execution_count": 50,
      "outputs": []
    },
    {
      "cell_type": "code",
      "source": [
        "table_6_1"
      ],
      "metadata": {
        "id": "05hjVQV8PG7y",
        "outputId": "a87663a4-1dc0-4a3c-d11c-7d1eb09556aa",
        "colab": {
          "base_uri": "https://localhost:8080/",
          "height": 783
        }
      },
      "execution_count": 51,
      "outputs": [
        {
          "output_type": "execute_result",
          "data": {
            "text/plain": [
              "    Order                                       Name of Area Notes  \\\n",
              "15      1                                              WORLD   NaN   \n",
              "16      2                                  Developed regions   (b)   \n",
              "17      3                                 Developing regions   (c)   \n",
              "18      4                          Least developed countries   (d)   \n",
              "19      5  Less developed regions excluding least develop...   NaN   \n",
              "..    ...                                                ...   ...   \n",
              "275   261                                              Samoa   NaN   \n",
              "276   262                                            Tokelau   NaN   \n",
              "277   263                                              Tonga   NaN   \n",
              "278   264                                             Tuvalu   NaN   \n",
              "279   265                          Wallis and Futuna Islands   NaN   \n",
              "\n",
              "    Country Code Type of Data(a)  \\\n",
              "15           900             NaN   \n",
              "16           901             NaN   \n",
              "17           902             NaN   \n",
              "18           941             NaN   \n",
              "19           934             NaN   \n",
              "..           ...             ...   \n",
              "275          882               B   \n",
              "276          772               B   \n",
              "277          776               B   \n",
              "278          798               C   \n",
              "279          876               B   \n",
              "\n",
              "    1990 Estimated refugee stock at mid-year both sexes  \\\n",
              "15                                            18836571    \n",
              "16                                             2014564    \n",
              "17                                            16822007    \n",
              "18                                             5048391    \n",
              "19                                            11773616    \n",
              "..                                                 ...    \n",
              "275                                                  0    \n",
              "276                                                  0    \n",
              "277                                                  0    \n",
              "278                                                  0    \n",
              "279                                                  0    \n",
              "\n",
              "    1995 Estimated refugee stock at mid-year both sexes  \\\n",
              "15                                            17853840    \n",
              "16                                             3609670    \n",
              "17                                            14244170    \n",
              "18                                             5160131    \n",
              "19                                             9084039    \n",
              "..                                                 ...    \n",
              "275                                                  0    \n",
              "276                                                  0    \n",
              "277                                                  0    \n",
              "278                                                  0    \n",
              "279                                                  0    \n",
              "\n",
              "    2000 1995 Estimated refugee stock at mid-year both sexes  \\\n",
              "15                                            15827803         \n",
              "16                                             2997256         \n",
              "17                                            12830547         \n",
              "18                                             3047488         \n",
              "19                                             9783059         \n",
              "..                                                 ...         \n",
              "275                                                  0         \n",
              "276                                                  0         \n",
              "277                                                  0         \n",
              "278                                                  0         \n",
              "279                                                  0         \n",
              "\n",
              "    2005 1995 Estimated refugee stock at mid-year both sexes  \\\n",
              "15                                            13276733         \n",
              "16                                             2361229         \n",
              "17                                            10915504         \n",
              "18                                             2363782         \n",
              "19                                             8551722         \n",
              "..                                                 ...         \n",
              "275                                                  0         \n",
              "276                                                  0         \n",
              "277                                                  0         \n",
              "278                                                  0         \n",
              "279                                                  0         \n",
              "\n",
              "     2010 1995 Estimated refugee stock at mid-year both sexes  ...  \\\n",
              "15                                          15370755.0         ...   \n",
              "16                                           2046917.0         ...   \n",
              "17                                          13323838.0         ...   \n",
              "18                                           1957884.0         ...   \n",
              "19                                          11365954.0         ...   \n",
              "..                                                 ...         ...   \n",
              "275                                                0.0         ...   \n",
              "276                                                0.0         ...   \n",
              "277                                                0.0         ...   \n",
              "278                                                0.0         ...   \n",
              "279                                                0.0         ...   \n",
              "\n",
              "     1995 Refugees as a percentage of the international migrant stock  \\\n",
              "15                                           11.103013                  \n",
              "16                                            3.910511                  \n",
              "17                                           20.795958                  \n",
              "18                                           44.041961                  \n",
              "19                                           15.999082                  \n",
              "..                                                 ...                  \n",
              "275                                                  0                  \n",
              "276                                                  0                  \n",
              "277                                                  0                  \n",
              "278                                                  0                  \n",
              "279                                                  0                  \n",
              "\n",
              "    2000 Refugees as a percentage of the international migrant stock  \\\n",
              "15                                            9.164736                 \n",
              "16                                            2.899391                 \n",
              "17                                           18.507035                 \n",
              "18                                           30.221557                 \n",
              "19                                            16.51313                 \n",
              "..                                                 ...                 \n",
              "275                                                  0                 \n",
              "276                                                  0                 \n",
              "277                                                  0                 \n",
              "278                                                  0                 \n",
              "279                                                  0                 \n",
              "\n",
              "    2005 Refugees as a percentage of the international migrant stock  \\\n",
              "15                                            6.941389                 \n",
              "16                                            2.015025                 \n",
              "17                                           14.733162                 \n",
              "18                                            24.08243                 \n",
              "19                                           13.305391                 \n",
              "..                                                 ...                 \n",
              "275                                                  0                 \n",
              "276                                                  0                 \n",
              "277                                                  0                 \n",
              "278                                                  0                 \n",
              "279                                                  0                 \n",
              "\n",
              "    2010 Refugees as a percentage of the international migrant stock  \\\n",
              "15                                            6.932687                 \n",
              "16                                            1.544140                 \n",
              "17                                           14.944759                 \n",
              "18                                           19.533425                 \n",
              "19                                           14.363526                 \n",
              "..                                                 ...                 \n",
              "275                                           0.000000                 \n",
              "276                                           0.000000                 \n",
              "277                                           0.000000                 \n",
              "278                                           0.000000                 \n",
              "279                                           0.000000                 \n",
              "\n",
              "    2015 Refugees as a percentage of the international migrant stock  \\\n",
              "15                                            8.033424                 \n",
              "16                                            1.391085                 \n",
              "17                                           17.073768                 \n",
              "18                                           28.801534                 \n",
              "19                                           15.537313                 \n",
              "..                                                 ...                 \n",
              "275                                           0.000000                 \n",
              "276                                           0.000000                 \n",
              "277                                           0.000000                 \n",
              "278                                           0.000000                 \n",
              "279                                           0.000000                 \n",
              "\n",
              "     1990-1995 Annual rate of change of the refugee stock  \\\n",
              "15                                           -2.123497      \n",
              "16                                            9.388424      \n",
              "17                                           -2.839417      \n",
              "18                                           -0.680327      \n",
              "19                                             -4.3836      \n",
              "..                                                 ...      \n",
              "275                                                 ..      \n",
              "276                                                 ..      \n",
              "277                                                 ..      \n",
              "278                                                 ..      \n",
              "279                                                 ..      \n",
              "\n",
              "     1995-2000 Annual rate of change of the refugee stocke  \\\n",
              "15                                           -3.837069       \n",
              "16                                           -5.983348       \n",
              "17                                           -2.332154       \n",
              "18                                           -7.531747       \n",
              "19                                            0.632489       \n",
              "..                                                 ...       \n",
              "275                                                 ..       \n",
              "276                                                 ..       \n",
              "277                                                 ..       \n",
              "278                                                 ..       \n",
              "279                                                 ..       \n",
              "\n",
              "    2000-2005 Annual rate of change of the refugee stock  \\\n",
              "15                                           -5.557223     \n",
              "16                                           -7.277379     \n",
              "17                                              -4.561     \n",
              "18                                           -4.541459     \n",
              "19                                           -4.319731     \n",
              "..                                                 ...     \n",
              "275                                                 ..     \n",
              "276                                                 ..     \n",
              "277                                                 ..     \n",
              "278                                                 ..     \n",
              "279                                                 ..     \n",
              "\n",
              "    2005-2010 Annual rate of change of the refugee stock  \\\n",
              "15                                           -0.025089     \n",
              "16                                           -5.323293     \n",
              "17                                            0.285195     \n",
              "18                                           -4.187109     \n",
              "19                                            1.530456     \n",
              "..                                                 ...     \n",
              "275                                                 ..     \n",
              "276                                                 ..     \n",
              "277                                                 ..     \n",
              "278                                                 ..     \n",
              "279                                                 ..     \n",
              "\n",
              "    2010-2015 Annual rate of change of the refugee stock  \n",
              "15                                            2.947267    \n",
              "16                                           -2.087656    \n",
              "17                                            2.663652    \n",
              "18                                            7.766031    \n",
              "19                                            1.571047    \n",
              "..                                                 ...    \n",
              "275                                                 ..    \n",
              "276                                                 ..    \n",
              "277                                                 ..    \n",
              "278                                                 ..    \n",
              "279                                                 ..    \n",
              "\n",
              "[265 rows x 22 columns]"
            ],
            "text/html": [
              "\n",
              "  <div id=\"df-576c380a-4a98-436b-993c-65f00f2e747b\">\n",
              "    <div class=\"colab-df-container\">\n",
              "      <div>\n",
              "<style scoped>\n",
              "    .dataframe tbody tr th:only-of-type {\n",
              "        vertical-align: middle;\n",
              "    }\n",
              "\n",
              "    .dataframe tbody tr th {\n",
              "        vertical-align: top;\n",
              "    }\n",
              "\n",
              "    .dataframe thead th {\n",
              "        text-align: right;\n",
              "    }\n",
              "</style>\n",
              "<table border=\"1\" class=\"dataframe\">\n",
              "  <thead>\n",
              "    <tr style=\"text-align: right;\">\n",
              "      <th></th>\n",
              "      <th>Order</th>\n",
              "      <th>Name of Area</th>\n",
              "      <th>Notes</th>\n",
              "      <th>Country Code</th>\n",
              "      <th>Type of Data(a)</th>\n",
              "      <th>1990 Estimated refugee stock at mid-year both sexes</th>\n",
              "      <th>1995 Estimated refugee stock at mid-year both sexes</th>\n",
              "      <th>2000 1995 Estimated refugee stock at mid-year both sexes</th>\n",
              "      <th>2005 1995 Estimated refugee stock at mid-year both sexes</th>\n",
              "      <th>2010 1995 Estimated refugee stock at mid-year both sexes</th>\n",
              "      <th>...</th>\n",
              "      <th>1995 Refugees as a percentage of the international migrant stock</th>\n",
              "      <th>2000 Refugees as a percentage of the international migrant stock</th>\n",
              "      <th>2005 Refugees as a percentage of the international migrant stock</th>\n",
              "      <th>2010 Refugees as a percentage of the international migrant stock</th>\n",
              "      <th>2015 Refugees as a percentage of the international migrant stock</th>\n",
              "      <th>1990-1995 Annual rate of change of the refugee stock</th>\n",
              "      <th>1995-2000 Annual rate of change of the refugee stocke</th>\n",
              "      <th>2000-2005 Annual rate of change of the refugee stock</th>\n",
              "      <th>2005-2010 Annual rate of change of the refugee stock</th>\n",
              "      <th>2010-2015 Annual rate of change of the refugee stock</th>\n",
              "    </tr>\n",
              "  </thead>\n",
              "  <tbody>\n",
              "    <tr>\n",
              "      <th>15</th>\n",
              "      <td>1</td>\n",
              "      <td>WORLD</td>\n",
              "      <td>NaN</td>\n",
              "      <td>900</td>\n",
              "      <td>NaN</td>\n",
              "      <td>18836571</td>\n",
              "      <td>17853840</td>\n",
              "      <td>15827803</td>\n",
              "      <td>13276733</td>\n",
              "      <td>15370755.0</td>\n",
              "      <td>...</td>\n",
              "      <td>11.103013</td>\n",
              "      <td>9.164736</td>\n",
              "      <td>6.941389</td>\n",
              "      <td>6.932687</td>\n",
              "      <td>8.033424</td>\n",
              "      <td>-2.123497</td>\n",
              "      <td>-3.837069</td>\n",
              "      <td>-5.557223</td>\n",
              "      <td>-0.025089</td>\n",
              "      <td>2.947267</td>\n",
              "    </tr>\n",
              "    <tr>\n",
              "      <th>16</th>\n",
              "      <td>2</td>\n",
              "      <td>Developed regions</td>\n",
              "      <td>(b)</td>\n",
              "      <td>901</td>\n",
              "      <td>NaN</td>\n",
              "      <td>2014564</td>\n",
              "      <td>3609670</td>\n",
              "      <td>2997256</td>\n",
              "      <td>2361229</td>\n",
              "      <td>2046917.0</td>\n",
              "      <td>...</td>\n",
              "      <td>3.910511</td>\n",
              "      <td>2.899391</td>\n",
              "      <td>2.015025</td>\n",
              "      <td>1.544140</td>\n",
              "      <td>1.391085</td>\n",
              "      <td>9.388424</td>\n",
              "      <td>-5.983348</td>\n",
              "      <td>-7.277379</td>\n",
              "      <td>-5.323293</td>\n",
              "      <td>-2.087656</td>\n",
              "    </tr>\n",
              "    <tr>\n",
              "      <th>17</th>\n",
              "      <td>3</td>\n",
              "      <td>Developing regions</td>\n",
              "      <td>(c)</td>\n",
              "      <td>902</td>\n",
              "      <td>NaN</td>\n",
              "      <td>16822007</td>\n",
              "      <td>14244170</td>\n",
              "      <td>12830547</td>\n",
              "      <td>10915504</td>\n",
              "      <td>13323838.0</td>\n",
              "      <td>...</td>\n",
              "      <td>20.795958</td>\n",
              "      <td>18.507035</td>\n",
              "      <td>14.733162</td>\n",
              "      <td>14.944759</td>\n",
              "      <td>17.073768</td>\n",
              "      <td>-2.839417</td>\n",
              "      <td>-2.332154</td>\n",
              "      <td>-4.561</td>\n",
              "      <td>0.285195</td>\n",
              "      <td>2.663652</td>\n",
              "    </tr>\n",
              "    <tr>\n",
              "      <th>18</th>\n",
              "      <td>4</td>\n",
              "      <td>Least developed countries</td>\n",
              "      <td>(d)</td>\n",
              "      <td>941</td>\n",
              "      <td>NaN</td>\n",
              "      <td>5048391</td>\n",
              "      <td>5160131</td>\n",
              "      <td>3047488</td>\n",
              "      <td>2363782</td>\n",
              "      <td>1957884.0</td>\n",
              "      <td>...</td>\n",
              "      <td>44.041961</td>\n",
              "      <td>30.221557</td>\n",
              "      <td>24.08243</td>\n",
              "      <td>19.533425</td>\n",
              "      <td>28.801534</td>\n",
              "      <td>-0.680327</td>\n",
              "      <td>-7.531747</td>\n",
              "      <td>-4.541459</td>\n",
              "      <td>-4.187109</td>\n",
              "      <td>7.766031</td>\n",
              "    </tr>\n",
              "    <tr>\n",
              "      <th>19</th>\n",
              "      <td>5</td>\n",
              "      <td>Less developed regions excluding least develop...</td>\n",
              "      <td>NaN</td>\n",
              "      <td>934</td>\n",
              "      <td>NaN</td>\n",
              "      <td>11773616</td>\n",
              "      <td>9084039</td>\n",
              "      <td>9783059</td>\n",
              "      <td>8551722</td>\n",
              "      <td>11365954.0</td>\n",
              "      <td>...</td>\n",
              "      <td>15.999082</td>\n",
              "      <td>16.51313</td>\n",
              "      <td>13.305391</td>\n",
              "      <td>14.363526</td>\n",
              "      <td>15.537313</td>\n",
              "      <td>-4.3836</td>\n",
              "      <td>0.632489</td>\n",
              "      <td>-4.319731</td>\n",
              "      <td>1.530456</td>\n",
              "      <td>1.571047</td>\n",
              "    </tr>\n",
              "    <tr>\n",
              "      <th>...</th>\n",
              "      <td>...</td>\n",
              "      <td>...</td>\n",
              "      <td>...</td>\n",
              "      <td>...</td>\n",
              "      <td>...</td>\n",
              "      <td>...</td>\n",
              "      <td>...</td>\n",
              "      <td>...</td>\n",
              "      <td>...</td>\n",
              "      <td>...</td>\n",
              "      <td>...</td>\n",
              "      <td>...</td>\n",
              "      <td>...</td>\n",
              "      <td>...</td>\n",
              "      <td>...</td>\n",
              "      <td>...</td>\n",
              "      <td>...</td>\n",
              "      <td>...</td>\n",
              "      <td>...</td>\n",
              "      <td>...</td>\n",
              "      <td>...</td>\n",
              "    </tr>\n",
              "    <tr>\n",
              "      <th>275</th>\n",
              "      <td>261</td>\n",
              "      <td>Samoa</td>\n",
              "      <td>NaN</td>\n",
              "      <td>882</td>\n",
              "      <td>B</td>\n",
              "      <td>0</td>\n",
              "      <td>0</td>\n",
              "      <td>0</td>\n",
              "      <td>0</td>\n",
              "      <td>0.0</td>\n",
              "      <td>...</td>\n",
              "      <td>0</td>\n",
              "      <td>0</td>\n",
              "      <td>0</td>\n",
              "      <td>0.000000</td>\n",
              "      <td>0.000000</td>\n",
              "      <td>..</td>\n",
              "      <td>..</td>\n",
              "      <td>..</td>\n",
              "      <td>..</td>\n",
              "      <td>..</td>\n",
              "    </tr>\n",
              "    <tr>\n",
              "      <th>276</th>\n",
              "      <td>262</td>\n",
              "      <td>Tokelau</td>\n",
              "      <td>NaN</td>\n",
              "      <td>772</td>\n",
              "      <td>B</td>\n",
              "      <td>0</td>\n",
              "      <td>0</td>\n",
              "      <td>0</td>\n",
              "      <td>0</td>\n",
              "      <td>0.0</td>\n",
              "      <td>...</td>\n",
              "      <td>0</td>\n",
              "      <td>0</td>\n",
              "      <td>0</td>\n",
              "      <td>0.000000</td>\n",
              "      <td>0.000000</td>\n",
              "      <td>..</td>\n",
              "      <td>..</td>\n",
              "      <td>..</td>\n",
              "      <td>..</td>\n",
              "      <td>..</td>\n",
              "    </tr>\n",
              "    <tr>\n",
              "      <th>277</th>\n",
              "      <td>263</td>\n",
              "      <td>Tonga</td>\n",
              "      <td>NaN</td>\n",
              "      <td>776</td>\n",
              "      <td>B</td>\n",
              "      <td>0</td>\n",
              "      <td>0</td>\n",
              "      <td>0</td>\n",
              "      <td>0</td>\n",
              "      <td>0.0</td>\n",
              "      <td>...</td>\n",
              "      <td>0</td>\n",
              "      <td>0</td>\n",
              "      <td>0</td>\n",
              "      <td>0.000000</td>\n",
              "      <td>0.000000</td>\n",
              "      <td>..</td>\n",
              "      <td>..</td>\n",
              "      <td>..</td>\n",
              "      <td>..</td>\n",
              "      <td>..</td>\n",
              "    </tr>\n",
              "    <tr>\n",
              "      <th>278</th>\n",
              "      <td>264</td>\n",
              "      <td>Tuvalu</td>\n",
              "      <td>NaN</td>\n",
              "      <td>798</td>\n",
              "      <td>C</td>\n",
              "      <td>0</td>\n",
              "      <td>0</td>\n",
              "      <td>0</td>\n",
              "      <td>0</td>\n",
              "      <td>0.0</td>\n",
              "      <td>...</td>\n",
              "      <td>0</td>\n",
              "      <td>0</td>\n",
              "      <td>0</td>\n",
              "      <td>0.000000</td>\n",
              "      <td>0.000000</td>\n",
              "      <td>..</td>\n",
              "      <td>..</td>\n",
              "      <td>..</td>\n",
              "      <td>..</td>\n",
              "      <td>..</td>\n",
              "    </tr>\n",
              "    <tr>\n",
              "      <th>279</th>\n",
              "      <td>265</td>\n",
              "      <td>Wallis and Futuna Islands</td>\n",
              "      <td>NaN</td>\n",
              "      <td>876</td>\n",
              "      <td>B</td>\n",
              "      <td>0</td>\n",
              "      <td>0</td>\n",
              "      <td>0</td>\n",
              "      <td>0</td>\n",
              "      <td>0.0</td>\n",
              "      <td>...</td>\n",
              "      <td>0</td>\n",
              "      <td>0</td>\n",
              "      <td>0</td>\n",
              "      <td>0.000000</td>\n",
              "      <td>0.000000</td>\n",
              "      <td>..</td>\n",
              "      <td>..</td>\n",
              "      <td>..</td>\n",
              "      <td>..</td>\n",
              "      <td>..</td>\n",
              "    </tr>\n",
              "  </tbody>\n",
              "</table>\n",
              "<p>265 rows × 22 columns</p>\n",
              "</div>\n",
              "      <button class=\"colab-df-convert\" onclick=\"convertToInteractive('df-576c380a-4a98-436b-993c-65f00f2e747b')\"\n",
              "              title=\"Convert this dataframe to an interactive table.\"\n",
              "              style=\"display:none;\">\n",
              "        \n",
              "  <svg xmlns=\"http://www.w3.org/2000/svg\" height=\"24px\"viewBox=\"0 0 24 24\"\n",
              "       width=\"24px\">\n",
              "    <path d=\"M0 0h24v24H0V0z\" fill=\"none\"/>\n",
              "    <path d=\"M18.56 5.44l.94 2.06.94-2.06 2.06-.94-2.06-.94-.94-2.06-.94 2.06-2.06.94zm-11 1L8.5 8.5l.94-2.06 2.06-.94-2.06-.94L8.5 2.5l-.94 2.06-2.06.94zm10 10l.94 2.06.94-2.06 2.06-.94-2.06-.94-.94-2.06-.94 2.06-2.06.94z\"/><path d=\"M17.41 7.96l-1.37-1.37c-.4-.4-.92-.59-1.43-.59-.52 0-1.04.2-1.43.59L10.3 9.45l-7.72 7.72c-.78.78-.78 2.05 0 2.83L4 21.41c.39.39.9.59 1.41.59.51 0 1.02-.2 1.41-.59l7.78-7.78 2.81-2.81c.8-.78.8-2.07 0-2.86zM5.41 20L4 18.59l7.72-7.72 1.47 1.35L5.41 20z\"/>\n",
              "  </svg>\n",
              "      </button>\n",
              "      \n",
              "  <style>\n",
              "    .colab-df-container {\n",
              "      display:flex;\n",
              "      flex-wrap:wrap;\n",
              "      gap: 12px;\n",
              "    }\n",
              "\n",
              "    .colab-df-convert {\n",
              "      background-color: #E8F0FE;\n",
              "      border: none;\n",
              "      border-radius: 50%;\n",
              "      cursor: pointer;\n",
              "      display: none;\n",
              "      fill: #1967D2;\n",
              "      height: 32px;\n",
              "      padding: 0 0 0 0;\n",
              "      width: 32px;\n",
              "    }\n",
              "\n",
              "    .colab-df-convert:hover {\n",
              "      background-color: #E2EBFA;\n",
              "      box-shadow: 0px 1px 2px rgba(60, 64, 67, 0.3), 0px 1px 3px 1px rgba(60, 64, 67, 0.15);\n",
              "      fill: #174EA6;\n",
              "    }\n",
              "\n",
              "    [theme=dark] .colab-df-convert {\n",
              "      background-color: #3B4455;\n",
              "      fill: #D2E3FC;\n",
              "    }\n",
              "\n",
              "    [theme=dark] .colab-df-convert:hover {\n",
              "      background-color: #434B5C;\n",
              "      box-shadow: 0px 1px 3px 1px rgba(0, 0, 0, 0.15);\n",
              "      filter: drop-shadow(0px 1px 2px rgba(0, 0, 0, 0.3));\n",
              "      fill: #FFFFFF;\n",
              "    }\n",
              "  </style>\n",
              "\n",
              "      <script>\n",
              "        const buttonEl =\n",
              "          document.querySelector('#df-576c380a-4a98-436b-993c-65f00f2e747b button.colab-df-convert');\n",
              "        buttonEl.style.display =\n",
              "          google.colab.kernel.accessAllowed ? 'block' : 'none';\n",
              "\n",
              "        async function convertToInteractive(key) {\n",
              "          const element = document.querySelector('#df-576c380a-4a98-436b-993c-65f00f2e747b');\n",
              "          const dataTable =\n",
              "            await google.colab.kernel.invokeFunction('convertToInteractive',\n",
              "                                                     [key], {});\n",
              "          if (!dataTable) return;\n",
              "\n",
              "          const docLinkHtml = 'Like what you see? Visit the ' +\n",
              "            '<a target=\"_blank\" href=https://colab.research.google.com/notebooks/data_table.ipynb>data table notebook</a>'\n",
              "            + ' to learn more about interactive tables.';\n",
              "          element.innerHTML = '';\n",
              "          dataTable['output_type'] = 'display_data';\n",
              "          await google.colab.output.renderOutput(dataTable, element);\n",
              "          const docLink = document.createElement('div');\n",
              "          docLink.innerHTML = docLinkHtml;\n",
              "          element.appendChild(docLink);\n",
              "        }\n",
              "      </script>\n",
              "    </div>\n",
              "  </div>\n",
              "  "
            ]
          },
          "metadata": {},
          "execution_count": 51
        }
      ]
    },
    {
      "cell_type": "code",
      "source": [
        "tidy_table_06 = table_6_1.melt(id_vars=[\"Order\",\"Name of Area\",\"Notes\",\"Country Code\",\"Type of Data(a)\"],var_name=\"Years\",value_name=\"Refugee Stocks\")\n",
        "tidy_table_06"
      ],
      "metadata": {
        "id": "v9cxBHxYPe5z",
        "outputId": "9b9f327f-f41f-4971-b630-8ee40d2aaceb",
        "colab": {
          "base_uri": "https://localhost:8080/",
          "height": 658
        }
      },
      "execution_count": 53,
      "outputs": [
        {
          "output_type": "execute_result",
          "data": {
            "text/plain": [
              "     Order                                       Name of Area Notes  \\\n",
              "0        1                                              WORLD   NaN   \n",
              "1        2                                  Developed regions   (b)   \n",
              "2        3                                 Developing regions   (c)   \n",
              "3        4                          Least developed countries   (d)   \n",
              "4        5  Less developed regions excluding least develop...   NaN   \n",
              "...    ...                                                ...   ...   \n",
              "4500   261                                              Samoa   NaN   \n",
              "4501   262                                            Tokelau   NaN   \n",
              "4502   263                                              Tonga   NaN   \n",
              "4503   264                                             Tuvalu   NaN   \n",
              "4504   265                          Wallis and Futuna Islands   NaN   \n",
              "\n",
              "     Country Code Type of Data(a)  \\\n",
              "0             900             NaN   \n",
              "1             901             NaN   \n",
              "2             902             NaN   \n",
              "3             941             NaN   \n",
              "4             934             NaN   \n",
              "...           ...             ...   \n",
              "4500          882               B   \n",
              "4501          772               B   \n",
              "4502          776               B   \n",
              "4503          798               C   \n",
              "4504          876               B   \n",
              "\n",
              "                                                  Years Refugee Stocks  \n",
              "0     1990 Estimated refugee stock at mid-year both ...       18836571  \n",
              "1     1990 Estimated refugee stock at mid-year both ...        2014564  \n",
              "2     1990 Estimated refugee stock at mid-year both ...       16822007  \n",
              "3     1990 Estimated refugee stock at mid-year both ...        5048391  \n",
              "4     1990 Estimated refugee stock at mid-year both ...       11773616  \n",
              "...                                                 ...            ...  \n",
              "4500  2010-2015 Annual rate of change of the refugee...             ..  \n",
              "4501  2010-2015 Annual rate of change of the refugee...             ..  \n",
              "4502  2010-2015 Annual rate of change of the refugee...             ..  \n",
              "4503  2010-2015 Annual rate of change of the refugee...             ..  \n",
              "4504  2010-2015 Annual rate of change of the refugee...             ..  \n",
              "\n",
              "[4505 rows x 7 columns]"
            ],
            "text/html": [
              "\n",
              "  <div id=\"df-047bcfeb-a21f-410f-92b5-d65495cff84c\">\n",
              "    <div class=\"colab-df-container\">\n",
              "      <div>\n",
              "<style scoped>\n",
              "    .dataframe tbody tr th:only-of-type {\n",
              "        vertical-align: middle;\n",
              "    }\n",
              "\n",
              "    .dataframe tbody tr th {\n",
              "        vertical-align: top;\n",
              "    }\n",
              "\n",
              "    .dataframe thead th {\n",
              "        text-align: right;\n",
              "    }\n",
              "</style>\n",
              "<table border=\"1\" class=\"dataframe\">\n",
              "  <thead>\n",
              "    <tr style=\"text-align: right;\">\n",
              "      <th></th>\n",
              "      <th>Order</th>\n",
              "      <th>Name of Area</th>\n",
              "      <th>Notes</th>\n",
              "      <th>Country Code</th>\n",
              "      <th>Type of Data(a)</th>\n",
              "      <th>Years</th>\n",
              "      <th>Refugee Stocks</th>\n",
              "    </tr>\n",
              "  </thead>\n",
              "  <tbody>\n",
              "    <tr>\n",
              "      <th>0</th>\n",
              "      <td>1</td>\n",
              "      <td>WORLD</td>\n",
              "      <td>NaN</td>\n",
              "      <td>900</td>\n",
              "      <td>NaN</td>\n",
              "      <td>1990 Estimated refugee stock at mid-year both ...</td>\n",
              "      <td>18836571</td>\n",
              "    </tr>\n",
              "    <tr>\n",
              "      <th>1</th>\n",
              "      <td>2</td>\n",
              "      <td>Developed regions</td>\n",
              "      <td>(b)</td>\n",
              "      <td>901</td>\n",
              "      <td>NaN</td>\n",
              "      <td>1990 Estimated refugee stock at mid-year both ...</td>\n",
              "      <td>2014564</td>\n",
              "    </tr>\n",
              "    <tr>\n",
              "      <th>2</th>\n",
              "      <td>3</td>\n",
              "      <td>Developing regions</td>\n",
              "      <td>(c)</td>\n",
              "      <td>902</td>\n",
              "      <td>NaN</td>\n",
              "      <td>1990 Estimated refugee stock at mid-year both ...</td>\n",
              "      <td>16822007</td>\n",
              "    </tr>\n",
              "    <tr>\n",
              "      <th>3</th>\n",
              "      <td>4</td>\n",
              "      <td>Least developed countries</td>\n",
              "      <td>(d)</td>\n",
              "      <td>941</td>\n",
              "      <td>NaN</td>\n",
              "      <td>1990 Estimated refugee stock at mid-year both ...</td>\n",
              "      <td>5048391</td>\n",
              "    </tr>\n",
              "    <tr>\n",
              "      <th>4</th>\n",
              "      <td>5</td>\n",
              "      <td>Less developed regions excluding least develop...</td>\n",
              "      <td>NaN</td>\n",
              "      <td>934</td>\n",
              "      <td>NaN</td>\n",
              "      <td>1990 Estimated refugee stock at mid-year both ...</td>\n",
              "      <td>11773616</td>\n",
              "    </tr>\n",
              "    <tr>\n",
              "      <th>...</th>\n",
              "      <td>...</td>\n",
              "      <td>...</td>\n",
              "      <td>...</td>\n",
              "      <td>...</td>\n",
              "      <td>...</td>\n",
              "      <td>...</td>\n",
              "      <td>...</td>\n",
              "    </tr>\n",
              "    <tr>\n",
              "      <th>4500</th>\n",
              "      <td>261</td>\n",
              "      <td>Samoa</td>\n",
              "      <td>NaN</td>\n",
              "      <td>882</td>\n",
              "      <td>B</td>\n",
              "      <td>2010-2015 Annual rate of change of the refugee...</td>\n",
              "      <td>..</td>\n",
              "    </tr>\n",
              "    <tr>\n",
              "      <th>4501</th>\n",
              "      <td>262</td>\n",
              "      <td>Tokelau</td>\n",
              "      <td>NaN</td>\n",
              "      <td>772</td>\n",
              "      <td>B</td>\n",
              "      <td>2010-2015 Annual rate of change of the refugee...</td>\n",
              "      <td>..</td>\n",
              "    </tr>\n",
              "    <tr>\n",
              "      <th>4502</th>\n",
              "      <td>263</td>\n",
              "      <td>Tonga</td>\n",
              "      <td>NaN</td>\n",
              "      <td>776</td>\n",
              "      <td>B</td>\n",
              "      <td>2010-2015 Annual rate of change of the refugee...</td>\n",
              "      <td>..</td>\n",
              "    </tr>\n",
              "    <tr>\n",
              "      <th>4503</th>\n",
              "      <td>264</td>\n",
              "      <td>Tuvalu</td>\n",
              "      <td>NaN</td>\n",
              "      <td>798</td>\n",
              "      <td>C</td>\n",
              "      <td>2010-2015 Annual rate of change of the refugee...</td>\n",
              "      <td>..</td>\n",
              "    </tr>\n",
              "    <tr>\n",
              "      <th>4504</th>\n",
              "      <td>265</td>\n",
              "      <td>Wallis and Futuna Islands</td>\n",
              "      <td>NaN</td>\n",
              "      <td>876</td>\n",
              "      <td>B</td>\n",
              "      <td>2010-2015 Annual rate of change of the refugee...</td>\n",
              "      <td>..</td>\n",
              "    </tr>\n",
              "  </tbody>\n",
              "</table>\n",
              "<p>4505 rows × 7 columns</p>\n",
              "</div>\n",
              "      <button class=\"colab-df-convert\" onclick=\"convertToInteractive('df-047bcfeb-a21f-410f-92b5-d65495cff84c')\"\n",
              "              title=\"Convert this dataframe to an interactive table.\"\n",
              "              style=\"display:none;\">\n",
              "        \n",
              "  <svg xmlns=\"http://www.w3.org/2000/svg\" height=\"24px\"viewBox=\"0 0 24 24\"\n",
              "       width=\"24px\">\n",
              "    <path d=\"M0 0h24v24H0V0z\" fill=\"none\"/>\n",
              "    <path d=\"M18.56 5.44l.94 2.06.94-2.06 2.06-.94-2.06-.94-.94-2.06-.94 2.06-2.06.94zm-11 1L8.5 8.5l.94-2.06 2.06-.94-2.06-.94L8.5 2.5l-.94 2.06-2.06.94zm10 10l.94 2.06.94-2.06 2.06-.94-2.06-.94-.94-2.06-.94 2.06-2.06.94z\"/><path d=\"M17.41 7.96l-1.37-1.37c-.4-.4-.92-.59-1.43-.59-.52 0-1.04.2-1.43.59L10.3 9.45l-7.72 7.72c-.78.78-.78 2.05 0 2.83L4 21.41c.39.39.9.59 1.41.59.51 0 1.02-.2 1.41-.59l7.78-7.78 2.81-2.81c.8-.78.8-2.07 0-2.86zM5.41 20L4 18.59l7.72-7.72 1.47 1.35L5.41 20z\"/>\n",
              "  </svg>\n",
              "      </button>\n",
              "      \n",
              "  <style>\n",
              "    .colab-df-container {\n",
              "      display:flex;\n",
              "      flex-wrap:wrap;\n",
              "      gap: 12px;\n",
              "    }\n",
              "\n",
              "    .colab-df-convert {\n",
              "      background-color: #E8F0FE;\n",
              "      border: none;\n",
              "      border-radius: 50%;\n",
              "      cursor: pointer;\n",
              "      display: none;\n",
              "      fill: #1967D2;\n",
              "      height: 32px;\n",
              "      padding: 0 0 0 0;\n",
              "      width: 32px;\n",
              "    }\n",
              "\n",
              "    .colab-df-convert:hover {\n",
              "      background-color: #E2EBFA;\n",
              "      box-shadow: 0px 1px 2px rgba(60, 64, 67, 0.3), 0px 1px 3px 1px rgba(60, 64, 67, 0.15);\n",
              "      fill: #174EA6;\n",
              "    }\n",
              "\n",
              "    [theme=dark] .colab-df-convert {\n",
              "      background-color: #3B4455;\n",
              "      fill: #D2E3FC;\n",
              "    }\n",
              "\n",
              "    [theme=dark] .colab-df-convert:hover {\n",
              "      background-color: #434B5C;\n",
              "      box-shadow: 0px 1px 3px 1px rgba(0, 0, 0, 0.15);\n",
              "      filter: drop-shadow(0px 1px 2px rgba(0, 0, 0, 0.3));\n",
              "      fill: #FFFFFF;\n",
              "    }\n",
              "  </style>\n",
              "\n",
              "      <script>\n",
              "        const buttonEl =\n",
              "          document.querySelector('#df-047bcfeb-a21f-410f-92b5-d65495cff84c button.colab-df-convert');\n",
              "        buttonEl.style.display =\n",
              "          google.colab.kernel.accessAllowed ? 'block' : 'none';\n",
              "\n",
              "        async function convertToInteractive(key) {\n",
              "          const element = document.querySelector('#df-047bcfeb-a21f-410f-92b5-d65495cff84c');\n",
              "          const dataTable =\n",
              "            await google.colab.kernel.invokeFunction('convertToInteractive',\n",
              "                                                     [key], {});\n",
              "          if (!dataTable) return;\n",
              "\n",
              "          const docLinkHtml = 'Like what you see? Visit the ' +\n",
              "            '<a target=\"_blank\" href=https://colab.research.google.com/notebooks/data_table.ipynb>data table notebook</a>'\n",
              "            + ' to learn more about interactive tables.';\n",
              "          element.innerHTML = '';\n",
              "          dataTable['output_type'] = 'display_data';\n",
              "          await google.colab.output.renderOutput(dataTable, element);\n",
              "          const docLink = document.createElement('div');\n",
              "          docLink.innerHTML = docLinkHtml;\n",
              "          element.appendChild(docLink);\n",
              "        }\n",
              "      </script>\n",
              "    </div>\n",
              "  </div>\n",
              "  "
            ]
          },
          "metadata": {},
          "execution_count": 53
        }
      ]
    }
  ]
}