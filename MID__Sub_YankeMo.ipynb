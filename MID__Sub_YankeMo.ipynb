{
  "nbformat": 4,
  "nbformat_minor": 0,
  "metadata": {
    "colab": {
      "provenance": [],
      "authorship_tag": "ABX9TyPC02Hst6g5DXJuAUF3xpus",
      "include_colab_link": true
    },
    "kernelspec": {
      "name": "python3",
      "display_name": "Python 3"
    },
    "language_info": {
      "name": "python"
    }
  },
  "cells": [
    {
      "cell_type": "markdown",
      "metadata": {
        "id": "view-in-github",
        "colab_type": "text"
      },
      "source": [
        "<a href=\"https://colab.research.google.com/github/moyanke/inf1340-programmingfordatascience-fa22/blob/main/MID__Sub_YankeMo.ipynb\" target=\"_parent\"><img src=\"https://colab.research.google.com/assets/colab-badge.svg\" alt=\"Open In Colab\"/></a>"
      ]
    },
    {
      "cell_type": "code",
      "execution_count": 1,
      "metadata": {
        "id": "KWf5445Ez39o"
      },
      "outputs": [],
      "source": [
        "import pandas as pd\n",
        "import numpy as np\n",
        "import matplotlib.pyplot as plt\n",
        "import seaborn as sns\n",
        "import plotly\n",
        "df = pd.read_excel('/content/UN_MigrantStockTotal_2015.xlsx')\n"
      ]
    },
    {
      "cell_type": "code",
      "source": [
        "table_01 = pd.read_excel('/content/UN_MigrantStockTotal_2015.xlsx', sheet_name='Table 1')\n",
        "table_02= pd.read_excel('/content/UN_MigrantStockTotal_2015.xlsx', sheet_name='Table 2')\n",
        "table_03= pd.read_excel('/content/UN_MigrantStockTotal_2015.xlsx', sheet_name='Table 3')\n",
        "table_04= pd.read_excel('/content/UN_MigrantStockTotal_2015.xlsx', sheet_name='Table 4')\n",
        "table_05= pd.read_excel('/content/UN_MigrantStockTotal_2015.xlsx', sheet_name='Table 5')\n",
        "table_06= pd.read_excel('/content/UN_MigrantStockTotal_2015.xlsx', sheet_name='Table 6')\n",
        "table_annex= pd.read_excel('/content/UN_MigrantStockTotal_2015.xlsx', sheet_name='ANNEX')\n",
        "table_notes= pd.read_excel('/content/UN_MigrantStockTotal_2015.xlsx', sheet_name='NOTES')\n"
      ],
      "metadata": {
        "id": "OfUDApV4Mp4h"
      },
      "execution_count": 3,
      "outputs": []
    },
    {
      "cell_type": "code",
      "source": [
        "table_01"
      ],
      "metadata": {
        "id": "kDDAUFkqSdv-"
      },
      "execution_count": null,
      "outputs": []
    },
    {
      "cell_type": "code",
      "source": [
        "table_1_1 = table_01.drop(table_01.index[0:15])\n",
        "table_1_1 #Drop 0-15 rows"
      ],
      "metadata": {
        "id": "CItHolXvS_yu"
      },
      "execution_count": null,
      "outputs": []
    },
    {
      "cell_type": "code",
      "source": [
        "table_1_1.columns"
      ],
      "metadata": {
        "id": "GCByV87xc3T3",
        "colab": {
          "base_uri": "https://localhost:8080/"
        },
        "outputId": "d68fa91f-2fff-46ca-ab01-531a0d9bc923"
      },
      "execution_count": 6,
      "outputs": [
        {
          "output_type": "execute_result",
          "data": {
            "text/plain": [
              "Index(['Unnamed: 0', 'Unnamed: 1', 'Unnamed: 2', 'Unnamed: 3', 'Unnamed: 4',\n",
              "       'Unnamed: 5', 'Unnamed: 6', 'Unnamed: 7', 'Unnamed: 8', 'Unnamed: 9',\n",
              "       'Unnamed: 10', 'Unnamed: 11', 'Unnamed: 12', 'Unnamed: 13',\n",
              "       'Unnamed: 14', 'Unnamed: 15', 'Unnamed: 16', 'Unnamed: 17',\n",
              "       'Unnamed: 18', 'Unnamed: 19', 'Unnamed: 20', 'Unnamed: 21',\n",
              "       'Unnamed: 22'],\n",
              "      dtype='object')"
            ]
          },
          "metadata": {},
          "execution_count": 6
        }
      ]
    },
    {
      "cell_type": "code",
      "source": [
        "table_1_1.columns=['Order','Name of Area','Notes','Country Code','Type of Data(a)','1990 Migrant Stock Both Sex',\n",
        "                  '1995 Migrant Stock Both Sex','2000 Migrant Stock Both Sex','2005 Migrant Stock Both Sex',\n",
        "                  '2010 Migrant Stock Both Sex','2015 Migrant Stock Both Sex','1990 Migrant Stock Male',\n",
        "                  '1995 Migrant Stock Male','2000 Migrant Stock Male','2005 Migrant Stock Male','2010 Migrant Stock Male',\n",
        "                  '2015 Migrant Stock Male','1990 Migrant Stock Female','1995 Migrant Stock Female)','2000 Migrant Stock Female',\n",
        "                  '2005 Migrant Stock Female','2010 Migrant Stock Female',\n",
        "                  '2015 Migrant Stock Female']"
      ],
      "metadata": {
        "id": "v1DSAlW0HiXQ"
      },
      "execution_count": 8,
      "outputs": []
    },
    {
      "cell_type": "code",
      "source": [
        "table_1_1 #rename the columns"
      ],
      "metadata": {
        "id": "Ji6saZ27J8Ez"
      },
      "execution_count": null,
      "outputs": []
    },
    {
      "cell_type": "code",
      "source": [
        "tidy_table_01 = table_1_1.melt(id_vars=[\"Order\",\"Name of Area\",\"Notes\",\"Country Code\",\"Type of Data(a)\"],var_name=\"Year\",value_name=\"Migrant Stock\")"
      ],
      "metadata": {
        "id": "T_cy6x7g-NkZ"
      },
      "execution_count": 10,
      "outputs": []
    },
    {
      "cell_type": "code",
      "source": [
        "tidy_table_01"
      ],
      "metadata": {
        "id": "3bCbsj2JdGrX"
      },
      "execution_count": null,
      "outputs": []
    },
    {
      "cell_type": "code",
      "source": [
        "tidy_table_01=(tidy_table_01.assign(year = lambda x: x.Year.str[:4].astype(str), Gender = lambda x: x.Year.str[18:].astype(str)).drop(\"Year\",axis=1))\n",
        "tidy_table_01 #Separate the Year cloumns into year, gemder, migrant stock"
      ],
      "metadata": {
        "id": "nN-gw1rIdMdk"
      },
      "execution_count": null,
      "outputs": []
    },
    {
      "cell_type": "code",
      "source": [
        "table_02"
      ],
      "metadata": {
        "id": "hgH4IzPr8ihu"
      },
      "execution_count": null,
      "outputs": []
    },
    {
      "cell_type": "code",
      "source": [
        "table_2_1 = table_02.drop(table_02.index[0:15])\n",
        "table_2_1 #Drop 0-15 rows"
      ],
      "metadata": {
        "id": "jtz3Uq25Rzji"
      },
      "execution_count": null,
      "outputs": []
    },
    {
      "cell_type": "code",
      "source": [
        "table_2_1.columns"
      ],
      "metadata": {
        "id": "NEl2GdAER5pG"
      },
      "execution_count": null,
      "outputs": []
    },
    {
      "cell_type": "code",
      "source": [
        "table_2_1.columns=['Order','Name of Area','Notes','Country Code','1990 Total Population Both Sex',\n",
        "                  '1995 Total Population Both Sex','2000 Total Population Both Sex','2005 Total Population Both Sex',\n",
        "                  '2010 Total Population Both Sex','2015 Total Population Both Sex','1990 Total Population Male',\n",
        "                  '1995 Total Population Male','2000 Total Population Male','2005 Total Populatio Male','2010 Total Population Male',\n",
        "                  '2015 Total Population Male','1990 Total Population Female','1995 Total Population Female)','2000 Total Population Female',\n",
        "                  '2005 Total Population Female','2010 Total Population Female',\n",
        "                  '2015 Total Population Female']"
      ],
      "metadata": {
        "id": "PZoVnESUSDya"
      },
      "execution_count": null,
      "outputs": []
    },
    {
      "cell_type": "code",
      "source": [
        "table_2_1"
      ],
      "metadata": {
        "id": "GvufzJfHU9tJ"
      },
      "execution_count": null,
      "outputs": []
    },
    {
      "cell_type": "code",
      "source": [
        "tidy_table_02 = table_2_1.melt(id_vars=[\"Order\",\"Name of Area\",\"Notes\",\"Country Code\"],var_name=\"Year\",value_name=\"Total Population\")"
      ],
      "metadata": {
        "id": "tDHCrIsEVNgS"
      },
      "execution_count": null,
      "outputs": []
    },
    {
      "cell_type": "code",
      "source": [
        "tidy_table_02"
      ],
      "metadata": {
        "id": "lankDSehVcac"
      },
      "execution_count": null,
      "outputs": []
    },
    {
      "cell_type": "code",
      "source": [
        "tidy_table_02=(tidy_table_02.assign(year = lambda x: x.Year.str[:4].astype(str), Gender = lambda x: x.Year.str[22:].astype(str)).drop(\"Year\",axis=1))\n",
        "tidy_table_02 #Separate the Year cloumns into year, gemder, total population"
      ],
      "metadata": {
        "id": "aFDJTxuQU3MI"
      },
      "execution_count": null,
      "outputs": []
    },
    {
      "cell_type": "markdown",
      "source": [
        "maybe we can split 1990, 1995, 2000...into different column,based on the \n",
        "# notebooks in the Guthub, can we used NaN in it. "
      ],
      "metadata": {
        "id": "yZlJ8R6pknY6"
      }
    },
    {
      "cell_type": "code",
      "source": [
        "#write up of what violation you find, five page at least with picture. "
      ],
      "metadata": {
        "id": "dKPqBXDtkux-"
      },
      "execution_count": null,
      "outputs": []
    }
  ]
}