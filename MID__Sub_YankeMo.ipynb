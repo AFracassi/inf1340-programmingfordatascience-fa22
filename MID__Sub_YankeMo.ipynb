{
  "nbformat": 4,
  "nbformat_minor": 0,
  "metadata": {
    "colab": {
      "provenance": [],
      "authorship_tag": "ABX9TyN4XkbGOUbC3RfN7z25y6Na",
      "include_colab_link": true
    },
    "kernelspec": {
      "name": "python3",
      "display_name": "Python 3"
    },
    "language_info": {
      "name": "python"
    }
  },
  "cells": [
    {
      "cell_type": "markdown",
      "metadata": {
        "id": "view-in-github",
        "colab_type": "text"
      },
      "source": [
        "<a href=\"https://colab.research.google.com/github/moyanke/inf1340-programmingfordatascience-fa22/blob/main/MID__Sub_YankeMo.ipynb\" target=\"_parent\"><img src=\"https://colab.research.google.com/assets/colab-badge.svg\" alt=\"Open In Colab\"/></a>"
      ]
    },
    {
      "cell_type": "code",
      "execution_count": 3,
      "metadata": {
        "id": "KWf5445Ez39o"
      },
      "outputs": [],
      "source": [
        "import pandas as pd\n",
        "import numpy as np\n",
        "import matplotlib.pyplot as plt\n",
        "import seaborn as sns\n",
        "import plotly\n",
        "df = pd.read_excel('/content/UN_MigrantStockTotal_2015.xlsx')\n"
      ]
    },
    {
      "cell_type": "code",
      "source": [
        "table_01 = pd.read_excel('/content/UN_MigrantStockTotal_2015.xlsx', sheet_name='Table 1')\n",
        "table_02= pd.read_excel('/content/UN_MigrantStockTotal_2015.xlsx', sheet_name='Table 2')\n",
        "table_03= pd.read_excel('/content/UN_MigrantStockTotal_2015.xlsx', sheet_name='Table 3')\n",
        "table_04= pd.read_excel('/content/UN_MigrantStockTotal_2015.xlsx', sheet_name='Table 4')\n",
        "table_05= pd.read_excel('/content/UN_MigrantStockTotal_2015.xlsx', sheet_name='Table 5')\n",
        "table_06= pd.read_excel('/content/UN_MigrantStockTotal_2015.xlsx', sheet_name='Table 6')\n",
        "table_annex= pd.read_excel('/content/UN_MigrantStockTotal_2015.xlsx', sheet_name='ANNEX')\n",
        "table_notes= pd.read_excel('/content/UN_MigrantStockTotal_2015.xlsx', sheet_name='NOTES')\n"
      ],
      "metadata": {
        "id": "OfUDApV4Mp4h"
      },
      "execution_count": 7,
      "outputs": []
    },
    {
      "cell_type": "code",
      "source": [],
      "metadata": {
        "id": "wuEf9jMQOCyD"
      },
      "execution_count": null,
      "outputs": []
    }
  ]
}