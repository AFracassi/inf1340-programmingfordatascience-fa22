{
  "nbformat": 4,
  "nbformat_minor": 0,
  "metadata": {
    "colab": {
      "provenance": [],
      "collapsed_sections": [],
      "authorship_tag": "ABX9TyPpKDb9iCDxrLh1S5ljbIgw",
      "include_colab_link": true
    },
    "kernelspec": {
      "name": "python3",
      "display_name": "Python 3"
    },
    "language_info": {
      "name": "python"
    }
  },
  "cells": [
    {
      "cell_type": "markdown",
      "metadata": {
        "id": "view-in-github",
        "colab_type": "text"
      },
      "source": [
        "<a href=\"https://colab.research.google.com/github/maidahshah/inf1340-programmingfordatascience-fa22/blob/main/INF1340_Week_6.ipynb\" target=\"_parent\"><img src=\"https://colab.research.google.com/assets/colab-badge.svg\" alt=\"Open In Colab\"/></a>"
      ]
    },
    {
      "cell_type": "code",
      "execution_count": null,
      "metadata": {
        "id": "blTv7eModEEX"
      },
      "outputs": [],
      "source": [
        "# ASSIGNMENT 1\n",
        "# for assignment 1, we must comment our code\n",
        "# submitting a jupyter notebook and a writeup through jupyter"
      ]
    },
    {
      "cell_type": "code",
      "source": [
        "# every row is a unique observation\n",
        "# every column represents a unqiue idea about the data\n",
        "# in this class, we will restrict to 4 levels of measurement from stats class\n",
        "# cells are unique combination of unique observation and unique measurement\n",
        "# if the column name contains useful information, then it should be inside *hint: this exists in UN dataset in multiple places, so we should correct this"
      ],
      "metadata": {
        "id": "bIsDEM-zfshm"
      },
      "execution_count": null,
      "outputs": []
    }
  ]
}